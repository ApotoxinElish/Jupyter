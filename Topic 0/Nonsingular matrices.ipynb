{
 "cells": [
  {
   "cell_type": "code",
   "execution_count": 1,
   "metadata": {},
   "outputs": [],
   "source": [
    "import sympy as sp\n",
    "import numpy as np\n"
   ]
  },
  {
   "cell_type": "code",
   "execution_count": 2,
   "metadata": {},
   "outputs": [
    {
     "data": {
      "text/latex": [
       "$\\displaystyle \\left[\\begin{matrix}1 & -2 & 5 & 0\\\\2 & 0 & 4 & -1\\\\3 & 1 & 0 & 7\\\\0 & 4 & -2 & 0\\end{matrix}\\right]$"
      ],
      "text/plain": [
       "Matrix([\n",
       "[1, -2,  5,  0],\n",
       "[2,  0,  4, -1],\n",
       "[3,  1,  0,  7],\n",
       "[0,  4, -2,  0]])"
      ]
     },
     "execution_count": 2,
     "metadata": {},
     "output_type": "execute_result"
    }
   ],
   "source": [
    "A = sp.Matrix([[1, -2, 5, 0], [2, 0, 4, -1], [3, 1, 0, 7], [0, 4, -2, 0]])\n",
    "A\n"
   ]
  },
  {
   "cell_type": "code",
   "execution_count": 3,
   "metadata": {},
   "outputs": [
    {
     "data": {
      "text/latex": [
       "$\\displaystyle \\left[\\begin{matrix}- \\frac{57}{79} & \\frac{56}{79} & \\frac{8}{79} & - \\frac{61}{158}\\\\\\frac{17}{79} & - \\frac{7}{79} & - \\frac{1}{79} & \\frac{57}{158}\\\\\\frac{34}{79} & - \\frac{14}{79} & - \\frac{2}{79} & \\frac{35}{158}\\\\\\frac{22}{79} & - \\frac{23}{79} & \\frac{8}{79} & \\frac{9}{79}\\end{matrix}\\right]$"
      ],
      "text/plain": [
       "Matrix([\n",
       "[-57/79,  56/79,  8/79, -61/158],\n",
       "[ 17/79,  -7/79, -1/79,  57/158],\n",
       "[ 34/79, -14/79, -2/79,  35/158],\n",
       "[ 22/79, -23/79,  8/79,    9/79]])"
      ]
     },
     "execution_count": 3,
     "metadata": {},
     "output_type": "execute_result"
    }
   ],
   "source": [
    "# Inverse @ SymPy\n",
    "A.inv()\n"
   ]
  },
  {
   "cell_type": "code",
   "execution_count": 4,
   "metadata": {},
   "outputs": [
    {
     "data": {
      "text/plain": [
       "array([[ 1, -2,  5,  0],\n",
       "       [ 2,  0,  4, -1],\n",
       "       [ 3,  1,  0,  7],\n",
       "       [ 0,  4, -2,  0]])"
      ]
     },
     "execution_count": 4,
     "metadata": {},
     "output_type": "execute_result"
    }
   ],
   "source": [
    "A = np.array([[1, -2, 5, 0], [2, 0, 4, -1], [3, 1, 0, 7], [0, 4, -2, 0]])\n",
    "A\n"
   ]
  },
  {
   "cell_type": "code",
   "execution_count": 5,
   "metadata": {},
   "outputs": [
    {
     "data": {
      "text/plain": [
       "array([[-0.72151899,  0.70886076,  0.10126582, -0.38607595],\n",
       "       [ 0.21518987, -0.08860759, -0.01265823,  0.36075949],\n",
       "       [ 0.43037975, -0.17721519, -0.02531646,  0.22151899],\n",
       "       [ 0.27848101, -0.29113924,  0.10126582,  0.11392405]])"
      ]
     },
     "execution_count": 5,
     "metadata": {},
     "output_type": "execute_result"
    }
   ],
   "source": [
    "# Inverse @ NumPy\n",
    "np.linalg.inv(A)\n"
   ]
  }
 ],
 "metadata": {
  "kernelspec": {
   "display_name": "Python 3",
   "language": "python",
   "name": "python3"
  },
  "language_info": {
   "codemirror_mode": {
    "name": "ipython",
    "version": 3
   },
   "file_extension": ".py",
   "mimetype": "text/x-python",
   "name": "python",
   "nbconvert_exporter": "python",
   "pygments_lexer": "ipython3",
   "version": "3.11.1"
  },
  "orig_nbformat": 4,
  "vscode": {
   "interpreter": {
    "hash": "3b03d3ad6b1336e6e4949d619e4badd72fec28959454a0e0d6a04b545beba08a"
   }
  }
 },
 "nbformat": 4,
 "nbformat_minor": 2
}
