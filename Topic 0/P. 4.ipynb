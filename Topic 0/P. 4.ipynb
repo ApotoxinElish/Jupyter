{
 "cells": [
  {
   "cell_type": "code",
   "execution_count": 1,
   "id": "6904139e",
   "metadata": {},
   "outputs": [],
   "source": [
    "import sympy as sp\n"
   ]
  },
  {
   "cell_type": "code",
   "execution_count": 2,
   "id": "64f188de",
   "metadata": {},
   "outputs": [
    {
     "data": {
      "text/latex": [
       "$\\displaystyle \\left[\\begin{matrix}1 & 1 & -1\\end{matrix}\\right]$"
      ],
      "text/plain": [
       "Matrix([[1, 1, -1]])"
      ]
     },
     "execution_count": 2,
     "metadata": {},
     "output_type": "execute_result"
    }
   ],
   "source": [
    "A = sp.Matrix([[1, 1, -1]])\n",
    "A\n"
   ]
  },
  {
   "cell_type": "code",
   "execution_count": 3,
   "id": "fea9f4f1",
   "metadata": {},
   "outputs": [
    {
     "data": {
      "text/latex": [
       "$\\displaystyle \\left[\\begin{matrix}2\\\\7\\\\8\\end{matrix}\\right]$"
      ],
      "text/plain": [
       "Matrix([\n",
       "[2],\n",
       "[7],\n",
       "[8]])"
      ]
     },
     "execution_count": 3,
     "metadata": {},
     "output_type": "execute_result"
    }
   ],
   "source": [
    "B = sp.Matrix([[2], [7], [8]])\n",
    "B\n"
   ]
  },
  {
   "cell_type": "code",
   "execution_count": 4,
   "id": "6b04435f",
   "metadata": {},
   "outputs": [
    {
     "data": {
      "text/latex": [
       "$\\displaystyle \\left[\\begin{matrix}1 & 2\\\\3 & 4\\end{matrix}\\right]$"
      ],
      "text/plain": [
       "Matrix([\n",
       "[1, 2],\n",
       "[3, 4]])"
      ]
     },
     "execution_count": 4,
     "metadata": {},
     "output_type": "execute_result"
    }
   ],
   "source": [
    "C = sp.Matrix([[1, 2], [3, 4]])\n",
    "C\n"
   ]
  },
  {
   "cell_type": "code",
   "execution_count": 5,
   "id": "16d1aa5e",
   "metadata": {},
   "outputs": [
    {
     "data": {
      "text/latex": [
       "$\\displaystyle \\left[\\begin{matrix}1 & -2 & 4\\\\5 & 0 & 3\\end{matrix}\\right]$"
      ],
      "text/plain": [
       "Matrix([\n",
       "[1, -2, 4],\n",
       "[5,  0, 3]])"
      ]
     },
     "execution_count": 5,
     "metadata": {},
     "output_type": "execute_result"
    }
   ],
   "source": [
    "D = sp.Matrix([[1, -2, 4], [5, 0, 3]])\n",
    "D\n"
   ]
  },
  {
   "cell_type": "code",
   "execution_count": null,
   "id": "6afb884a",
   "metadata": {},
   "outputs": [],
   "source": []
  }
 ],
 "metadata": {
  "kernelspec": {
   "display_name": "Python 3",
   "language": "python",
   "name": "python3"
  },
  "language_info": {
   "codemirror_mode": {
    "name": "ipython",
    "version": 3
   },
   "file_extension": ".py",
   "mimetype": "text/x-python",
   "name": "python",
   "nbconvert_exporter": "python",
   "pygments_lexer": "ipython3",
   "version": "3.11.1"
  },
  "vscode": {
   "interpreter": {
    "hash": "3b03d3ad6b1336e6e4949d619e4badd72fec28959454a0e0d6a04b545beba08a"
   }
  }
 },
 "nbformat": 4,
 "nbformat_minor": 5
}
