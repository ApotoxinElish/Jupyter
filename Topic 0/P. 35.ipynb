{
 "cells": [
  {
   "cell_type": "code",
   "execution_count": 1,
   "metadata": {},
   "outputs": [],
   "source": [
    "import sympy as sp\n"
   ]
  },
  {
   "cell_type": "code",
   "execution_count": 2,
   "metadata": {},
   "outputs": [
    {
     "data": {
      "text/latex": [
       "$\\displaystyle \\left[\\begin{matrix}0 & 3 & -6 & 6 & 4\\\\3 & -7 & 8 & -5 & 8\\\\3 & -9 & 12 & -9 & 6\\end{matrix}\\right]$"
      ],
      "text/plain": [
       "Matrix([\n",
       "[0,  3, -6,  6, 4],\n",
       "[3, -7,  8, -5, 8],\n",
       "[3, -9, 12, -9, 6]])"
      ]
     },
     "execution_count": 2,
     "metadata": {},
     "output_type": "execute_result"
    }
   ],
   "source": [
    "A = sp.Matrix([[0, 3, -6, 6, 4], [3, -7, 8, -5, 8], [3, -9, 12, -9, 6]])\n",
    "A\n"
   ]
  },
  {
   "cell_type": "code",
   "execution_count": 3,
   "metadata": {},
   "outputs": [
    {
     "data": {
      "text/latex": [
       "$\\displaystyle \\left[\\begin{matrix}-5\\\\9\\\\15\\end{matrix}\\right]$"
      ],
      "text/plain": [
       "Matrix([\n",
       "[-5],\n",
       "[ 9],\n",
       "[15]])"
      ]
     },
     "execution_count": 3,
     "metadata": {},
     "output_type": "execute_result"
    }
   ],
   "source": [
    "b = sp.Matrix([[-5], [9], [15]])\n",
    "b\n"
   ]
  },
  {
   "cell_type": "code",
   "execution_count": 4,
   "metadata": {},
   "outputs": [],
   "source": [
    "x1, x2, x3, x4, x5 = sp.symbols(\"x1 x2 x3 x4 x5\")\n"
   ]
  },
  {
   "cell_type": "code",
   "execution_count": 5,
   "metadata": {},
   "outputs": [
    {
     "data": {
      "text/latex": [
       "$\\displaystyle \\left\\{\\left( 2 x_{3} - 3 x_{4} - 24, \\  2 x_{3} - 2 x_{4} - 7, \\  x_{3}, \\  x_{4}, \\  4\\right)\\right\\}$"
      ],
      "text/plain": [
       "{(2*x3 - 3*x4 - 24, 2*x3 - 2*x4 - 7, x3, x4, 4)}"
      ]
     },
     "execution_count": 5,
     "metadata": {},
     "output_type": "execute_result"
    }
   ],
   "source": [
    "sp.linsolve((A, b), x1, x2, x3, x4, x5)\n"
   ]
  }
 ],
 "metadata": {
  "kernelspec": {
   "display_name": "Python 3",
   "language": "python",
   "name": "python3"
  },
  "language_info": {
   "codemirror_mode": {
    "name": "ipython",
    "version": 3
   },
   "file_extension": ".py",
   "mimetype": "text/x-python",
   "name": "python",
   "nbconvert_exporter": "python",
   "pygments_lexer": "ipython3",
   "version": "3.11.1"
  },
  "orig_nbformat": 4,
  "vscode": {
   "interpreter": {
    "hash": "3b03d3ad6b1336e6e4949d619e4badd72fec28959454a0e0d6a04b545beba08a"
   }
  }
 },
 "nbformat": 4,
 "nbformat_minor": 2
}
