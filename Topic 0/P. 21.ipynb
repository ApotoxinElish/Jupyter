{
 "cells": [
  {
   "cell_type": "code",
   "execution_count": 1,
   "metadata": {},
   "outputs": [],
   "source": [
    "import sympy as sp\n",
    "import numpy as np\n",
    "import time\n"
   ]
  },
  {
   "cell_type": "code",
   "execution_count": 2,
   "metadata": {},
   "outputs": [
    {
     "data": {
      "text/latex": [
       "$\\displaystyle \\left[\\begin{matrix}9 & 1 & 3 & 9 & 8\\\\8 & 1 & 1 & 4 & 0\\\\9 & 6 & 9 & 5 & 3\\\\0 & 7 & 6 & 4 & 0\\\\3 & 9 & 8 & 7 & 3\\end{matrix}\\right]$"
      ],
      "text/plain": [
       "Matrix([\n",
       "[9, 1, 3, 9, 8],\n",
       "[8, 1, 1, 4, 0],\n",
       "[9, 6, 9, 5, 3],\n",
       "[0, 7, 6, 4, 0],\n",
       "[3, 9, 8, 7, 3]])"
      ]
     },
     "execution_count": 2,
     "metadata": {},
     "output_type": "execute_result"
    }
   ],
   "source": [
    "# generate a 5x5 random matrix between 0 and 9 @ Sympy\n",
    "A = sp.randMatrix(5, 5, 0, 9)\n",
    "A\n"
   ]
  },
  {
   "cell_type": "code",
   "execution_count": 3,
   "metadata": {},
   "outputs": [
    {
     "data": {
      "text/latex": [
       "$\\displaystyle 2428$"
      ],
      "text/plain": [
       "2428"
      ]
     },
     "execution_count": 3,
     "metadata": {},
     "output_type": "execute_result"
    }
   ],
   "source": [
    "start = time.time()\n",
    "a = A.det()\n",
    "end = time.time()\n",
    "a\n"
   ]
  },
  {
   "cell_type": "code",
   "execution_count": 4,
   "metadata": {},
   "outputs": [
    {
     "name": "stdout",
     "output_type": "stream",
     "text": [
      "The computation time is : 0.003996610641479492\n"
     ]
    }
   ],
   "source": [
    "print(\"The computation time is :\", end - start)\n"
   ]
  },
  {
   "cell_type": "code",
   "execution_count": 5,
   "metadata": {},
   "outputs": [
    {
     "data": {
      "text/plain": [
       "(200, 200)"
      ]
     },
     "execution_count": 5,
     "metadata": {},
     "output_type": "execute_result"
    }
   ],
   "source": [
    "# generate a 200x200 random matrix between 0 and 9 @ SymPy\n",
    "A = sp.randMatrix(200, 200, 0, 9)\n",
    "A.shape\n"
   ]
  },
  {
   "cell_type": "code",
   "execution_count": 6,
   "metadata": {},
   "outputs": [
    {
     "data": {
      "text/latex": [
       "$\\displaystyle -2012133057405614564211688224558196156323421637110767815567961120019834292083630098449333949950872216833282675265203996328738612692112797110836455811297582762054921441174426482005618082660911796922670267934539546283297525040932254690428181092626639824312636998397975274995513716608$"
      ],
      "text/plain": [
       "-2012133057405614564211688224558196156323421637110767815567961120019834292083630098449333949950872216833282675265203996328738612692112797110836455811297582762054921441174426482005618082660911796922670267934539546283297525040932254690428181092626639824312636998397975274995513716608"
      ]
     },
     "execution_count": 6,
     "metadata": {},
     "output_type": "execute_result"
    }
   ],
   "source": [
    "start = time.time()\n",
    "a = A.det()\n",
    "end = time.time()\n",
    "a\n"
   ]
  },
  {
   "cell_type": "code",
   "execution_count": 7,
   "metadata": {},
   "outputs": [
    {
     "name": "stdout",
     "output_type": "stream",
     "text": [
      "The computation time is : 81.67915654182434\n"
     ]
    }
   ],
   "source": [
    "print(\"The computation time is :\", end - start)\n"
   ]
  },
  {
   "cell_type": "code",
   "execution_count": 8,
   "metadata": {},
   "outputs": [
    {
     "data": {
      "text/plain": [
       "array([[6, 5, 2, 9, 3],\n",
       "       [1, 9, 7, 7, 0],\n",
       "       [6, 4, 1, 0, 6],\n",
       "       [2, 1, 2, 5, 9],\n",
       "       [9, 2, 6, 6, 4]])"
      ]
     },
     "execution_count": 8,
     "metadata": {},
     "output_type": "execute_result"
    }
   ],
   "source": [
    "# generate a 5x5 random matrix between 0 and 9 @ NumPy\n",
    "A = np.random.randint(10, size=(5, 5))\n",
    "A\n"
   ]
  },
  {
   "cell_type": "code",
   "execution_count": 9,
   "metadata": {},
   "outputs": [
    {
     "data": {
      "text/plain": [
       "-28884.000000000015"
      ]
     },
     "execution_count": 9,
     "metadata": {},
     "output_type": "execute_result"
    }
   ],
   "source": [
    "start = time.time()\n",
    "a = np.linalg.det(A)\n",
    "end = time.time()\n",
    "a\n"
   ]
  },
  {
   "cell_type": "code",
   "execution_count": 10,
   "metadata": {},
   "outputs": [
    {
     "name": "stdout",
     "output_type": "stream",
     "text": [
      "The computation time is : 0.0\n"
     ]
    }
   ],
   "source": [
    "print(\"The computation time is :\", end - start)\n"
   ]
  },
  {
   "cell_type": "code",
   "execution_count": 11,
   "metadata": {},
   "outputs": [
    {
     "data": {
      "text/plain": [
       "(200, 200)"
      ]
     },
     "execution_count": 11,
     "metadata": {},
     "output_type": "execute_result"
    }
   ],
   "source": [
    "# generate a 200x200 random matrix between 0 and 9 @ NumPy\n",
    "A = np.random.randint(10, size=(200, 200))\n",
    "A.shape\n"
   ]
  },
  {
   "cell_type": "code",
   "execution_count": 12,
   "metadata": {},
   "outputs": [
    {
     "data": {
      "text/plain": [
       "3.680632099675858e+279"
      ]
     },
     "execution_count": 12,
     "metadata": {},
     "output_type": "execute_result"
    }
   ],
   "source": [
    "start = time.time()\n",
    "a = np.linalg.det(A)\n",
    "end = time.time()\n",
    "a\n"
   ]
  },
  {
   "cell_type": "code",
   "execution_count": 13,
   "metadata": {},
   "outputs": [
    {
     "name": "stdout",
     "output_type": "stream",
     "text": [
      "The computation time is : 0.1027231216430664\n"
     ]
    }
   ],
   "source": [
    "print(\"The computation time is :\", end - start)\n"
   ]
  }
 ],
 "metadata": {
  "kernelspec": {
   "display_name": "Python 3",
   "language": "python",
   "name": "python3"
  },
  "language_info": {
   "codemirror_mode": {
    "name": "ipython",
    "version": 3
   },
   "file_extension": ".py",
   "mimetype": "text/x-python",
   "name": "python",
   "nbconvert_exporter": "python",
   "pygments_lexer": "ipython3",
   "version": "3.11.1"
  },
  "orig_nbformat": 4,
  "vscode": {
   "interpreter": {
    "hash": "3b03d3ad6b1336e6e4949d619e4badd72fec28959454a0e0d6a04b545beba08a"
   }
  }
 },
 "nbformat": 4,
 "nbformat_minor": 2
}
