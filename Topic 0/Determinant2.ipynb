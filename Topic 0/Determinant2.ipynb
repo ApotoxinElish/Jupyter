{
 "cells": [
  {
   "cell_type": "code",
   "execution_count": 1,
   "metadata": {},
   "outputs": [],
   "source": [
    "import sympy as sp\n",
    "import numpy as np\n",
    "import time\n"
   ]
  },
  {
   "cell_type": "code",
   "execution_count": 2,
   "metadata": {},
   "outputs": [
    {
     "data": {
      "text/latex": [
       "$\\displaystyle \\left[\\begin{matrix}0 & 1 & 5 & 5 & 2\\\\8 & 9 & 3 & 4 & 5\\\\5 & 6 & 5 & 1 & 1\\\\1 & 4 & 7 & 9 & 9\\\\7 & 9 & 9 & 2 & 6\\end{matrix}\\right]$"
      ],
      "text/plain": [
       "Matrix([\n",
       "[0, 1, 5, 5, 2],\n",
       "[8, 9, 3, 4, 5],\n",
       "[5, 6, 5, 1, 1],\n",
       "[1, 4, 7, 9, 9],\n",
       "[7, 9, 9, 2, 6]])"
      ]
     },
     "execution_count": 2,
     "metadata": {},
     "output_type": "execute_result"
    }
   ],
   "source": [
    "# generate a 5x5 random matrix between 0 and 9 @ Sympy\n",
    "A = sp.randMatrix(5, 5, 0, 9)\n",
    "A\n"
   ]
  },
  {
   "cell_type": "code",
   "execution_count": 3,
   "metadata": {},
   "outputs": [
    {
     "data": {
      "text/latex": [
       "$\\displaystyle 1070$"
      ],
      "text/plain": [
       "1070"
      ]
     },
     "execution_count": 3,
     "metadata": {},
     "output_type": "execute_result"
    }
   ],
   "source": [
    "start = time.time()\n",
    "a = A.det()\n",
    "end = time.time()\n",
    "a\n"
   ]
  },
  {
   "cell_type": "code",
   "execution_count": 4,
   "metadata": {},
   "outputs": [
    {
     "name": "stdout",
     "output_type": "stream",
     "text": [
      "The computation time is : 0.00201416015625\n"
     ]
    }
   ],
   "source": [
    "print(\"The computation time is :\", end - start)\n"
   ]
  },
  {
   "cell_type": "code",
   "execution_count": 5,
   "metadata": {},
   "outputs": [
    {
     "data": {
      "text/plain": [
       "(200, 200)"
      ]
     },
     "execution_count": 5,
     "metadata": {},
     "output_type": "execute_result"
    }
   ],
   "source": [
    "# generate a 200x200 random matrix between 0 and 9 @ SymPy\n",
    "A = sp.randMatrix(200, 200, 0, 9)\n",
    "A.shape\n"
   ]
  },
  {
   "cell_type": "code",
   "execution_count": 6,
   "metadata": {},
   "outputs": [
    {
     "data": {
      "text/latex": [
       "$\\displaystyle 509027854913633078222679036159074105944191959931992262395006660209845632898460299199872013456014557691506410243687086236705602542202384522705172855281530578327925570612543807085359916461124916544265115995729743365430946433753359113787692118656722773597663408522026399636775921339$"
      ],
      "text/plain": [
       "509027854913633078222679036159074105944191959931992262395006660209845632898460299199872013456014557691506410243687086236705602542202384522705172855281530578327925570612543807085359916461124916544265115995729743365430946433753359113787692118656722773597663408522026399636775921339"
      ]
     },
     "execution_count": 6,
     "metadata": {},
     "output_type": "execute_result"
    }
   ],
   "source": [
    "start = time.time()\n",
    "a = A.det()\n",
    "end = time.time()\n",
    "a\n"
   ]
  },
  {
   "cell_type": "code",
   "execution_count": 7,
   "metadata": {},
   "outputs": [
    {
     "name": "stdout",
     "output_type": "stream",
     "text": [
      "The computation time is : 91.33165717124939\n"
     ]
    }
   ],
   "source": [
    "print(\"The computation time is :\", end - start)\n"
   ]
  },
  {
   "cell_type": "code",
   "execution_count": 8,
   "metadata": {},
   "outputs": [
    {
     "data": {
      "text/plain": [
       "array([[1, 9, 6, 8, 9],\n",
       "       [8, 2, 4, 7, 0],\n",
       "       [8, 5, 3, 1, 7],\n",
       "       [5, 2, 0, 1, 3],\n",
       "       [0, 2, 1, 8, 4]])"
      ]
     },
     "execution_count": 8,
     "metadata": {},
     "output_type": "execute_result"
    }
   ],
   "source": [
    "# generate a 5x5 random matrix between 0 and 9 @ NumPy\n",
    "A = np.random.randint(10, size=(5, 5))\n",
    "A\n"
   ]
  },
  {
   "cell_type": "code",
   "execution_count": 9,
   "metadata": {},
   "outputs": [
    {
     "data": {
      "text/plain": [
       "4109.000000000002"
      ]
     },
     "execution_count": 9,
     "metadata": {},
     "output_type": "execute_result"
    }
   ],
   "source": [
    "start = time.time()\n",
    "a = np.linalg.det(A)\n",
    "end = time.time()\n",
    "a\n"
   ]
  },
  {
   "cell_type": "code",
   "execution_count": 10,
   "metadata": {},
   "outputs": [
    {
     "name": "stdout",
     "output_type": "stream",
     "text": [
      "The computation time is : 0.0\n"
     ]
    }
   ],
   "source": [
    "print(\"The computation time is :\", end - start)\n"
   ]
  },
  {
   "cell_type": "code",
   "execution_count": 11,
   "metadata": {},
   "outputs": [
    {
     "data": {
      "text/plain": [
       "(200, 200)"
      ]
     },
     "execution_count": 11,
     "metadata": {},
     "output_type": "execute_result"
    }
   ],
   "source": [
    "# generate a 200x200 random matrix between 0 and 9 @ NumPy\n",
    "A = np.random.randint(10, size=(200, 200))\n",
    "A.shape\n"
   ]
  },
  {
   "cell_type": "code",
   "execution_count": 12,
   "metadata": {},
   "outputs": [
    {
     "data": {
      "text/plain": [
       "-9.34685743528283e+279"
      ]
     },
     "execution_count": 12,
     "metadata": {},
     "output_type": "execute_result"
    }
   ],
   "source": [
    "start = time.time()\n",
    "a = np.linalg.det(A)\n",
    "end = time.time()\n",
    "a\n"
   ]
  },
  {
   "cell_type": "code",
   "execution_count": 13,
   "metadata": {},
   "outputs": [
    {
     "name": "stdout",
     "output_type": "stream",
     "text": [
      "The computation time is : 0.05063986778259277\n"
     ]
    }
   ],
   "source": [
    "print(\"The computation time is :\", end - start)\n"
   ]
  }
 ],
 "metadata": {
  "kernelspec": {
   "display_name": "Python 3",
   "language": "python",
   "name": "python3"
  },
  "language_info": {
   "codemirror_mode": {
    "name": "ipython",
    "version": 3
   },
   "file_extension": ".py",
   "mimetype": "text/x-python",
   "name": "python",
   "nbconvert_exporter": "python",
   "pygments_lexer": "ipython3",
   "version": "3.11.1"
  },
  "orig_nbformat": 4,
  "vscode": {
   "interpreter": {
    "hash": "3b03d3ad6b1336e6e4949d619e4badd72fec28959454a0e0d6a04b545beba08a"
   }
  }
 },
 "nbformat": 4,
 "nbformat_minor": 2
}
