{
 "cells": [
  {
   "cell_type": "code",
   "execution_count": 1,
   "metadata": {},
   "outputs": [],
   "source": [
    "import sympy as sp\n",
    "import numpy as np\n"
   ]
  },
  {
   "cell_type": "code",
   "execution_count": 2,
   "metadata": {},
   "outputs": [
    {
     "data": {
      "text/latex": [
       "$\\displaystyle \\left[\\begin{matrix}1 & 0 & 0\\\\1 & 1 & 0\\\\1 & 1 & 1\\\\1 & 1 & 1\\end{matrix}\\right]$"
      ],
      "text/plain": [
       "Matrix([\n",
       "[1, 0, 0],\n",
       "[1, 1, 0],\n",
       "[1, 1, 1],\n",
       "[1, 1, 1]])"
      ]
     },
     "execution_count": 2,
     "metadata": {},
     "output_type": "execute_result"
    }
   ],
   "source": [
    "A = sp.Matrix([[1, 0, 0], [1, 1, 0], [1, 1, 1], [1, 1, 1]])\n",
    "A\n"
   ]
  },
  {
   "cell_type": "code",
   "execution_count": 3,
   "metadata": {},
   "outputs": [
    {
     "data": {
      "text/latex": [
       "$\\displaystyle \\left[\\begin{matrix}\\frac{1}{2} & - \\frac{\\sqrt{3}}{2} & 0\\\\\\frac{1}{2} & \\frac{\\sqrt{3}}{6} & - \\frac{\\sqrt{6}}{3}\\\\\\frac{1}{2} & \\frac{\\sqrt{3}}{6} & \\frac{\\sqrt{6}}{6}\\\\\\frac{1}{2} & \\frac{\\sqrt{3}}{6} & \\frac{\\sqrt{6}}{6}\\end{matrix}\\right]$"
      ],
      "text/plain": [
       "Matrix([\n",
       "[1/2, -sqrt(3)/2,          0],\n",
       "[1/2,  sqrt(3)/6, -sqrt(6)/3],\n",
       "[1/2,  sqrt(3)/6,  sqrt(6)/6],\n",
       "[1/2,  sqrt(3)/6,  sqrt(6)/6]])"
      ]
     },
     "metadata": {},
     "output_type": "display_data"
    },
    {
     "data": {
      "text/latex": [
       "$\\displaystyle \\left[\\begin{matrix}2 & \\frac{3}{2} & 1\\\\0 & \\frac{\\sqrt{3}}{2} & \\frac{\\sqrt{3}}{3}\\\\0 & 0 & \\frac{\\sqrt{6}}{3}\\end{matrix}\\right]$"
      ],
      "text/plain": [
       "Matrix([\n",
       "[2,       3/2,         1],\n",
       "[0, sqrt(3)/2, sqrt(3)/3],\n",
       "[0,         0, sqrt(6)/3]])"
      ]
     },
     "metadata": {},
     "output_type": "display_data"
    }
   ],
   "source": [
    "# QR decomposition @ SymPy\n",
    "Q, R = A.QRdecomposition()\n",
    "display(Q, R)\n"
   ]
  },
  {
   "cell_type": "code",
   "execution_count": 4,
   "metadata": {},
   "outputs": [
    {
     "data": {
      "text/latex": [
       "$\\displaystyle \\left[\\begin{matrix}1 & 0 & 0\\\\1 & 1 & 0\\\\1 & 1 & 1\\\\1 & 1 & 1\\end{matrix}\\right]$"
      ],
      "text/plain": [
       "Matrix([\n",
       "[1, 0, 0],\n",
       "[1, 1, 0],\n",
       "[1, 1, 1],\n",
       "[1, 1, 1]])"
      ]
     },
     "execution_count": 4,
     "metadata": {},
     "output_type": "execute_result"
    }
   ],
   "source": [
    "Q @ R\n"
   ]
  },
  {
   "cell_type": "code",
   "execution_count": 5,
   "metadata": {},
   "outputs": [
    {
     "data": {
      "text/latex": [
       "$\\displaystyle \\left[\\begin{matrix}1 & 0 & 0\\\\0 & 1 & 0\\\\0 & 0 & 1\\end{matrix}\\right]$"
      ],
      "text/plain": [
       "Matrix([\n",
       "[1, 0, 0],\n",
       "[0, 1, 0],\n",
       "[0, 0, 1]])"
      ]
     },
     "execution_count": 5,
     "metadata": {},
     "output_type": "execute_result"
    }
   ],
   "source": [
    "Q.T @ Q\n"
   ]
  },
  {
   "cell_type": "code",
   "execution_count": 6,
   "metadata": {},
   "outputs": [
    {
     "data": {
      "text/plain": [
       "array([[1, 0, 0],\n",
       "       [1, 1, 0],\n",
       "       [1, 1, 1],\n",
       "       [1, 1, 1]])"
      ]
     },
     "execution_count": 6,
     "metadata": {},
     "output_type": "execute_result"
    }
   ],
   "source": [
    "A = np.array([[1, 0, 0], [1, 1, 0], [1, 1, 1], [1, 1, 1]])\n",
    "A\n"
   ]
  },
  {
   "cell_type": "code",
   "execution_count": 7,
   "metadata": {},
   "outputs": [
    {
     "data": {
      "text/plain": [
       "array([[-0.5       ,  0.8660254 ,  0.        ],\n",
       "       [-0.5       , -0.28867513,  0.81649658],\n",
       "       [-0.5       , -0.28867513, -0.40824829],\n",
       "       [-0.5       , -0.28867513, -0.40824829]])"
      ]
     },
     "metadata": {},
     "output_type": "display_data"
    },
    {
     "data": {
      "text/plain": [
       "array([[-2.        , -1.5       , -1.        ],\n",
       "       [ 0.        , -0.8660254 , -0.57735027],\n",
       "       [ 0.        ,  0.        , -0.81649658]])"
      ]
     },
     "metadata": {},
     "output_type": "display_data"
    }
   ],
   "source": [
    "# QR decomposition @ NumPy\n",
    "Q, R = np.linalg.qr(A)\n",
    "display(Q, R)\n"
   ]
  },
  {
   "cell_type": "code",
   "execution_count": 8,
   "metadata": {},
   "outputs": [
    {
     "data": {
      "text/plain": [
       "array([[ 1.00000000e+00,  8.69063787e-17, -1.34358683e-16],\n",
       "       [ 1.00000000e+00,  1.00000000e+00,  1.61842956e-16],\n",
       "       [ 1.00000000e+00,  1.00000000e+00,  1.00000000e+00],\n",
       "       [ 1.00000000e+00,  1.00000000e+00,  1.00000000e+00]])"
      ]
     },
     "execution_count": 8,
     "metadata": {},
     "output_type": "execute_result"
    }
   ],
   "source": [
    "Q @ R\n"
   ]
  },
  {
   "cell_type": "code",
   "execution_count": 9,
   "metadata": {},
   "outputs": [
    {
     "data": {
      "text/plain": [
       "array([[1.00000000e+00, 0.00000000e+00, 0.00000000e+00],\n",
       "       [0.00000000e+00, 1.00000000e+00, 6.34802232e-18],\n",
       "       [0.00000000e+00, 6.34802232e-18, 1.00000000e+00]])"
      ]
     },
     "execution_count": 9,
     "metadata": {},
     "output_type": "execute_result"
    }
   ],
   "source": [
    "Q.T @ Q\n"
   ]
  },
  {
   "cell_type": "code",
   "execution_count": 10,
   "metadata": {},
   "outputs": [
    {
     "data": {
      "text/plain": [
       "array([[-5.00000000e-01,  8.66025404e-01,  0.00000000e+00,\n",
       "         0.00000000e+00],\n",
       "       [-5.00000000e-01, -2.88675135e-01,  8.16496581e-01,\n",
       "        -6.99362418e-17],\n",
       "       [-5.00000000e-01, -2.88675135e-01, -4.08248290e-01,\n",
       "        -7.07106781e-01],\n",
       "       [-5.00000000e-01, -2.88675135e-01, -4.08248290e-01,\n",
       "         7.07106781e-01]])"
      ]
     },
     "metadata": {},
     "output_type": "display_data"
    },
    {
     "data": {
      "text/plain": [
       "array([[-2.        , -1.5       , -1.        ],\n",
       "       [ 0.        , -0.8660254 , -0.57735027],\n",
       "       [ 0.        ,  0.        , -0.81649658],\n",
       "       [ 0.        ,  0.        ,  0.        ]])"
      ]
     },
     "metadata": {},
     "output_type": "display_data"
    }
   ],
   "source": [
    "# QR decomposition (complete form) @ NumPy\n",
    "Q, R = np.linalg.qr(A, mode=\"complete\")\n",
    "display(Q, R)\n"
   ]
  }
 ],
 "metadata": {
  "kernelspec": {
   "display_name": "Python 3",
   "language": "python",
   "name": "python3"
  },
  "language_info": {
   "codemirror_mode": {
    "name": "ipython",
    "version": 3
   },
   "file_extension": ".py",
   "mimetype": "text/x-python",
   "name": "python",
   "nbconvert_exporter": "python",
   "pygments_lexer": "ipython3",
   "version": "3.11.1"
  },
  "orig_nbformat": 4,
  "vscode": {
   "interpreter": {
    "hash": "3b03d3ad6b1336e6e4949d619e4badd72fec28959454a0e0d6a04b545beba08a"
   }
  }
 },
 "nbformat": 4,
 "nbformat_minor": 2
}
