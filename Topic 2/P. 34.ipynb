{
 "cells": [
  {
   "cell_type": "code",
   "execution_count": 1,
   "metadata": {},
   "outputs": [
    {
     "data": {
      "text/latex": [
       "$\\displaystyle \\left[\\begin{matrix}\\frac{1}{2} & \\frac{1}{6}\\\\\\frac{1}{2} & \\frac{1}{6}\\\\\\frac{1}{2} & \\frac{1}{2}\\\\- \\frac{1}{2} & \\frac{5}{6}\\end{matrix}\\right]$"
      ],
      "text/plain": [
       "Matrix([\n",
       "[ 1/2, 1/6],\n",
       "[ 1/2, 1/6],\n",
       "[ 1/2, 1/2],\n",
       "[-1/2, 5/6]])"
      ]
     },
     "execution_count": 1,
     "metadata": {},
     "output_type": "execute_result"
    }
   ],
   "source": [
    "import sympy as sp\n",
    "\n",
    "A = sp.Matrix([[\"1/2\", \"1/2\", \"1/2\", \"-1/2\"], [\"1/6\", \"1/6\", \"3/6\", \"5/6\"]]).T\n",
    "A\n"
   ]
  },
  {
   "cell_type": "code",
   "execution_count": 2,
   "metadata": {},
   "outputs": [
    {
     "data": {
      "text/plain": [
       "[Matrix([\n",
       " [-1],\n",
       " [ 1],\n",
       " [ 0],\n",
       " [ 0]]),\n",
       " Matrix([\n",
       " [ 4],\n",
       " [ 0],\n",
       " [-3],\n",
       " [ 1]])]"
      ]
     },
     "execution_count": 2,
     "metadata": {},
     "output_type": "execute_result"
    }
   ],
   "source": [
    "# Nullspace of A.T\n",
    "B = A.T.nullspace()\n",
    "B\n"
   ]
  },
  {
   "cell_type": "code",
   "execution_count": 3,
   "metadata": {},
   "outputs": [
    {
     "data": {
      "text/latex": [
       "$\\displaystyle \\left[\\begin{matrix}-1 & 4\\\\1 & 0\\\\0 & -3\\\\0 & 1\\end{matrix}\\right]$"
      ],
      "text/plain": [
       "Matrix([\n",
       "[-1,  4],\n",
       "[ 1,  0],\n",
       "[ 0, -3],\n",
       "[ 0,  1]])"
      ]
     },
     "execution_count": 3,
     "metadata": {},
     "output_type": "execute_result"
    }
   ],
   "source": [
    "# Matrix with basis vectors for null space as columns\n",
    "B = sp.BlockMatrix(B).as_explicit()\n",
    "B\n"
   ]
  },
  {
   "cell_type": "code",
   "execution_count": 4,
   "metadata": {},
   "outputs": [
    {
     "data": {
      "text/latex": [
       "$\\displaystyle \\left[\\begin{matrix}- \\frac{\\sqrt{2}}{2} & \\frac{\\sqrt{2}}{3}\\\\\\frac{\\sqrt{2}}{2} & \\frac{\\sqrt{2}}{3}\\\\0 & - \\frac{\\sqrt{2}}{2}\\\\0 & \\frac{\\sqrt{2}}{6}\\end{matrix}\\right]$"
      ],
      "text/plain": [
       "Matrix([\n",
       "[-sqrt(2)/2,  sqrt(2)/3],\n",
       "[ sqrt(2)/2,  sqrt(2)/3],\n",
       "[         0, -sqrt(2)/2],\n",
       "[         0,  sqrt(2)/6]])"
      ]
     },
     "metadata": {},
     "output_type": "display_data"
    },
    {
     "data": {
      "text/latex": [
       "$\\displaystyle \\left[\\begin{matrix}\\sqrt{2} & - 2 \\sqrt{2}\\\\0 & 3 \\sqrt{2}\\end{matrix}\\right]$"
      ],
      "text/plain": [
       "Matrix([\n",
       "[sqrt(2), -2*sqrt(2)],\n",
       "[      0,  3*sqrt(2)]])"
      ]
     },
     "metadata": {},
     "output_type": "display_data"
    }
   ],
   "source": [
    "# QR Factorization\n",
    "Q, R = B.QRdecomposition()\n",
    "display(Q, R)\n"
   ]
  }
 ],
 "metadata": {
  "kernelspec": {
   "display_name": "Python 3",
   "language": "python",
   "name": "python3"
  },
  "language_info": {
   "codemirror_mode": {
    "name": "ipython",
    "version": 3
   },
   "file_extension": ".py",
   "mimetype": "text/x-python",
   "name": "python",
   "nbconvert_exporter": "python",
   "pygments_lexer": "ipython3",
   "version": "3.11.1"
  },
  "orig_nbformat": 4,
  "vscode": {
   "interpreter": {
    "hash": "3b03d3ad6b1336e6e4949d619e4badd72fec28959454a0e0d6a04b545beba08a"
   }
  }
 },
 "nbformat": 4,
 "nbformat_minor": 2
}
