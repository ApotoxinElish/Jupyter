{
 "cells": [
  {
   "cell_type": "code",
   "execution_count": null,
   "metadata": {},
   "outputs": [],
   "source": [
    "import sympy as sp\n",
    "\n",
    "x1 = sp.Matrix([[1, 1, 1]]).T\n",
    "x2 = sp.Matrix([[1, -1, 0]]).T\n",
    "x3 = sp.Matrix([[1, 1, -2]]).T\n",
    "display(x1, x2, x3)\n"
   ]
  },
  {
   "cell_type": "code",
   "execution_count": null,
   "metadata": {},
   "outputs": [],
   "source": [
    "# Inner products of all pairs\n",
    "display(x1.T @ x2, x1.T @ x3, x2.T @ x3)\n"
   ]
  },
  {
   "cell_type": "code",
   "execution_count": null,
   "metadata": {},
   "outputs": [],
   "source": [
    "# the norm of vectors\n",
    "x1.norm(), x2.norm(), x3.norm()\n"
   ]
  },
  {
   "cell_type": "code",
   "execution_count": null,
   "metadata": {},
   "outputs": [],
   "source": [
    "# combine vectors into a matrix\n",
    "X = sp.BlockMatrix([x1, x2, x3]).as_explicit()\n",
    "X\n"
   ]
  },
  {
   "cell_type": "code",
   "execution_count": null,
   "metadata": {},
   "outputs": [],
   "source": [
    "X.T @ X\n"
   ]
  },
  {
   "cell_type": "code",
   "execution_count": null,
   "metadata": {},
   "outputs": [],
   "source": [
    "u1 = sp.Matrix([[1 / sp.sqrt(3), 1 / sp.sqrt(3), 1 / sp.sqrt(3)]]).T\n",
    "u2 = sp.Matrix([[1 / sp.sqrt(2), -1 / sp.sqrt(2), 0]]).T\n",
    "u3 = sp.Matrix([[1 / sp.sqrt(6), 1 / sp.sqrt(6), -2 / sp.sqrt(6)]]).T\n",
    "display(u1, u2, u3)\n"
   ]
  },
  {
   "cell_type": "code",
   "execution_count": null,
   "metadata": {},
   "outputs": [],
   "source": [
    "# Inner products of all pairs\n",
    "display(u1.T @ u2, u1.T @ u3, u2.T @ u3)\n"
   ]
  },
  {
   "cell_type": "code",
   "execution_count": null,
   "metadata": {},
   "outputs": [],
   "source": [
    "# the norm of vectors\n",
    "u1.norm(), u2.norm(), u3.norm()\n"
   ]
  },
  {
   "cell_type": "code",
   "execution_count": null,
   "metadata": {},
   "outputs": [],
   "source": [
    "# combine vectors into a matrix\n",
    "U = sp.BlockMatrix([u1, u2, u3]).as_explicit()\n",
    "U\n"
   ]
  },
  {
   "cell_type": "code",
   "execution_count": null,
   "metadata": {},
   "outputs": [],
   "source": [
    "U.T @ U\n"
   ]
  }
 ],
 "metadata": {
  "language_info": {
   "name": "python"
  },
  "orig_nbformat": 4
 },
 "nbformat": 4,
 "nbformat_minor": 2
}
