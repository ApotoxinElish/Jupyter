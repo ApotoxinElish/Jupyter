{
 "cells": [
  {
   "cell_type": "code",
   "execution_count": 3,
   "metadata": {},
   "outputs": [
    {
     "data": {
      "text/plain": [
       "2557800.0"
      ]
     },
     "execution_count": 3,
     "metadata": {},
     "output_type": "execute_result"
    }
   ],
   "source": [
    "# Q1\n",
    "fq = 22050\n",
    "sample_size = 16\n",
    "time = 58\n",
    "\n",
    "size = fq * sample_size / 8 * time\n",
    "size"
   ]
  },
  {
   "cell_type": "code",
   "execution_count": 6,
   "metadata": {},
   "outputs": [
    {
     "data": {
      "text/plain": [
       "1124.5500000000002"
      ]
     },
     "execution_count": 6,
     "metadata": {},
     "output_type": "execute_result"
    }
   ],
   "source": [
    "# Q1\n",
    "fq = 44100\n",
    "time = 34\n",
    "overlapping_ratio = 0.75\n",
    "\n",
    "overlapped_samples = fq * time / 1000 * overlapping_ratio\n",
    "overlapped_samples"
   ]
  },
  {
   "cell_type": "code",
   "execution_count": 5,
   "metadata": {},
   "outputs": [
    {
     "data": {
      "text/plain": [
       "21422.5"
      ]
     },
     "execution_count": 5,
     "metadata": {},
     "output_type": "execute_result"
    }
   ],
   "source": [
    "# Q3\n",
    "fq = 42845\n",
    "\n",
    "fq / 2"
   ]
  },
  {
   "cell_type": "code",
   "execution_count": null,
   "metadata": {},
   "outputs": [],
   "source": [
    "# Q3\n",
    "fq = 42845\n",
    "\n",
    "fq / 2"
   ]
  },
  {
   "cell_type": "code",
   "execution_count": 37,
   "metadata": {},
   "outputs": [
    {
     "name": "stdout",
     "output_type": "stream",
     "text": [
      "1\n",
      "10\n",
      "35\n",
      "99\n",
      "135\n",
      "160\n",
      "164\n",
      "164\n",
      "168\n",
      "177\n",
      "226\n",
      "290\n",
      "339\n",
      "364\n"
     ]
    },
    {
     "data": {
      "text/plain": [
       "1182"
      ]
     },
     "execution_count": 37,
     "metadata": {},
     "output_type": "execute_result"
    }
   ],
   "source": [
    "# Q6\n",
    "samples = [1, 3, 5, 8, 6, 5, 2, 0, 2, 3, 7, 8, 7, 5]\n",
    "\n",
    "r0 = r1 = r2 = r3 = r4 = 0\n",
    "for i in range(len(samples)):\n",
    "    r0 += samples[i] * samples[i]\n",
    "    print(r0)\n",
    "for i in range(len(samples) - 1):\n",
    "    r1 += samples[i] * samples[i + 1]\n",
    "    # print(r1)\n",
    "for i in range(len(samples) - 2):\n",
    "    r2 += samples[i] * samples[i + 2]\n",
    "    # print(r2)\n",
    "for i in range(len(samples) - 3):\n",
    "    r3 += samples[i] * samples[i + 3]\n",
    "    # print(r3)\n",
    "for i in range(len(samples) - 4):\n",
    "    r4 += samples[i] * samples[i + 4]\n",
    "    # print(r4)\n",
    "\n",
    "r0 + r1 + r2 + r3 + r4"
   ]
  },
  {
   "cell_type": "code",
   "execution_count": 45,
   "metadata": {},
   "outputs": [
    {
     "name": "stdout",
     "output_type": "stream",
     "text": [
      "[364, 320, 242, 155, 101]\n"
     ]
    },
    {
     "data": {
      "text/plain": [
       "1182"
      ]
     },
     "execution_count": 45,
     "metadata": {},
     "output_type": "execute_result"
    }
   ],
   "source": [
    "samples = [1, 3, 5, 8, 6, 5, 2, 0, 2, 3, 7, 8, 7, 5]\n",
    "r = [0 for i in range(5)]\n",
    "\n",
    "for i, each in enumerate(r):\n",
    "    for j in range(len(samples) - i):\n",
    "        each += samples[j] * samples[j + i]\n",
    "    r[i] = each\n",
    "print(r)\n",
    "sum(r)"
   ]
  },
  {
   "cell_type": "code",
   "execution_count": 58,
   "metadata": {},
   "outputs": [
    {
     "data": {
      "text/latex": [
       "$\\displaystyle 0.876$"
      ],
      "text/plain": [
       "0.876"
      ]
     },
     "execution_count": 58,
     "metadata": {},
     "output_type": "execute_result"
    }
   ],
   "source": [
    "# Q7\n",
    "import sympy as sp\n",
    "\n",
    "samples = [1, 3, 5, 8, 6, 5, 2, 0, 2, 3, 7, 8, 7, 5]\n",
    "r = [0 for i in range(5)]\n",
    "\n",
    "for i, each in enumerate(r):\n",
    "    for j in range(len(samples) - i):\n",
    "        each += samples[j] * samples[j + i]\n",
    "    r[i] = each\n",
    "\n",
    "\n",
    "A = sp.Matrix(\n",
    "    [[r[i] for i in range(j, 0, -1)] + [r[i] for i in range(4 - j)] for j in range(4)]\n",
    ")\n",
    "A\n",
    "B = sp.Matrix([r[i] for i in range(1, 5)])\n",
    "B\n",
    "\n",
    "sum(A.inv() @ B)\n",
    "round(sum(A.inv() @ B), 3)"
   ]
  },
  {
   "cell_type": "code",
   "execution_count": 80,
   "metadata": {},
   "outputs": [
    {
     "data": {
      "text/latex": [
       "$\\displaystyle 875.707$"
      ],
      "text/plain": [
       "875.707"
      ]
     },
     "execution_count": 80,
     "metadata": {},
     "output_type": "execute_result"
    }
   ],
   "source": [
    "# Q8\n",
    "def Mel(f):\n",
    "    return 2595 * sp.log(1 + f / 700, 10)\n",
    "\n",
    "\n",
    "M1 = Mel(2500)\n",
    "round(M1, 3)\n",
    "M2 = Mel(6260)\n",
    "round(M2, 3)\n",
    "round(M2 - M1, 3)"
   ]
  },
  {
   "cell_type": "code",
   "execution_count": 91,
   "metadata": {},
   "outputs": [
    {
     "data": {
      "text/plain": [
       "14.48"
      ]
     },
     "execution_count": 91,
     "metadata": {},
     "output_type": "execute_result"
    }
   ],
   "source": [
    "X = [\n",
    "    (2.2, 3.4),\n",
    "    (1.2, 0.6),\n",
    "    (0.1, 0.7),\n",
    "    (1.4, 5.6),\n",
    "    (4.5, 7.8),\n",
    "    (3.2, 2.4),\n",
    "    (5.4, 5.6),\n",
    "    (5.7, 8.9),\n",
    "    (1.0, 3.4),\n",
    "    (4.5, 4.8),\n",
    "]\n",
    "e = 0.02\n",
    "\n",
    "C1 = 0\n",
    "x = 0\n",
    "y = 0\n",
    "for i, each in enumerate(X):\n",
    "    x += each[0]\n",
    "    y += each[1]\n",
    "C1 = (x / len(X), y / len(X))\n",
    "C1\n",
    "CCa = (C1[0] * (1 + e), C1[1] * (1 + e))\n",
    "CCa\n",
    "CCb = (C1[0] * (1 - e), C1[1] * (1 - e))\n",
    "CCb\n",
    "round(sum(CCa + CCb), 3)\n",
    "# sum([sum(i) for i in X]) / len(X) * 2"
   ]
  },
  {
   "cell_type": "code",
   "execution_count": null,
   "metadata": {},
   "outputs": [],
   "source": [
    "# Q11\n",
    "ins = [2, 4, 6, 8, 5, 4, 3, 1, 5]\n",
    "reference = [1, 3, 7, 8, 5, 4, 3, 2, 6]\n",
    "\n",
    "\n"
   ]
  },
  {
   "cell_type": "code",
   "execution_count": 120,
   "metadata": {},
   "outputs": [
    {
     "data": {
      "text/plain": [
       "42"
      ]
     },
     "execution_count": 120,
     "metadata": {},
     "output_type": "execute_result"
    }
   ],
   "source": [
    "# Q12\n",
    "33\n",
    "path = [20, 21, 22, 26, 27, 27, 31, 32, 33]\n",
    "min([181, 101, 93, 97, 60, 49, 44, 49, 34, 59, 38, 34, 34, 33, 41, 81, 112, 80, 60])\n",
    "len(path) + 33"
   ]
  },
  {
   "cell_type": "code",
   "execution_count": 131,
   "metadata": {},
   "outputs": [
    {
     "data": {
      "text/plain": [
       "29.917"
      ]
     },
     "execution_count": 131,
     "metadata": {},
     "output_type": "execute_result"
    }
   ],
   "source": [
    "# Q13\n",
    "with open(\"x1\") as f:\n",
    "    text = f.read()\n",
    "\n",
    "\n",
    "x1 = text.split(\"\\n\")\n",
    "\n",
    "r = [0 for i in range(5)]\n",
    "\n",
    "for i, each in enumerate(r):\n",
    "    for j in range(len(x1) - i):\n",
    "        each += float(x1[j]) * float(x1[j + i])\n",
    "    r[i] = round(each, 3)\n",
    "r[3]"
   ]
  },
  {
   "cell_type": "code",
   "execution_count": 135,
   "metadata": {},
   "outputs": [
    {
     "data": {
      "text/latex": [
       "$\\displaystyle -0.401$"
      ],
      "text/plain": [
       "-0.401"
      ]
     },
     "execution_count": 135,
     "metadata": {},
     "output_type": "execute_result"
    }
   ],
   "source": [
    "# Q14\n",
    "r = [0 for i in range(9)]\n",
    "\n",
    "for i, each in enumerate(r):\n",
    "    for j in range(len(x1) - i):\n",
    "        each += float(x1[j]) * float(x1[j + i])\n",
    "    r[i] = each\n",
    "\n",
    "A = sp.Matrix(\n",
    "    [[r[i] for i in range(j, 0, -1)] + [r[i] for i in range(8 - j)] for j in range(8)]\n",
    ")\n",
    "A\n",
    "B = sp.Matrix([r[i] for i in range(1, 9)])\n",
    "B\n",
    "\n",
    "a = A.inv() @ B\n",
    "round(a[5], 3)"
   ]
  },
  {
   "cell_type": "code",
   "execution_count": 1,
   "metadata": {},
   "outputs": [
    {
     "data": {
      "text/plain": [
       "2.2252106304797308"
      ]
     },
     "execution_count": 1,
     "metadata": {},
     "output_type": "execute_result"
    }
   ],
   "source": [
    "a = [\n",
    "    4.1309,\n",
    "    0.2424,\n",
    "    -0.2685,\n",
    "    0.5495,\n",
    "    0.1264,\n",
    "    -0.2558,\n",
    "    -0.3136,\n",
    "    -0.0068,\n",
    "    0.3364,\n",
    "    0.1216,\n",
    "    -0.2309,\n",
    "    -0.8932,\n",
    "]\n",
    "b = [\n",
    "    3.8899,\n",
    "    -0.3617,\n",
    "    0.2684,\n",
    "    -0.1758,\n",
    "    -0.2560,\n",
    "    0.8633,\n",
    "    -0.0631,\n",
    "    0.7094,\n",
    "    -0.8179,\n",
    "    0.2688,\n",
    "    -0.3646,\n",
    "    -0.2866,\n",
    "]\n",
    "\n",
    "sum = 0\n",
    "for i in range(len(a)):\n",
    "    sum += (a[i] - b[i]) ** 2\n",
    "\n",
    "\n",
    "sum ** (1 / 2)"
   ]
  },
  {
   "cell_type": "code",
   "execution_count": 117,
   "metadata": {},
   "outputs": [
    {
     "name": "stdout",
     "output_type": "stream",
     "text": [
      "Optimal Score: 38.0\n"
     ]
    }
   ],
   "source": [
    "# Q17\n",
    "import numpy as np\n",
    "\n",
    "\n",
    "def distortion_measure(a, b):\n",
    "    # Define the distortion measure as the squared difference between a and b\n",
    "    return (a - b) ** 2\n",
    "\n",
    "\n",
    "def find_optimal_score(A, B):\n",
    "    # Initialize a matrix to store the alignment scores\n",
    "    M = len(A)\n",
    "    N = len(B)\n",
    "    dp = np.zeros((M, N))\n",
    "\n",
    "    # Fill in the matrix using dynamic programming\n",
    "    for i in range(M):\n",
    "        for j in range(N):\n",
    "            # Calculate the distortion measure for the current pair of elements\n",
    "            dist = distortion_measure(A[i], B[j])\n",
    "            # Calculate the optimal score for the current cell\n",
    "            if i == 0 and j == 0:\n",
    "                dp[i][j] = dist\n",
    "            elif i == 0:\n",
    "                dp[i][j] = dist + dp[i][j - 1]\n",
    "            elif j == 0:\n",
    "                dp[i][j] = dist + dp[i - 1][j]\n",
    "            else:\n",
    "                dp[i][j] = dist + min(dp[i - 1][j - 1], dp[i - 1][j], dp[i][j - 1])\n",
    "\n",
    "    # The value in the bottom-right cell of the matrix is the optimal score\n",
    "    column = [dp[i][-1] for i in range(M)]\n",
    "    optimal_score = min(min(dp[-1]), min(column))\n",
    "    return optimal_score\n",
    "\n",
    "\n",
    "# Define the sequences A and B\n",
    "A = [1, 4, 6, 2, 5, 4, 3, 2, 1, 9, 7, 8, 9, 11, 9, 4, 6, 8, 6, 4, 9, 5, 9, 7]\n",
    "B = [2, 4, 6, 7, 2, 8, 3, 4, 2, 8, 9, 8, 5, 9, 12, 7, 5, 7, 5, 8, 4, 6, 9, 3]\n",
    "\n",
    "# Q11\n",
    "# A = [2, 4, 6, 8, 5, 4, 3, 1, 5]\n",
    "# B = [1, 3, 7, 8, 5, 4, 3, 2, 6]\n",
    "\n",
    "# A = [2, 4, 6, 9, 3, 4, 5, 8, 1]\n",
    "# A = [7, 6, 2, 4, 7, 6, 10, 4, 5]\n",
    "# B = [3, 5, 5, 8, 4, 2, 3, 7, 2]\n",
    "\n",
    "# Find the optimal score between A and B\n",
    "optimal_score = find_optimal_score(A, B)\n",
    "print(\"Optimal Score:\", optimal_score)"
   ]
  }
 ],
 "metadata": {
  "kernelspec": {
   "display_name": "Python 3",
   "language": "python",
   "name": "python3"
  },
  "language_info": {
   "codemirror_mode": {
    "name": "ipython",
    "version": 3
   },
   "file_extension": ".py",
   "mimetype": "text/x-python",
   "name": "python",
   "nbconvert_exporter": "python",
   "pygments_lexer": "ipython3",
   "version": "3.10.6"
  },
  "orig_nbformat": 4
 },
 "nbformat": 4,
 "nbformat_minor": 2
}
