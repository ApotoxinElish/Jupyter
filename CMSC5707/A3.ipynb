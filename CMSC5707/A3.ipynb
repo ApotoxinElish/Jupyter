{
 "cells": [
  {
   "cell_type": "code",
   "execution_count": null,
   "metadata": {},
   "outputs": [],
   "source": [
    "import numpy as np"
   ]
  },
  {
   "cell_type": "code",
   "execution_count": null,
   "metadata": {},
   "outputs": [],
   "source": [
    "# Q2\n",
    "mean = 0.4\n",
    "deviation = 0.75\n",
    "epsilon = 0.35\n",
    "round(mean + epsilon * deviation, 3)\n",
    "mean + epsilon * deviation"
   ]
  },
  {
   "cell_type": "code",
   "execution_count": null,
   "metadata": {},
   "outputs": [],
   "source": [
    "# Q4\n",
    "y1 = 3.1\n",
    "y2 = 0.76\n",
    "y3 = 1.5\n",
    "np.e**y3 / (np.e**y1 + np.e**y2 + np.e**y3)"
   ]
  },
  {
   "cell_type": "code",
   "execution_count": null,
   "metadata": {},
   "outputs": [],
   "source": [
    "# Q5\n",
    "\n",
    "bias1 = 0.1\n",
    "bias2 = 0.43\n",
    "\n",
    "wa1 = 0.1\n",
    "wa2 = 0.3\n",
    "wb1 = 0.4\n",
    "wb2 = 0.32\n",
    "wc1 = 0.23\n",
    "wc2 = 0.32\n",
    "\n",
    "y1 = 0.1\n",
    "y2 = 0.4\n",
    "x1 = 0.1\n",
    "x2 = 0.2\n",
    "\n",
    "new_y1 = np.tanh(x1 * wa1 + y1 * wb1 + y2 * wc2 + bias1)\n",
    "new_y2 = np.tanh(x2 * wa2 + y1 * wc1 + y2 * wb2 + bias2)\n",
    "new_y1 + new_y2"
   ]
  },
  {
   "cell_type": "code",
   "execution_count": null,
   "metadata": {},
   "outputs": [],
   "source": [
    "# Q6\n",
    "whx = [\n",
    "    [0.08, 0.64, 0.77, 0.38],\n",
    "    [0.10, 0.57, 0.29, 0.48],\n",
    "    [0.23, 0.19, 0.15, 0.29],\n",
    "]\n",
    "whh = [\n",
    "    [0.21, 0.22, 0.23],\n",
    "    [0.31, 0.44, 0.26],\n",
    "    [0.41, 0.54, 0.36],\n",
    "]\n",
    "bias = [0.41, 0.12, 0.63]\n",
    "h_t = [0.1, 0.2, 0.3]\n",
    "\n",
    "x = [1, 0, 0, 0]\n",
    "\n",
    "\n",
    "def dotpro(l1, l2):\n",
    "    result = 0\n",
    "    for i in range(len(l1)):\n",
    "        result += l1[i] * l2[i]\n",
    "    return result\n",
    "\n",
    "\n",
    "np.tanh(dotpro(whx[2], x) + dotpro(whh[2], h_t) + bias[2])\n",
    "# np.tanh(1.117)"
   ]
  },
  {
   "cell_type": "code",
   "execution_count": null,
   "metadata": {},
   "outputs": [],
   "source": [
    "# Q7\n",
    "why = [\n",
    "    [0.14, 0.27, 0.35],\n",
    "    [0.15, 0.18, 0.21],\n",
    "    [0.25, 0.26, 0.64],\n",
    "    [0.86, 0.13, 0.41],\n",
    "]\n",
    "ht = [0.25, 0.46, 0.74]\n",
    "\n",
    "y_out1 = dotpro(why[0], ht)\n",
    "y_out2 = dotpro(why[1], ht)\n",
    "y_out3 = dotpro(why[2], ht)\n",
    "y_out4 = dotpro(why[3], ht)\n",
    "np.e**y_out3 / (np.e**y_out1 + np.e**y_out2 + np.e**y_out3 + np.e**y_out4)"
   ]
  },
  {
   "cell_type": "code",
   "execution_count": null,
   "metadata": {},
   "outputs": [],
   "source": [
    "# Q8\n",
    "input = 200\n",
    "output = 100\n",
    "hidden = 4\n",
    "cells = 256\n",
    "(\n",
    "    4 * (cells + input) * cells\n",
    "    + 4 * cells * (cells + cells) * (hidden - 1)\n",
    "    + output * cells\n",
    ") + (4 * cells * hidden)"
   ]
  },
  {
   "cell_type": "code",
   "execution_count": null,
   "metadata": {},
   "outputs": [],
   "source": [
    "# Q10\n",
    "Doc_1 = \"one one for the master\"\n",
    "Doc_2 = \"and one for the dame dame\"\n",
    "Doc_3 = \"and one for the little little boy\"\n",
    "Doc_4 = \"who lives down down the lane\"\n",
    "\n",
    "total = set(Doc_1.split(\" \") + Doc_2.split(\" \") + Doc_3.split(\" \") + Doc_4.split(\" \"))\n",
    "print(total)\n",
    "BOW1 = []\n",
    "BOW2 = []\n",
    "BOW3 = []\n",
    "BOW4 = []\n",
    "for i in total:\n",
    "    BOW1.append(Doc_1.count(i))\n",
    "    BOW2.append(Doc_2.count(i))\n",
    "    BOW3.append(Doc_3.count(i))\n",
    "    BOW4.append(Doc_4.count(i))\n",
    "\n",
    "# BOW2 = [1, 1, 1, 1, 2, 0, 0]\n",
    "# BOW3 = [1, 1, 1, 1, 0, 2, 1]\n",
    "BOW23 = dotpro(BOW2, BOW3) / (\n",
    "    dotpro(BOW2, BOW2) ** (1 / 2) * dotpro(BOW3, BOW3) ** (1 / 2)\n",
    ")\n",
    "# # 4 / (8 ** (1 / 2) * 3)\n",
    "# # 2**(1/2)/3\n",
    "TF1 = [i / sum(BOW1) for i in BOW1]\n",
    "TF2 = [i / sum(BOW2) for i in BOW2]\n",
    "TF3 = [i / sum(BOW3) for i in BOW3]\n",
    "TF4 = [i / sum(BOW4) for i in BOW4]\n",
    "\n",
    "\n",
    "def countstr(str):\n",
    "    count = 0\n",
    "    for i in [Doc_1, Doc_2, Doc_3, Doc_4]:\n",
    "        if i.count(str):\n",
    "            count += 1\n",
    "    return count\n",
    "\n",
    "\n",
    "IDF = [np.log10(4 / countstr(n)) for n in total]\n",
    "TFIDF1 = [TF1[i] * IDF[i] for i in range(len(total))]\n",
    "TFIDF2 = [TF2[i] * IDF[i] for i in range(len(total))]\n",
    "TFIDF3 = [TF3[i] * IDF[i] for i in range(len(total))]\n",
    "TFIDF4 = [TF4[i] * IDF[i] for i in range(len(total))]\n",
    "TFIDF12 = dotpro(TFIDF1, TFIDF2) / (\n",
    "    dotpro(TFIDF1, TFIDF1) ** (1 / 2) * dotpro(TFIDF2, TFIDF2) ** (1 / 2)\n",
    ")\n",
    "BOW23 + TFIDF12"
   ]
  },
  {
   "cell_type": "code",
   "execution_count": null,
   "metadata": {},
   "outputs": [],
   "source": [
    "# Q11\n",
    "A = 10000\n"
   ]
  },
  {
   "cell_type": "code",
   "execution_count": null,
   "metadata": {},
   "outputs": [],
   "source": [
    "# Q12\n",
    "entropyP = -4 / 9 * np.log2(4 / 9) - 5 / 9 * np.log2(5 / 9)\n",
    "\n",
    "entropyWet = 3 / 9 * (-2 / 3 * np.log2(2 / 3) - 1 / 3 * np.log2(1 / 3))\n",
    "entropyMedium = 4 / 9 * (-1 / 4 * np.log2(1 / 4) - 3 / 4 * np.log2(3 / 4))\n",
    "entropyDry = 2 / 9 * (-1 / 2 * np.log2(1 / 2) - 1 / 2 * np.log2(1 / 2))\n",
    "IGHumidity = entropyP - entropyWet - entropyMedium - entropyDry\n",
    "\n",
    "entropyHot = 3 / 9 * (-1 / 3 * np.log2(1 / 3) - 2 / 3 * np.log2(2 / 3))\n",
    "entropyAverage = 3 / 9 * (-1 / 3 * np.log2(1 / 3) - 2 / 3 * np.log2(2 / 3))\n",
    "entropyCold = 3 / 9 * (-2 / 3 * np.log2(2 / 3) - 1 / 3 * np.log2(1 / 3))\n",
    "IGTemperature = entropyP - entropyHot - entropyAverage - entropyCold\n",
    "\n",
    "entropyHigh = 4 / 9 * (-3 / 4 * np.log2(3 / 4) - 1 / 4 * np.log2(1 / 4))\n",
    "entropyLow = 5 / 9 * (-1 / 5 * np.log2(1 / 5) - 4 / 5 * np.log2(4 / 5))\n",
    "IGWind = entropyP - entropyHigh - entropyLow\n",
    "\n",
    "IGHumidity + IGTemperature + IGWind"
   ]
  },
  {
   "cell_type": "code",
   "execution_count": null,
   "metadata": {},
   "outputs": [],
   "source": [
    "69076  + 65089  - 2 * (32 + 64 + 16 + 2 + 2 + 3136 + 64 + 32 + 1)"
   ]
  },
  {
   "cell_type": "code",
   "execution_count": 2,
   "metadata": {},
   "outputs": [],
   "source": [
    "# Q15\n",
    "from sklearn.feature_extraction.text import TfidfVectorizer\n",
    "import seaborn as sns\n",
    "\n",
    "corpus = [\n",
    "    \"Time flies like an arrow head.\",\n",
    "    \"Fruit flies like a banana taste.\",\n",
    "]\n",
    "\n",
    "vocab = [\"an\", \"arrow\", \"banana\", \"flies\", \"fruit\", \"like\", \"time\"]"
   ]
  },
  {
   "cell_type": "code",
   "execution_count": 5,
   "metadata": {},
   "outputs": [
    {
     "data": {
      "text/plain": [
       "0.22576484600261607"
      ]
     },
     "execution_count": 5,
     "metadata": {},
     "output_type": "execute_result"
    }
   ],
   "source": [
    "tfidf_vectorizer = TfidfVectorizer()\n",
    "tfidf = tfidf_vectorizer.fit_transform(corpus).toarray()\n",
    "tfidf[0]\n",
    "\n",
    "cos_similarity = tfidf[0].dot(tfidf[1]) / (\n",
    "    np.linalg.norm(tfidf[0]) * np.linalg.norm(tfidf[1])\n",
    ")\n",
    "\n",
    "cos_similarity"
   ]
  },
  {
   "cell_type": "code",
   "execution_count": 8,
   "metadata": {},
   "outputs": [
    {
     "data": {
      "text/plain": [
       "0.4844952"
      ]
     },
     "execution_count": 8,
     "metadata": {},
     "output_type": "execute_result"
    }
   ],
   "source": [
    "import numpy as np\n",
    "import gensim\n",
    "\n",
    "model = gensim.models.KeyedVectors.load_word2vec_format(\n",
    "    \"D:/Downloads/GoogleNews-vectors-negative300.bin\", binary=True\n",
    ")\n",
    "king = model[\"king\"]\n",
    "royal = model[\"royal\"]\n",
    "bridge = model[\"bridge\"]\n",
    "\n",
    "A = king.dot(royal) / (np.linalg.norm(king) * np.linalg.norm(royal))\n",
    "B = bridge.dot(king) / (np.linalg.norm(king) * np.linalg.norm(bridge))\n",
    "\n",
    "A - B"
   ]
  },
  {
   "cell_type": "code",
   "execution_count": 9,
   "metadata": {},
   "outputs": [
    {
     "data": {
      "text/plain": [
       "12"
      ]
     },
     "execution_count": 9,
     "metadata": {},
     "output_type": "execute_result"
    }
   ],
   "source": [
    "5 + 7"
   ]
  }
 ],
 "metadata": {
  "kernelspec": {
   "display_name": "pytorch",
   "language": "python",
   "name": "python3"
  },
  "language_info": {
   "codemirror_mode": {
    "name": "ipython",
    "version": 3
   },
   "file_extension": ".py",
   "mimetype": "text/x-python",
   "name": "python",
   "nbconvert_exporter": "python",
   "pygments_lexer": "ipython3",
   "version": "3.11.5"
  }
 },
 "nbformat": 4,
 "nbformat_minor": 2
}
