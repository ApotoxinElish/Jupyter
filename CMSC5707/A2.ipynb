{
 "cells": [
  {
   "cell_type": "code",
   "execution_count": 1,
   "metadata": {},
   "outputs": [],
   "source": [
    "import numpy as np"
   ]
  },
  {
   "cell_type": "code",
   "execution_count": 2,
   "metadata": {},
   "outputs": [
    {
     "data": {
      "text/plain": [
       "89980"
      ]
     },
     "execution_count": 2,
     "metadata": {},
     "output_type": "execute_result"
    }
   ],
   "source": [
    "# Q1\n",
    "D = 10\n",
    "N = 4500\n",
    "\n",
    "D * 2 * (N - 1)"
   ]
  },
  {
   "cell_type": "code",
   "execution_count": 3,
   "metadata": {},
   "outputs": [
    {
     "data": {
      "text/plain": [
       "0.001"
      ]
     },
     "execution_count": 3,
     "metadata": {},
     "output_type": "execute_result"
    }
   ],
   "source": [
    "# Q2\n",
    "N = 400  # 10\n",
    "correct = 351  # 7\n",
    "incorrect = N - correct\n",
    "D_t1 = 1 / N\n",
    "epsilon_t1 = D_t1 * incorrect\n",
    "alpha_t1 = 1 / 2 * np.log((1 - epsilon_t1) / epsilon_t1)\n",
    "alpha_t1\n",
    "Z_t1 = D_t1 * correct * np.e**-alpha_t1 + D_t1 * incorrect * np.e**alpha_t1\n",
    "Z_t1\n",
    "D_t2_correct = D_t1 * np.e**-alpha_t1 / Z_t1\n",
    "round(D_t2_correct, 5)"
   ]
  },
  {
   "cell_type": "code",
   "execution_count": 4,
   "metadata": {},
   "outputs": [
    {
     "data": {
      "text/plain": [
       "77"
      ]
     },
     "execution_count": 4,
     "metadata": {},
     "output_type": "execute_result"
    }
   ],
   "source": [
    "# Q3\n",
    "N = 5 * 5 + 5 * 4 + 4 * 3 + 3 * 2\n",
    "B = 5 + 4 + 3 + 2\n",
    "N + B"
   ]
  },
  {
   "cell_type": "code",
   "execution_count": 5,
   "metadata": {},
   "outputs": [
    {
     "data": {
      "text/plain": [
       "1.427"
      ]
     },
     "execution_count": 5,
     "metadata": {},
     "output_type": "execute_result"
    }
   ],
   "source": [
    "# Q4\n",
    "X1 = 0.1\n",
    "X2 = 0.2\n",
    "X3 = 0.3\n",
    "X4 = 0.4\n",
    "\n",
    "W11 = 0.21\n",
    "W12 = 0.12\n",
    "W21 = 0.35\n",
    "W22 = 0.22\n",
    "W31 = 0.15\n",
    "W32 = 0.18\n",
    "W41 = 0.41\n",
    "W42 = 0.34\n",
    "\n",
    "OW11 = 0.23\n",
    "OW12 = 0.41\n",
    "OW21 = 0.43\n",
    "OW22 = 0.63\n",
    "\n",
    "b21 = 0.3\n",
    "b22 = 0.5\n",
    "b31 = 0.6\n",
    "b32 = 0.1\n",
    "\n",
    "\n",
    "def sigmoid(u):\n",
    "    return 1 / (1 + np.e**-u)\n",
    "\n",
    "\n",
    "H1 = sigmoid(W11 * X1 + W12 * X2 + W31 * X3 + W41 * X4 + b21)\n",
    "H2 = sigmoid(W21 * X1 + W22 * X2 + W32 * X3 + W42 * X4 + b22)\n",
    "\n",
    "y1 = sigmoid(OW11 * H1 + OW21 * H2 + b31)\n",
    "y2 = sigmoid(OW12 * H1 + OW22 * H2 + b32)\n",
    "\n",
    "round(y1 + y2, 3)"
   ]
  },
  {
   "cell_type": "code",
   "execution_count": 6,
   "metadata": {},
   "outputs": [],
   "source": [
    "# Q5\n",
    "x1 = 0.11\n",
    "x2 = 0.22\n",
    "x3 = 0.33\n",
    "\n",
    "Wh1 = 0.57\n",
    "Wh2 = 0.68\n",
    "Wh3 = 0.54\n",
    "\n",
    "bh1 = 0.42\n",
    "bh2 = 0.64\n",
    "bh3 = 0.64\n",
    "\n",
    "b1 = 0.14\n",
    "b2 = 0.24\n",
    "b3 = 0.16\n",
    "\n",
    "A2 = 0.20\n",
    "A3 = 0.70\n",
    "\n",
    "w11 = 0.19\n",
    "w12 = 0.78\n",
    "w13 = 0.24\n",
    "\n",
    "w21 = 0.91\n",
    "w22 = 0.29\n",
    "w23 = 0.76\n",
    "\n",
    "w31 = 0.19\n",
    "w32 = 0.27\n",
    "w33 = 0.01\n",
    "\n",
    "S1 = -0.05\n",
    "S2 = 0.10\n",
    "S3 = 0.15"
   ]
  },
  {
   "cell_type": "code",
   "execution_count": 7,
   "metadata": {},
   "outputs": [
    {
     "data": {
      "text/plain": [
       "56.0"
      ]
     },
     "execution_count": 7,
     "metadata": {},
     "output_type": "execute_result"
    }
   ],
   "source": [
    "# Q6\n",
    "N = 162\n",
    "m = 3\n",
    "s = 3\n",
    "D = (N - m) / s + 1\n",
    "D\n",
    "p = 3\n",
    "D = (N - m + 2 * p) / s + 1\n",
    "D"
   ]
  },
  {
   "cell_type": "code",
   "execution_count": 8,
   "metadata": {},
   "outputs": [
    {
     "data": {
      "text/plain": [
       "19"
      ]
     },
     "execution_count": 8,
     "metadata": {},
     "output_type": "execute_result"
    }
   ],
   "source": [
    "# Q7\n",
    "np.max([18, 10, 7, 19])"
   ]
  },
  {
   "cell_type": "code",
   "execution_count": 9,
   "metadata": {},
   "outputs": [
    {
     "data": {
      "text/plain": [
       "200"
      ]
     },
     "execution_count": 9,
     "metadata": {},
     "output_type": "execute_result"
    }
   ],
   "source": [
    "# Q8\n",
    "4 * 7 * 7 + 4"
   ]
  },
  {
   "cell_type": "code",
   "execution_count": 10,
   "metadata": {},
   "outputs": [
    {
     "data": {
      "text/plain": [
       "16000"
      ]
     },
     "execution_count": 10,
     "metadata": {},
     "output_type": "execute_result"
    }
   ],
   "source": [
    "# Q9\n",
    "10 * (64 * 5 * 5)"
   ]
  },
  {
   "cell_type": "code",
   "execution_count": 11,
   "metadata": {},
   "outputs": [
    {
     "data": {
      "text/plain": [
       "0.913"
      ]
     },
     "execution_count": 11,
     "metadata": {},
     "output_type": "execute_result"
    }
   ],
   "source": [
    "# Q10\n",
    "WinA = [0.9, 0.13, 0.21, 0.21, 0.14, 0.32, 0.33, 0.14, 0.54]\n",
    "K = [0.3, 0.2, 0.25, 0.33, 0.13, 0.22, 0.53, 0.11, 0.4]\n",
    "\n",
    "output = 0\n",
    "for i in range(9):\n",
    "    output += WinA[i] * K[i]\n",
    "round(output, 3)"
   ]
  }
 ],
 "metadata": {
  "kernelspec": {
   "display_name": "Python 3",
   "language": "python",
   "name": "python3"
  },
  "language_info": {
   "codemirror_mode": {
    "name": "ipython",
    "version": 3
   },
   "file_extension": ".py",
   "mimetype": "text/x-python",
   "name": "python",
   "nbconvert_exporter": "python",
   "pygments_lexer": "ipython3",
   "version": "3.10.6"
  }
 },
 "nbformat": 4,
 "nbformat_minor": 2
}
