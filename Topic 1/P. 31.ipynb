{
 "cells": [
  {
   "cell_type": "code",
   "execution_count": 1,
   "metadata": {},
   "outputs": [
    {
     "data": {
      "text/latex": [
       "$\\displaystyle \\left[\\begin{matrix}1 & 2 & 3 & 4 & 4\\\\-2 & 5 & -4 & 8 & 8\\\\-5 & 6 & 5 & -8 & -8\\\\3 & -1 & -2 & 9 & 10\\\\1 & 2 & 3 & 4 & 4\\end{matrix}\\right]$"
      ],
      "text/plain": [
       "Matrix([\n",
       "[ 1,  2,  3,  4,  4],\n",
       "[-2,  5, -4,  8,  8],\n",
       "[-5,  6,  5, -8, -8],\n",
       "[ 3, -1, -2,  9, 10],\n",
       "[ 1,  2,  3,  4,  4]])"
      ]
     },
     "execution_count": 1,
     "metadata": {},
     "output_type": "execute_result"
    }
   ],
   "source": [
    "import sympy as sp\n",
    "\n",
    "A = sp.Matrix(\n",
    "    [\n",
    "        [1, -2, -5, 3, 1],\n",
    "        [2, 5, 6, -1, 2],\n",
    "        [3, -4, 5, -2, 3],\n",
    "        [4, 8, -8, 9, 4],\n",
    "        [4, 8, -8, 10, 4],\n",
    "    ]\n",
    ").T\n",
    "A\n"
   ]
  },
  {
   "cell_type": "code",
   "execution_count": 2,
   "metadata": {},
   "outputs": [
    {
     "data": {
      "text/plain": [
       "(Matrix([\n",
       " [1, 0, 0,  3, 0],\n",
       " [0, 1, 0,  2, 0],\n",
       " [0, 0, 1, -1, 0],\n",
       " [0, 0, 0,  0, 1],\n",
       " [0, 0, 0,  0, 0]]),\n",
       " (0, 1, 2, 4))"
      ]
     },
     "execution_count": 2,
     "metadata": {},
     "output_type": "execute_result"
    }
   ],
   "source": [
    "A.rref()\n"
   ]
  }
 ],
 "metadata": {
  "kernelspec": {
   "display_name": "Python 3",
   "language": "python",
   "name": "python3"
  },
  "language_info": {
   "codemirror_mode": {
    "name": "ipython",
    "version": 3
   },
   "file_extension": ".py",
   "mimetype": "text/x-python",
   "name": "python",
   "nbconvert_exporter": "python",
   "pygments_lexer": "ipython3",
   "version": "3.9.13"
  },
  "orig_nbformat": 4
 },
 "nbformat": 4,
 "nbformat_minor": 2
}
