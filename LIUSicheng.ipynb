{
 "cells": [
  {
   "cell_type": "code",
   "execution_count": 1,
   "id": "61208051",
   "metadata": {},
   "outputs": [],
   "source": [
    "import sympy as sp"
   ]
  },
  {
   "cell_type": "code",
   "execution_count": 2,
   "id": "d53ea899",
   "metadata": {},
   "outputs": [
    {
     "data": {
      "text/latex": [
       "$\\displaystyle \\left[\\begin{matrix}4 & 2 & -2 & -8\\\\2 & 4 & 8 & 2\\\\-2 & 8 & 4 & -2\\\\-8 & 2 & -2 & 4\\end{matrix}\\right]$"
      ],
      "text/plain": [
       "Matrix([\n",
       "[ 4, 2, -2, -8],\n",
       "[ 2, 4,  8,  2],\n",
       "[-2, 8,  4, -2],\n",
       "[-8, 2, -2,  4]])"
      ]
     },
     "execution_count": 2,
     "metadata": {},
     "output_type": "execute_result"
    }
   ],
   "source": [
    "A = sp.Matrix([[4, 2, -2, -8], [2, 4, 8, 2], [-2, 8, 4, -2], [-8, 2, -2, 4]])\n",
    "A"
   ]
  },
  {
   "cell_type": "code",
   "execution_count": 3,
   "id": "b77f0c0b",
   "metadata": {},
   "outputs": [
    {
     "data": {
      "text/latex": [
       "$\\displaystyle \\left[\\begin{matrix}88 & -16 & 16 & -56\\\\-16 & 88 & 56 & -16\\\\16 & 56 & 88 & 16\\\\-56 & -16 & 16 & 88\\end{matrix}\\right]$"
      ],
      "text/plain": [
       "Matrix([\n",
       "[ 88, -16, 16, -56],\n",
       "[-16,  88, 56, -16],\n",
       "[ 16,  56, 88,  16],\n",
       "[-56, -16, 16,  88]])"
      ]
     },
     "execution_count": 3,
     "metadata": {},
     "output_type": "execute_result"
    }
   ],
   "source": [
    "A.T@A"
   ]
  },
  {
   "cell_type": "code",
   "execution_count": 4,
   "id": "fd59dacb",
   "metadata": {},
   "outputs": [
    {
     "data": {
      "text/plain": [
       "[(0,\n",
       "  1,\n",
       "  [Matrix([\n",
       "   [ 1],\n",
       "   [ 1],\n",
       "   [-1],\n",
       "   [ 1]])]),\n",
       " (64,\n",
       "  1,\n",
       "  [Matrix([\n",
       "   [ 1],\n",
       "   [-1],\n",
       "   [ 1],\n",
       "   [ 1]])]),\n",
       " (144,\n",
       "  2,\n",
       "  [Matrix([\n",
       "   [0],\n",
       "   [1],\n",
       "   [1],\n",
       "   [0]]),\n",
       "   Matrix([\n",
       "   [-1],\n",
       "   [ 0],\n",
       "   [ 0],\n",
       "   [ 1]])])]"
      ]
     },
     "execution_count": 4,
     "metadata": {},
     "output_type": "execute_result"
    }
   ],
   "source": [
    "(A.T @ A).eigenvects()\n"
   ]
  },
  {
   "cell_type": "code",
   "execution_count": 5,
   "id": "0a7109f5",
   "metadata": {},
   "outputs": [
    {
     "data": {
      "text/plain": [
       "[12, 12, 8, 0]"
      ]
     },
     "execution_count": 5,
     "metadata": {},
     "output_type": "execute_result"
    }
   ],
   "source": [
    "A.singular_values()"
   ]
  },
  {
   "cell_type": "code",
   "execution_count": 6,
   "id": "9a6c01df",
   "metadata": {},
   "outputs": [
    {
     "data": {
      "text/latex": [
       "$\\displaystyle \\left[\\begin{matrix}- \\frac{1}{2} & 0 & - \\frac{\\sqrt{2}}{2}\\\\\\frac{1}{2} & \\frac{\\sqrt{2}}{2} & 0\\\\- \\frac{1}{2} & \\frac{\\sqrt{2}}{2} & 0\\\\- \\frac{1}{2} & 0 & \\frac{\\sqrt{2}}{2}\\end{matrix}\\right]$"
      ],
      "text/plain": [
       "Matrix([\n",
       "[-1/2,         0, -sqrt(2)/2],\n",
       "[ 1/2, sqrt(2)/2,          0],\n",
       "[-1/2, sqrt(2)/2,          0],\n",
       "[-1/2,         0,  sqrt(2)/2]])"
      ]
     },
     "execution_count": 6,
     "metadata": {},
     "output_type": "execute_result"
    }
   ],
   "source": [
    "U,S,V = A.singular_value_decomposition()\n",
    "U"
   ]
  },
  {
   "cell_type": "code",
   "execution_count": 13,
   "id": "aff842be",
   "metadata": {},
   "outputs": [
    {
     "data": {
      "text/plain": [
       "[Matrix([\n",
       " [ 1],\n",
       " [ 1],\n",
       " [-1],\n",
       " [ 1]])]"
      ]
     },
     "execution_count": 13,
     "metadata": {},
     "output_type": "execute_result"
    }
   ],
   "source": [
    "U.T.nullspace()"
   ]
  },
  {
   "cell_type": "code",
   "execution_count": 8,
   "id": "fc966be9",
   "metadata": {},
   "outputs": [
    {
     "data": {
      "text/latex": [
       "$\\displaystyle \\left[\\begin{matrix}8 & 0 & 0\\\\0 & 12 & 0\\\\0 & 0 & 12\\end{matrix}\\right]$"
      ],
      "text/plain": [
       "Matrix([\n",
       "[8,  0,  0],\n",
       "[0, 12,  0],\n",
       "[0,  0, 12]])"
      ]
     },
     "execution_count": 8,
     "metadata": {},
     "output_type": "execute_result"
    }
   ],
   "source": [
    "S"
   ]
  },
  {
   "cell_type": "code",
   "execution_count": 9,
   "id": "6a5db52b",
   "metadata": {},
   "outputs": [
    {
     "data": {
      "text/latex": [
       "$\\displaystyle \\left[\\begin{matrix}\\frac{1}{2} & 0 & - \\frac{\\sqrt{2}}{2}\\\\- \\frac{1}{2} & \\frac{\\sqrt{2}}{2} & 0\\\\\\frac{1}{2} & \\frac{\\sqrt{2}}{2} & 0\\\\\\frac{1}{2} & 0 & \\frac{\\sqrt{2}}{2}\\end{matrix}\\right]$"
      ],
      "text/plain": [
       "Matrix([\n",
       "[ 1/2,         0, -sqrt(2)/2],\n",
       "[-1/2, sqrt(2)/2,          0],\n",
       "[ 1/2, sqrt(2)/2,          0],\n",
       "[ 1/2,         0,  sqrt(2)/2]])"
      ]
     },
     "execution_count": 9,
     "metadata": {},
     "output_type": "execute_result"
    }
   ],
   "source": [
    "V"
   ]
  },
  {
   "cell_type": "code",
   "execution_count": null,
   "id": "bdcc4778",
   "metadata": {},
   "outputs": [],
   "source": []
  },
  {
   "cell_type": "code",
   "execution_count": 10,
   "id": "94df370b",
   "metadata": {},
   "outputs": [],
   "source": [
    "x = sp.symbols('x')\n",
    "y = sp.Function('y')(x)"
   ]
  },
  {
   "cell_type": "code",
   "execution_count": 11,
   "id": "2e90f775",
   "metadata": {},
   "outputs": [
    {
     "data": {
      "text/latex": [
       "$\\displaystyle \\frac{d}{d x} y{\\left(x \\right)} = \\frac{4 x + 2 y{\\left(x \\right)}}{- 2 x - 4 y{\\left(x \\right)}}$"
      ],
      "text/plain": [
       "Eq(Derivative(y(x), x), (4*x + 2*y(x))/(-2*x - 4*y(x)))"
      ]
     },
     "execution_count": 11,
     "metadata": {},
     "output_type": "execute_result"
    }
   ],
   "source": [
    "DE = sp.Eq(y.diff(),(4*x+2*y)/(-2*x-4*y));DE"
   ]
  },
  {
   "cell_type": "code",
   "execution_count": 12,
   "id": "5beecf81",
   "metadata": {},
   "outputs": [
    {
     "data": {
      "text/plain": [
       "[Eq(y(x), -x/2 - sqrt(C1 - 3*x**2)/2), Eq(y(x), -x/2 + sqrt(C1 - 3*x**2)/2)]"
      ]
     },
     "execution_count": 12,
     "metadata": {},
     "output_type": "execute_result"
    }
   ],
   "source": [
    "sp.dsolve(DE,y,simplify = False)"
   ]
  }
 ],
 "metadata": {
  "kernelspec": {
   "display_name": "Python 3 (ipykernel)",
   "language": "python",
   "name": "python3"
  },
  "language_info": {
   "codemirror_mode": {
    "name": "ipython",
    "version": 3
   },
   "file_extension": ".py",
   "mimetype": "text/x-python",
   "name": "python",
   "nbconvert_exporter": "python",
   "pygments_lexer": "ipython3",
   "version": "3.10.10"
  }
 },
 "nbformat": 4,
 "nbformat_minor": 5
}
