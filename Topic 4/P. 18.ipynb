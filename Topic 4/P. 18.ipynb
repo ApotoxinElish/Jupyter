{
 "cells": [
  {
   "cell_type": "code",
   "execution_count": 1,
   "metadata": {},
   "outputs": [
    {
     "data": {
      "text/plain": [
       "array([[6, 3, 2, 5],\n",
       "       [3, 8, 5, 6],\n",
       "       [2, 5, 4, 5],\n",
       "       [5, 6, 5, 2]])"
      ]
     },
     "execution_count": 1,
     "metadata": {},
     "output_type": "execute_result"
    }
   ],
   "source": [
    "import numpy as np\n",
    "\n",
    "A = np.array([[6, 3, 2, 5], [3, 8, 5, 6], [2, 5, 4, 5], [5, 6, 5, 2]])\n",
    "A\n"
   ]
  },
  {
   "cell_type": "code",
   "execution_count": 2,
   "metadata": {},
   "outputs": [
    {
     "data": {
      "text/plain": [
       "(array([18.37878448,  4.2761543 , -3.37813216,  0.72319338]),\n",
       " array([[-0.42046042, -0.84845279,  0.31313495, -0.07271451],\n",
       "        [-0.6197679 ,  0.43924433,  0.21547076, -0.61361593],\n",
       "        [-0.44479769,  0.28301455,  0.34945395,  0.77455775],\n",
       "        [-0.49117796, -0.08423208, -0.85638822,  0.13508654]]))"
      ]
     },
     "execution_count": 2,
     "metadata": {},
     "output_type": "execute_result"
    }
   ],
   "source": [
    "np.linalg.eig(A)\n"
   ]
  },
  {
   "cell_type": "code",
   "execution_count": 3,
   "metadata": {},
   "outputs": [
    {
     "data": {
      "text/plain": [
       "array([[6, 3, 2],\n",
       "       [3, 8, 5],\n",
       "       [2, 5, 4]])"
      ]
     },
     "execution_count": 3,
     "metadata": {},
     "output_type": "execute_result"
    }
   ],
   "source": [
    "B = A[0:3, 0:3]\n",
    "B\n"
   ]
  },
  {
   "cell_type": "code",
   "execution_count": 4,
   "metadata": {},
   "outputs": [
    {
     "data": {
      "text/plain": [
       "(array([13.19251931,  4.19280421,  0.61467648]),\n",
       " array([[ 0.44813055,  0.89394688,  0.00616301],\n",
       "        [ 0.74077971, -0.36747195, -0.56232535],\n",
       "        [ 0.50042426, -0.2565606 ,  0.82689311]]))"
      ]
     },
     "execution_count": 4,
     "metadata": {},
     "output_type": "execute_result"
    }
   ],
   "source": [
    "np.linalg.eig(B)\n"
   ]
  },
  {
   "cell_type": "code",
   "execution_count": 5,
   "metadata": {},
   "outputs": [
    {
     "data": {
      "text/plain": [
       "array([[8, 5, 6],\n",
       "       [5, 4, 5],\n",
       "       [6, 5, 2]])"
      ]
     },
     "execution_count": 5,
     "metadata": {},
     "output_type": "execute_result"
    }
   ],
   "source": [
    "C = A[1:4, 1:4]\n",
    "C\n"
   ]
  },
  {
   "cell_type": "code",
   "execution_count": 6,
   "metadata": {},
   "outputs": [
    {
     "data": {
      "text/plain": [
       "(array([15.78059973,  0.75095036, -2.53155008]),\n",
       " array([[-0.70641567, -0.65152327, -0.27657607],\n",
       "        [-0.50869908,  0.73903826, -0.44164204],\n",
       "        [-0.49214037,  0.17128887,  0.8534975 ]]))"
      ]
     },
     "execution_count": 6,
     "metadata": {},
     "output_type": "execute_result"
    }
   ],
   "source": [
    "np.linalg.eig(C)\n"
   ]
  }
 ],
 "metadata": {
  "kernelspec": {
   "display_name": "Python 3",
   "language": "python",
   "name": "python3"
  },
  "language_info": {
   "codemirror_mode": {
    "name": "ipython",
    "version": 3
   },
   "file_extension": ".py",
   "mimetype": "text/x-python",
   "name": "python",
   "nbconvert_exporter": "python",
   "pygments_lexer": "ipython3",
   "version": "3.10.10"
  },
  "orig_nbformat": 4
 },
 "nbformat": 4,
 "nbformat_minor": 2
}
