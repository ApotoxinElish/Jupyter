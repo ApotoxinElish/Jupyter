{
 "cells": [
  {
   "cell_type": "code",
   "execution_count": 3,
   "metadata": {},
   "outputs": [],
   "source": [
    "import sympy as sp\n"
   ]
  },
  {
   "cell_type": "code",
   "execution_count": 4,
   "metadata": {},
   "outputs": [
    {
     "data": {
      "text/latex": [
       "$\\displaystyle \\left[\\begin{matrix}-1 & 1 & 1 & 0\\\\-1 & 2 & -1 & -7\\\\-1 & 1 & 0 & -3\\end{matrix}\\right]$"
      ],
      "text/plain": [
       "Matrix([\n",
       "[-1, 1,  1,  0],\n",
       "[-1, 2, -1, -7],\n",
       "[-1, 1,  0, -3]])"
      ]
     },
     "execution_count": 4,
     "metadata": {},
     "output_type": "execute_result"
    }
   ],
   "source": [
    "A = sp.Matrix([[-1, -1, -1], [1, 2, 1], [1, -1, 0], [0, -7, -3]]).T\n",
    "A\n"
   ]
  },
  {
   "cell_type": "code",
   "execution_count": 5,
   "metadata": {},
   "outputs": [
    {
     "data": {
      "text/plain": [
       "(Matrix([\n",
       " [1, 0, 0,  2],\n",
       " [0, 1, 0, -1],\n",
       " [0, 0, 1,  3]]),\n",
       " (0, 1, 2))"
      ]
     },
     "execution_count": 5,
     "metadata": {},
     "output_type": "execute_result"
    }
   ],
   "source": [
    "A.rref()"
   ]
  },
  {
   "cell_type": "code",
   "execution_count": 6,
   "metadata": {},
   "outputs": [],
   "source": [
    "a = sp.symbols(\"a\")\n"
   ]
  },
  {
   "cell_type": "code",
   "execution_count": 7,
   "metadata": {},
   "outputs": [
    {
     "data": {
      "text/latex": [
       "$\\displaystyle \\left[\\begin{matrix}5 & 0 & 0 & 10\\\\-1 & -1 & 0 & a\\\\3 & 2 & -1 & 6\\\\5 & -3 & 2 & 11\\end{matrix}\\right]$"
      ],
      "text/plain": [
       "Matrix([\n",
       "[ 5,  0,  0, 10],\n",
       "[-1, -1,  0,  a],\n",
       "[ 3,  2, -1,  6],\n",
       "[ 5, -3,  2, 11]])"
      ]
     },
     "execution_count": 7,
     "metadata": {},
     "output_type": "execute_result"
    }
   ],
   "source": [
    "H = sp.Matrix([[5, -1, 3, 5], [0, -1, 2, -3], [0, 0, -1, 2], [10, a, 6, 11]]).T\n",
    "H\n"
   ]
  },
  {
   "cell_type": "code",
   "execution_count": 8,
   "metadata": {},
   "outputs": [
    {
     "data": {
      "text/plain": [
       "(Matrix([\n",
       " [1, 0, 0, 0],\n",
       " [0, 1, 0, 0],\n",
       " [0, 0, 1, 0],\n",
       " [0, 0, 0, 1]]),\n",
       " (0, 1, 2, 3))"
      ]
     },
     "execution_count": 8,
     "metadata": {},
     "output_type": "execute_result"
    }
   ],
   "source": [
    "H.rref()"
   ]
  },
  {
   "cell_type": "code",
   "execution_count": 9,
   "metadata": {},
   "outputs": [
    {
     "data": {
      "text/latex": [
       "$\\displaystyle 5 a + 15$"
      ],
      "text/plain": [
       "5*a + 15"
      ]
     },
     "execution_count": 9,
     "metadata": {},
     "output_type": "execute_result"
    }
   ],
   "source": [
    "H.det()"
   ]
  },
  {
   "cell_type": "code",
   "execution_count": 10,
   "metadata": {},
   "outputs": [
    {
     "data": {
      "text/plain": [
       "(Matrix([\n",
       " [1, 0, -2],\n",
       " [0, 1, -3],\n",
       " [0, 0,  0],\n",
       " [0, 0,  0]]),\n",
       " (0, 1))"
      ]
     },
     "execution_count": 10,
     "metadata": {},
     "output_type": "execute_result"
    }
   ],
   "source": [
    "H = sp.Matrix([[-1, 3, -4, -2], [1, 3, -4, -2], [-1, -15, 20, 10]]).T\n",
    "H\n",
    "H.rref()\n"
   ]
  },
  {
   "cell_type": "code",
   "execution_count": 11,
   "metadata": {},
   "outputs": [
    {
     "data": {
      "text/plain": [
       "(Matrix([\n",
       " [1, 0, 53/13],\n",
       " [0, 1, 69/13]]),\n",
       " (0, 1))"
      ]
     },
     "execution_count": 11,
     "metadata": {},
     "output_type": "execute_result"
    }
   ],
   "source": [
    "A5 = sp.Matrix([[7, 3], [-5, -4], [2, -9]]).T\n",
    "A5\n",
    "A5.rref()\n"
   ]
  },
  {
   "cell_type": "code",
   "execution_count": 12,
   "metadata": {},
   "outputs": [
    {
     "data": {
      "text/plain": [
       "(Matrix([\n",
       " [1, 0,  1],\n",
       " [0, 1, -1],\n",
       " [0, 0,  0]]),\n",
       " (0, 1))"
      ]
     },
     "execution_count": 12,
     "metadata": {},
     "output_type": "execute_result"
    }
   ],
   "source": [
    "A5d = sp.Matrix([[5, -2, 7], [3, -5, -4], [2, 3, 11]]).T\n",
    "A5d\n",
    "A5d.rref()\n"
   ]
  },
  {
   "cell_type": "code",
   "execution_count": 13,
   "metadata": {},
   "outputs": [
    {
     "data": {
      "text/plain": [
       "(Matrix([\n",
       " [1, 0, 0, 0],\n",
       " [0, 1, 0, 0],\n",
       " [0, 0, 1, 0],\n",
       " [0, 0, 0, 1]]),\n",
       " (0, 1, 2, 3))"
      ]
     },
     "execution_count": 13,
     "metadata": {},
     "output_type": "execute_result"
    }
   ],
   "source": [
    "A6 = sp.Matrix(\n",
    "    [[5, 3, 5, 3], [-25, -13, -29, -10], [-15, -7, -18, -6], [10, 4, 9, 5]]\n",
    ").T\n",
    "A6\n",
    "A6.rref()\n"
   ]
  },
  {
   "cell_type": "code",
   "execution_count": 14,
   "metadata": {},
   "outputs": [
    {
     "data": {
      "text/plain": [
       "(Matrix([\n",
       " [1, 0, 0],\n",
       " [0, 1, 0],\n",
       " [0, 0, 1],\n",
       " [0, 0, 0]]),\n",
       " (0, 1, 2))"
      ]
     },
     "execution_count": 14,
     "metadata": {},
     "output_type": "execute_result"
    }
   ],
   "source": [
    "A7 = sp.Matrix([[4, 9, 4, 3], [-8, -19, -11, -8], [-4, -13, -6, -2]]).T\n",
    "A7\n",
    "A7.rref()\n"
   ]
  },
  {
   "cell_type": "code",
   "execution_count": 15,
   "metadata": {},
   "outputs": [
    {
     "data": {
      "text/latex": [
       "$\\displaystyle \\left[\\begin{matrix}3 & 1 & 2 & 0\\\\2 & 1 & 1 & -1\\\\-2 & -1 & -1 & 1\\\\1 & 1 & 0 & -2\\end{matrix}\\right]$"
      ],
      "text/plain": [
       "Matrix([\n",
       "[ 3,  1,  2,  0],\n",
       "[ 2,  1,  1, -1],\n",
       "[-2, -1, -1,  1],\n",
       "[ 1,  1,  0, -2]])"
      ]
     },
     "execution_count": 15,
     "metadata": {},
     "output_type": "execute_result"
    }
   ],
   "source": [
    "P10 = sp.Matrix([[3, 2, -2, 1], [1, 1, -1, 1], [2, 1, -1, 0], [0, -1, 1, -2]]).T\n",
    "P10\n"
   ]
  },
  {
   "cell_type": "code",
   "execution_count": 16,
   "metadata": {},
   "outputs": [
    {
     "data": {
      "text/plain": [
       "(Matrix([\n",
       " [1, 0,  1,  1],\n",
       " [0, 1, -1, -3],\n",
       " [0, 0,  0,  0],\n",
       " [0, 0,  0,  0]]),\n",
       " (0, 1))"
      ]
     },
     "execution_count": 16,
     "metadata": {},
     "output_type": "execute_result"
    }
   ],
   "source": [
    "P10.rref()\n"
   ]
  },
  {
   "cell_type": "code",
   "execution_count": 17,
   "metadata": {},
   "outputs": [
    {
     "data": {
      "text/plain": [
       "(Matrix([\n",
       " [1, -7/2],\n",
       " [0,    0]]),\n",
       " (0,))"
      ]
     },
     "execution_count": 17,
     "metadata": {},
     "output_type": "execute_result"
    }
   ],
   "source": [
    "P11 = sp.Matrix([[2, -6], [-7, 21]]).T\n",
    "P11.rref()\n"
   ]
  },
  {
   "cell_type": "code",
   "execution_count": 18,
   "metadata": {},
   "outputs": [
    {
     "data": {
      "text/latex": [
       "$\\displaystyle \\left[\\begin{matrix}-21\\\\-18\\\\-45\\end{matrix}\\right]$"
      ],
      "text/plain": [
       "Matrix([\n",
       "[-21],\n",
       "[-18],\n",
       "[-45]])"
      ]
     },
     "execution_count": 18,
     "metadata": {},
     "output_type": "execute_result"
    }
   ],
   "source": [
    "A13 = sp.Matrix([[1, 3, -8], [2, 4, -8], [1, 5, -16]])\n",
    "v = sp.Matrix([[2, -1, 6]]).T\n",
    "w = sp.Matrix([[-4, 4, 1]]).T\n",
    "x = sp.Matrix([[-1, 4, 4]]).T\n",
    "A13@x"
   ]
  },
  {
   "cell_type": "code",
   "execution_count": 19,
   "metadata": {},
   "outputs": [
    {
     "data": {
      "text/plain": [
       "(Matrix([\n",
       " [1, 0, -2/5, -1/5],\n",
       " [0, 1, -6/5, 12/5],\n",
       " [0, 0,    0,    0]]),\n",
       " (0, 1))"
      ]
     },
     "execution_count": 19,
     "metadata": {},
     "output_type": "execute_result"
    }
   ],
   "source": [
    "A14 = sp.Matrix([[3, -1, 0, -3], [-4, -2, 4, -4], [5, 5, -8, 11]])\n",
    "A14.rref()"
   ]
  },
  {
   "cell_type": "code",
   "execution_count": 20,
   "metadata": {},
   "outputs": [
    {
     "data": {
      "text/plain": [
       "[Matrix([\n",
       " [3/2],\n",
       " [  1],\n",
       " [  0],\n",
       " [  0]]),\n",
       " Matrix([\n",
       " [1/2],\n",
       " [  0],\n",
       " [  1],\n",
       " [  0]]),\n",
       " Matrix([\n",
       " [3/2],\n",
       " [  0],\n",
       " [  0],\n",
       " [  1]])]"
      ]
     },
     "execution_count": 20,
     "metadata": {},
     "output_type": "execute_result"
    }
   ],
   "source": [
    "A15 = sp.Matrix([[0, 0, 0, 0], [6, -9, -3, -9]])\n",
    "A15.nullspace()"
   ]
  },
  {
   "cell_type": "code",
   "execution_count": 21,
   "metadata": {},
   "outputs": [
    {
     "data": {
      "text/plain": [
       "[Matrix([\n",
       " [ 5],\n",
       " [-1],\n",
       " [ 1],\n",
       " [ 0]]),\n",
       " Matrix([\n",
       " [ 3],\n",
       " [-1],\n",
       " [ 0],\n",
       " [ 1]])]"
      ]
     },
     "execution_count": 21,
     "metadata": {},
     "output_type": "execute_result"
    }
   ],
   "source": [
    "A17 = sp.Matrix([[1, 4, -1, 1], [3, 14, -1, 5], [4, 20, 0, 8]])\n",
    "A17.rref()\n",
    "A17.nullspace()\n"
   ]
  },
  {
   "cell_type": "code",
   "execution_count": 22,
   "metadata": {},
   "outputs": [
    {
     "data": {
      "text/latex": [
       "$\\displaystyle \\left[\\begin{matrix}3 & -3 & -1\\\\-4 & 3 & 2\\\\9 & -7 & -4\\end{matrix}\\right]$"
      ],
      "text/plain": [
       "Matrix([\n",
       "[ 3, -3, -1],\n",
       "[-4,  3,  2],\n",
       "[ 9, -7, -4]])"
      ]
     },
     "execution_count": 22,
     "metadata": {},
     "output_type": "execute_result"
    }
   ],
   "source": [
    "B = sp.Matrix([[2, -1, -1], [2, -2, -1], [1, -1, 0]])\n",
    "C = sp.Matrix([[-1, 1, 1], [1, -2, -1], [0, 2, 1]])\n",
    "e = C @ (B.inv())\n",
    "B @ e\n",
    "d = B.inv() @ C\n",
    "B @ d\n",
    "d\n",
    "C.inv() @ B\n"
   ]
  },
  {
   "cell_type": "code",
   "execution_count": 23,
   "metadata": {},
   "outputs": [
    {
     "data": {
      "text/latex": [
       "$\\displaystyle \\left[\\begin{matrix}0 & -1 & 2\\\\-1 & 2 & -3\\\\1 & -1 & 2\\end{matrix}\\right]$"
      ],
      "text/plain": [
       "Matrix([\n",
       "[ 0, -1,  2],\n",
       "[-1,  2, -3],\n",
       "[ 1, -1,  2]])"
      ]
     },
     "execution_count": 23,
     "metadata": {},
     "output_type": "execute_result"
    }
   ],
   "source": [
    "B = sp.Matrix([[2, -1, -1], [2, -2, -1], [1, -1, 0]]).T\n",
    "C = sp.Matrix([[-1, 1, 1], [1, -2, -1], [0, 2, 1]]).T\n",
    "B.inv() @ C\n",
    "# C.inv() @ B\n"
   ]
  },
  {
   "cell_type": "code",
   "execution_count": 69,
   "metadata": {},
   "outputs": [
    {
     "data": {
      "text/latex": [
       "$\\displaystyle \\left[\\begin{matrix}0\\\\1\\end{matrix}\\right]$"
      ],
      "text/plain": [
       "Matrix([\n",
       "[0],\n",
       "[1]])"
      ]
     },
     "execution_count": 69,
     "metadata": {},
     "output_type": "execute_result"
    }
   ],
   "source": [
    "b1 = sp.Matrix([[2, -2]]).T\n",
    "b2 = sp.Matrix([[-2, -3]]).T\n",
    "B = b1.row_join(b2)\n",
    "B\n",
    "B.inv() @ b2\n",
    "# S = sp.Matrix([[1, 0], [0, 1]]).T\n",
    "# S.inv() @ b1\n",
    "# S.inv() @ B\n",
    "# B.inv() @ S\n",
    "\n",
    "# S.inv() @ (3 * b1 + 6 * b2)\n",
    "# B.inv()@(sp.Matrix([[2,7]]).T)\n"
   ]
  },
  {
   "cell_type": "code",
   "execution_count": 68,
   "metadata": {},
   "outputs": [
    {
     "data": {
      "text/latex": [
       "$\\displaystyle \\left[\\begin{matrix}2 & 0\\\\3 & -1\\end{matrix}\\right]$"
      ],
      "text/plain": [
       "Matrix([\n",
       "[2,  0],\n",
       "[3, -1]])"
      ]
     },
     "execution_count": 68,
     "metadata": {},
     "output_type": "execute_result"
    }
   ],
   "source": [
    "x = sp.symbols(\"x\")\n",
    "B = sp.Matrix([[1, -2], [4, -7]]).T\n",
    "C = sp.Matrix([[2, 3], [0, -1]]).T\n",
    "E = sp.Matrix([[1, 0], [0, 1]]).T\n",
    "E.inv() @ C @ E\n",
    "# E.inv() @ B\n",
    "# B.inv() @ E\n",
    "# B.inv() @ C\n",
    "# p = sp.Matrix([[-2, -2]]).T\n",
    "# B.inv() @ p\n",
    "# q = C @ sp.Matrix([[-2, -2]]).T\n",
    "# B.inv() @ q\n"
   ]
  },
  {
   "cell_type": "code",
   "execution_count": 95,
   "metadata": {},
   "outputs": [
    {
     "ename": "AttributeError",
     "evalue": "'int' object has no attribute 'rows'",
     "output_type": "error",
     "traceback": [
      "\u001b[1;31m---------------------------------------------------------------------------\u001b[0m",
      "\u001b[1;31mAttributeError\u001b[0m                            Traceback (most recent call last)",
      "Cell \u001b[1;32mIn[95], line 13\u001b[0m\n\u001b[0;32m     11\u001b[0m c3 \u001b[39m=\u001b[39m sp\u001b[39m.\u001b[39mMatrix([[\u001b[39m4\u001b[39m, \u001b[39m-\u001b[39m\u001b[39m1\u001b[39m], [\u001b[39m0\u001b[39m, \u001b[39m3\u001b[39m]])\n\u001b[0;32m     12\u001b[0m C \u001b[39m=\u001b[39m sp\u001b[39m.\u001b[39mBlockMatrix([c1, c2, c3])\n\u001b[1;32m---> 13\u001b[0m T \u001b[39m=\u001b[39m sp\u001b[39m.\u001b[39;49mBlockMatrix([[\u001b[39m-\u001b[39;49m\u001b[39m17\u001b[39;49m, \u001b[39m-\u001b[39;49m\u001b[39m11\u001b[39;49m, \u001b[39m23\u001b[39;49m], [\u001b[39m3\u001b[39;49m, \u001b[39m3\u001b[39;49m, \u001b[39m-\u001b[39;49m\u001b[39m6\u001b[39;49m], [\u001b[39m14\u001b[39;49m, \u001b[39m9\u001b[39;49m, \u001b[39m-\u001b[39;49m\u001b[39m22\u001b[39;49m]])\n\u001b[0;32m     14\u001b[0m T \u001b[39m@\u001b[39m sp\u001b[39m.\u001b[39mMatrix([[\u001b[39m1\u001b[39m, \u001b[39m3\u001b[39m, \u001b[39m1\u001b[39m]])\u001b[39m.\u001b[39mT\n\u001b[0;32m     15\u001b[0m \u001b[39m# x = sp.symbols(\"x\")\u001b[39;00m\n\u001b[0;32m     16\u001b[0m \u001b[39m# sp.linsolve((B, C), x)\u001b[39;00m\n",
      "File \u001b[1;32md:\\Program Files\\Python311\\Lib\\site-packages\\sympy\\matrices\\expressions\\blockmatrix.py:100\u001b[0m, in \u001b[0;36mBlockMatrix.__new__\u001b[1;34m(cls, *args, **kwargs)\u001b[0m\n\u001b[0;32m     97\u001b[0m \u001b[39mif\u001b[39;00m ok:\n\u001b[0;32m     98\u001b[0m     \u001b[39m# same number of rows for each matrix in a row\u001b[39;00m\n\u001b[0;32m     99\u001b[0m     \u001b[39mfor\u001b[39;00m r \u001b[39min\u001b[39;00m rows:\n\u001b[1;32m--> 100\u001b[0m         ok \u001b[39m=\u001b[39m \u001b[39mlen\u001b[39m({i\u001b[39m.\u001b[39;49mrows \u001b[39mfor\u001b[39;49;00m i \u001b[39min\u001b[39;49;00m r}) \u001b[39m==\u001b[39m \u001b[39m1\u001b[39m\n\u001b[0;32m    101\u001b[0m         \u001b[39mif\u001b[39;00m \u001b[39mnot\u001b[39;00m ok:\n\u001b[0;32m    102\u001b[0m             \u001b[39mbreak\u001b[39;00m\n",
      "File \u001b[1;32md:\\Program Files\\Python311\\Lib\\site-packages\\sympy\\matrices\\expressions\\blockmatrix.py:100\u001b[0m, in \u001b[0;36m<setcomp>\u001b[1;34m(.0)\u001b[0m\n\u001b[0;32m     97\u001b[0m \u001b[39mif\u001b[39;00m ok:\n\u001b[0;32m     98\u001b[0m     \u001b[39m# same number of rows for each matrix in a row\u001b[39;00m\n\u001b[0;32m     99\u001b[0m     \u001b[39mfor\u001b[39;00m r \u001b[39min\u001b[39;00m rows:\n\u001b[1;32m--> 100\u001b[0m         ok \u001b[39m=\u001b[39m \u001b[39mlen\u001b[39m({i\u001b[39m.\u001b[39;49mrows \u001b[39mfor\u001b[39;00m i \u001b[39min\u001b[39;00m r}) \u001b[39m==\u001b[39m \u001b[39m1\u001b[39m\n\u001b[0;32m    101\u001b[0m         \u001b[39mif\u001b[39;00m \u001b[39mnot\u001b[39;00m ok:\n\u001b[0;32m    102\u001b[0m             \u001b[39mbreak\u001b[39;00m\n",
      "\u001b[1;31mAttributeError\u001b[0m: 'int' object has no attribute 'rows'"
     ]
    }
   ],
   "source": [
    "s22 = sp.Matrix([[-2, -1, -2], [-1, 0, -1], [-1, 3, -2]])\n",
    "s22\n",
    "x1, x2, x3 = sp.symbols(\"x1 x2 x3\")\n",
    "sp.linsolve((s22, sp.Matrix([[4, -1, 3]]).T), x1, x2, x3)\n",
    "b1 = sp.Matrix([[-2, -1], [0, -1]])\n",
    "b2 = sp.Matrix([[-1, 0], [0, 3]])\n",
    "b3 = sp.Matrix([[-2, -1], [0, -2]])\n",
    "B = sp.BlockMatrix([b1, b2, b3])\n",
    "c1 = sp.Matrix([[3, 3], [0, -2]])\n",
    "c2 = sp.Matrix([[1, 2], [0, 2]])\n",
    "c3 = sp.Matrix([[4, -1], [0, 3]])\n",
    "C = sp.BlockMatrix([c1, c2, c3])\n",
    "T = sp.Matrix([[-17, -11, 23], [3, 3, -6], [14, 9, -22]])\n",
    "T @ sp.Matrix([[1, 3, 1]]).T\n",
    "# x = sp.symbols(\"x\")\n",
    "# sp.linsolve((B, C), x)\n"
   ]
  },
  {
   "cell_type": "code",
   "execution_count": 91,
   "metadata": {},
   "outputs": [
    {
     "data": {
      "text/latex": [
       "$\\displaystyle \\left[\\begin{matrix}4 & 3 & 0\\\\3 & 4 & 2\\\\-3 & -3 & -1\\end{matrix}\\right]$"
      ],
      "text/plain": [
       "Matrix([\n",
       "[ 4,  3,  0],\n",
       "[ 3,  4,  2],\n",
       "[-3, -3, -1]])"
      ]
     },
     "execution_count": 91,
     "metadata": {},
     "output_type": "execute_result"
    }
   ],
   "source": [
    "B = sp.Matrix([[2, -1, -1], [2, 0, -1], [5, -1, -2]]).T\n",
    "C = sp.Matrix([[-1, -1, -1], [-1, 0, -1], [-1, 1, 0]]).T\n",
    "C.inv() @ B\n",
    "B.inv() @ C"
   ]
  },
  {
   "cell_type": "code",
   "execution_count": null,
   "metadata": {},
   "outputs": [],
   "source": []
  }
 ],
 "metadata": {
  "kernelspec": {
   "display_name": "Python 3",
   "language": "python",
   "name": "python3"
  },
  "language_info": {
   "codemirror_mode": {
    "name": "ipython",
    "version": 3
   },
   "file_extension": ".py",
   "mimetype": "text/x-python",
   "name": "python",
   "nbconvert_exporter": "python",
   "pygments_lexer": "ipython3",
   "version": "3.11.1"
  },
  "orig_nbformat": 4,
  "vscode": {
   "interpreter": {
    "hash": "3b03d3ad6b1336e6e4949d619e4badd72fec28959454a0e0d6a04b545beba08a"
   }
  }
 },
 "nbformat": 4,
 "nbformat_minor": 2
}
