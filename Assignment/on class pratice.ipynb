{
 "cells": [
  {
   "cell_type": "code",
   "execution_count": 2,
   "id": "69ea7434",
   "metadata": {},
   "outputs": [],
   "source": [
    "import numpy as np\n",
    "import sympy as sp\n",
    "from sympy.matrices import Matrix, eye, zeros, ones, diag, GramSchmidt"
   ]
  },
  {
   "cell_type": "code",
   "execution_count": 2,
   "id": "a1fcb831",
   "metadata": {},
   "outputs": [
    {
     "data": {
      "text/latex": [
       "$\\displaystyle \\left[\\begin{matrix}1 & 2 & 3\\\\0 & -2 & 8\\\\-4 & 5 & 9\\end{matrix}\\right]$"
      ],
      "text/plain": [
       "Matrix([\n",
       "[ 1,  2, 3],\n",
       "[ 0, -2, 8],\n",
       "[-4,  5, 9]])"
      ]
     },
     "execution_count": 2,
     "metadata": {},
     "output_type": "execute_result"
    }
   ],
   "source": [
    "variablea = sp.Matrix([[1, 2, 3], [0, -2, 8], [-4, 5, 9]]); variablea"
   ]
  },
  {
   "cell_type": "code",
   "execution_count": 3,
   "id": "740683b6",
   "metadata": {},
   "outputs": [],
   "source": [
    "variableb = sp.Matrix([[0,8,9]])"
   ]
  },
  {
   "cell_type": "code",
   "execution_count": 4,
   "id": "b40cb18b",
   "metadata": {},
   "outputs": [
    {
     "data": {
      "text/latex": [
       "$\\displaystyle \\left[\\begin{matrix}2 & 3 & 1 & 0 & 1 & 4\\\\3 & 3 & 4 & 6 & 4 & 5\\\\4 & 2 & 3 & 5 & 5 & 6\\end{matrix}\\right]$"
      ],
      "text/plain": [
       "Matrix([\n",
       "[2, 3, 1, 0, 1, 4],\n",
       "[3, 3, 4, 6, 4, 5],\n",
       "[4, 2, 3, 5, 5, 6]])"
      ]
     },
     "execution_count": 4,
     "metadata": {},
     "output_type": "execute_result"
    }
   ],
   "source": [
    "A = sp.Matrix([[2, 3, 1,0,1,4], [3,3,4,6, 4, 5], [4,2,3,5, 5, 6]]);A"
   ]
  },
  {
   "cell_type": "code",
   "execution_count": 5,
   "id": "24586218",
   "metadata": {},
   "outputs": [
    {
     "data": {
      "text/plain": [
       "(Matrix([\n",
       " [1, 0, 0,   3/17,  18/17, 23/17],\n",
       " [0, 1, 0, -13/17, -10/17,  8/17],\n",
       " [0, 0, 1,  33/17,  11/17, -2/17]]),\n",
       " (0, 1, 2))"
      ]
     },
     "execution_count": 5,
     "metadata": {},
     "output_type": "execute_result"
    }
   ],
   "source": [
    "A.rref()"
   ]
  },
  {
   "cell_type": "code",
   "execution_count": 6,
   "id": "0cddec9f",
   "metadata": {},
   "outputs": [
    {
     "data": {
      "text/latex": [
       "$\\displaystyle \\left[\\begin{matrix}1 & 4 & 3 & 3\\\\2 & 8 & 5 & 9\\\\-3 & -5 & 4 & 5\\\\1 & 1 & 1 & 1\\end{matrix}\\right]$"
      ],
      "text/plain": [
       "Matrix([\n",
       "[ 1,  4, 3, 3],\n",
       "[ 2,  8, 5, 9],\n",
       "[-3, -5, 4, 5],\n",
       "[ 1,  1, 1, 1]])"
      ]
     },
     "execution_count": 6,
     "metadata": {},
     "output_type": "execute_result"
    }
   ],
   "source": [
    "A = sp.Matrix([\n",
    "    [1, 4, 3, 3],\n",
    "    [2, 8, 5, 9],\n",
    "    [-3, -5, 4, 5],\n",
    "    [1,1, 1, 1]\n",
    "]); A"
   ]
  },
  {
   "cell_type": "code",
   "execution_count": 7,
   "id": "19b4187d",
   "metadata": {},
   "outputs": [
    {
     "data": {
      "text/latex": [
       "$\\displaystyle \\left[\\begin{matrix}0\\\\0\\\\0\\\\0\\end{matrix}\\right]$"
      ],
      "text/plain": [
       "Matrix([\n",
       "[0],\n",
       "[0],\n",
       "[0],\n",
       "[0]])"
      ]
     },
     "execution_count": 7,
     "metadata": {},
     "output_type": "execute_result"
    }
   ],
   "source": [
    "b=sp.zeros(4, 1); b"
   ]
  },
  {
   "cell_type": "code",
   "execution_count": 8,
   "id": "92205154",
   "metadata": {},
   "outputs": [],
   "source": [
    "x1, x2, x3, x4 = sp.symbols(\"x1 x2 x3 x4\")"
   ]
  },
  {
   "cell_type": "code",
   "execution_count": 9,
   "id": "f106347c",
   "metadata": {},
   "outputs": [
    {
     "data": {
      "text/plain": [
       "(Matrix([\n",
       " [1, 0, 0, 0],\n",
       " [0, 1, 0, 0],\n",
       " [0, 0, 1, 0],\n",
       " [0, 0, 0, 1]]),\n",
       " (0, 1, 2, 3))"
      ]
     },
     "execution_count": 9,
     "metadata": {},
     "output_type": "execute_result"
    }
   ],
   "source": [
    "sp.linsolve((A, b),x1, x2, x3, x4)\n",
    "A.rref()"
   ]
  },
  {
   "cell_type": "code",
   "execution_count": 13,
   "id": "770afd9d",
   "metadata": {},
   "outputs": [],
   "source": [
    "a = sp.Matrix([\n",
    "    [0, -1, -1, 1, -2, 0, 6],\n",
    "    [-1, -1, 1, 1, -2, -2, 2],\n",
    "    [1, 0, -2, 0, 2, -2, -8],\n",
    "    [0, 0, 0, 0, 1, -2, -6],\n",
    "    [2,1, -3, -1, 2, -2, 10],\n",
    "    [-2, -2, 2, 2, 1, 1, 4],\n",
    "    [0, -2, -2, 2, 1, -1, 0]\n",
    "]);\n",
    "b = sp.Matrix([[-7, -6, 6, 7, 8, 0, 0]]).T"
   ]
  },
  {
   "cell_type": "code",
   "execution_count": 15,
   "id": "81cc4685",
   "metadata": {},
   "outputs": [
    {
     "data": {
      "text/plain": [
       "(Matrix([\n",
       " [1, 0, -2,  0, 0, 0, 0, 0],\n",
       " [0, 1,  1, -1, 0, 0, 0, 0],\n",
       " [0, 0,  0,  0, 1, 0, 0, 0],\n",
       " [0, 0,  0,  0, 0, 1, 0, 0],\n",
       " [0, 0,  0,  0, 0, 0, 1, 0],\n",
       " [0, 0,  0,  0, 0, 0, 0, 1],\n",
       " [0, 0,  0,  0, 0, 0, 0, 0]]),\n",
       " (0, 1, 4, 5, 6, 7))"
      ]
     },
     "execution_count": 15,
     "metadata": {},
     "output_type": "execute_result"
    }
   ],
   "source": [
    "a.row_join(b).rref()"
   ]
  },
  {
   "cell_type": "code",
   "execution_count": 16,
   "id": "edc67003",
   "metadata": {},
   "outputs": [
    {
     "data": {
      "text/plain": [
       "[Matrix([\n",
       " [ 2],\n",
       " [-1],\n",
       " [ 1],\n",
       " [ 0],\n",
       " [ 0],\n",
       " [ 0],\n",
       " [ 0]]),\n",
       " Matrix([\n",
       " [0],\n",
       " [1],\n",
       " [0],\n",
       " [1],\n",
       " [0],\n",
       " [0],\n",
       " [0]])]"
      ]
     },
     "execution_count": 16,
     "metadata": {},
     "output_type": "execute_result"
    }
   ],
   "source": [
    "a.nullspace()"
   ]
  },
  {
   "cell_type": "code",
   "execution_count": 6,
   "id": "4bc20a32",
   "metadata": {},
   "outputs": [],
   "source": [
    "a1=sp.Matrix([\n",
    "    [-2,1,1],\n",
    "    [2,0,-1],\n",
    "    [3,0,-1]\n",
    "]).T;\n",
    "a2=sp.Matrix([-20, 5,9]).T"
   ]
  },
  {
   "cell_type": "code",
   "execution_count": 2,
   "metadata": {
    "collapsed": false
   },
   "outputs": [],
   "source": [
    "a,x,x1,x2=sp.symbols(\"a x x1 x2\") # x, y, z = sp.symbols(\"x, y, z\")"
   ]
  },
  {
   "cell_type": "code",
   "execution_count": 7,
   "metadata": {
    "collapsed": false
   },
   "outputs": [
    {
     "data": {
      "text/latex": [
       "$\\displaystyle \\left\\{\\left( 5, \\  -2, \\  -2\\right)\\right\\}$"
      ],
      "text/plain": [
       "{(5, -2, -2)}"
      ]
     },
     "execution_count": 7,
     "metadata": {},
     "output_type": "execute_result"
    }
   ],
   "source": [
    "sp.linsolve((a1, a2), x, x1, x2)"
   ]
  },
  {
   "cell_type": "code",
   "execution_count": 12,
   "metadata": {
    "collapsed": false
   },
   "outputs": [
    {
     "data": {
      "text/latex": [
       "$\\displaystyle 16 a - 192$"
      ],
      "text/plain": [
       "16*a - 192"
      ]
     },
     "execution_count": 12,
     "metadata": {},
     "output_type": "execute_result"
    }
   ],
   "source": [
    "a2=sp.Matrix([\n",
    "    [-2,-4,5,-5],\n",
    "    [0,4,4,4],\n",
    "    [0,0,1,-1],\n",
    "    [2,a,1,15]\n",
    "]).T\n",
    "a2.det()"
   ]
  },
  {
   "cell_type": "code",
   "execution_count": 19,
   "metadata": {
    "collapsed": false
   },
   "outputs": [
    {
     "data": {
      "text/latex": [
       "$\\displaystyle 0$"
      ],
      "text/plain": [
       "0"
      ]
     },
     "execution_count": 19,
     "metadata": {},
     "output_type": "execute_result"
    }
   ],
   "source": [
    "a3=sp.Matrix([\n",
    "    [-2,-9,1,6],\n",
    "    [3,3,-4,3],\n",
    "    [0,0,0,0],\n",
    "    [6,4,4,-4]\n",
    "]).T\n",
    "a3.det()"
   ]
  },
  {
   "cell_type": "code",
   "execution_count": 22,
   "metadata": {
    "collapsed": false
   },
   "outputs": [
    {
     "data": {
      "text/plain": [
       "(Matrix([\n",
       " [1, 0, 3],\n",
       " [0, 1, 3],\n",
       " [0, 0, 0],\n",
       " [0, 0, 0]]),\n",
       " (0, 1))"
      ]
     },
     "execution_count": 22,
     "metadata": {},
     "output_type": "execute_result"
    }
   ],
   "source": [
    "a4=sp.Matrix([\n",
    "    [2,-5,-5,-2],\n",
    "    [-6,15,15,5],\n",
    "    [7,-20,-20,-6]\n",
    "]).T;\n",
    "\n",
    "a5=sp.Matrix([\n",
    "    [-2,3,3,5],\n",
    "    [-2,-3,5,2],\n",
    "    [-12,0,24,21]\n",
    "]).T\n",
    "a5.rref()"
   ]
  },
  {
   "cell_type": "code",
   "execution_count": 28,
   "metadata": {
    "collapsed": false
   },
   "outputs": [
    {
     "data": {
      "text/latex": [
       "$\\displaystyle \\left\\{\\left( \\frac{47 x_{4}}{586}, \\  \\frac{1545 x_{4}}{586}, \\  \\frac{723 x_{4}}{586}, \\  - \\frac{220 x_{4}}{293}, \\  x_{4}\\right)\\right\\}$"
      ],
      "text/plain": [
       "{(47*x4/586, 1545*x4/586, 723*x4/586, -220*x4/293, x4)}"
      ]
     },
     "execution_count": 28,
     "metadata": {},
     "output_type": "execute_result"
    }
   ],
   "source": [
    "x,x1,x2,x3,x4=sp.symbols(\"x x1 x2 x3 x4\") # x, y, z = sp.symbols(\"x, y, z\")\n",
    "q1=sp.Matrix([\n",
    "    [1,-10,-8,8],\n",
    "    [1,9,-4,-4],[-2,-5,4,6],[-1,9,-3,-2],[-1,-10,4,1]\n",
    "]).T\n",
    "zeroq=sp.zeros(5,1).T\n",
    "sp.linsolve((q1, zeroq), x,x1,x2,x3,x4)"
   ]
  },
  {
   "cell_type": "code",
   "execution_count": 29,
   "metadata": {
    "collapsed": false
   },
   "outputs": [
    {
     "data": {
      "text/latex": [
       "$\\displaystyle -12$"
      ],
      "text/plain": [
       "-12"
      ]
     },
     "execution_count": 29,
     "metadata": {},
     "output_type": "execute_result"
    }
   ],
   "source": [
    "a6=sp.Matrix([\n",
    "    [1,5,-2,2],\n",
    "    [1,4,3,-3],\n",
    "    [-5,-28,21,-28],\n",
    "    [1,0,23,-26]\n",
    "]).T\n",
    "a6.det()"
   ]
  },
  {
   "cell_type": "code",
   "execution_count": 32,
   "metadata": {
    "collapsed": false
   },
   "outputs": [],
   "source": [
    "a7=sp.Matrix([\n",
    "    [-5,7,2,3],[-3,5,1,1],[4,11,5,2]\n",
    "]).T;\n",
    "# a7.rref()"
   ]
  },
  {
   "cell_type": "code",
   "execution_count": 36,
   "metadata": {
    "collapsed": false
   },
   "outputs": [
    {
     "data": {
      "text/plain": [
       "(Matrix([\n",
       " [1, 0, 0, 0],\n",
       " [0, 1, 0, 0],\n",
       " [0, 0, 0, 1]]),\n",
       " (0, 1, 3))"
      ]
     },
     "execution_count": 36,
     "metadata": {},
     "output_type": "execute_result"
    }
   ],
   "source": [
    "a9=sp.Matrix([\n",
    "    [1,-3,0],[-2,9,0],[0,0,0],[0,-3,5]\n",
    "]).T\n",
    "a9.rref()\n",
    "# sp.linsolve((a9, sp.zeros(4,1).T))"
   ]
  },
  {
   "cell_type": "code",
   "execution_count": 39,
   "metadata": {
    "collapsed": false
   },
   "outputs": [
    {
     "data": {
      "text/latex": [
       "$\\displaystyle \\left\\{\\left( - 10 x_{2} - 3 x_{3}, \\  - 3 x_{2} - x_{3}, \\  x_{2}, \\  x_{3}\\right)\\right\\}$"
      ],
      "text/plain": [
       "{(-10*x2 - 3*x3, -3*x2 - x3, x2, x3)}"
      ]
     },
     "execution_count": 39,
     "metadata": {},
     "output_type": "execute_result"
    }
   ],
   "source": [
    "a10=sp.Matrix([\n",
    "    [1,1,3,-1],\n",
    "    [-3,-5,-11,1],\n",
    "    [1,-5,-3,-7],[0,-2,-2,-2]\n",
    "]).T\n",
    "sp.linsolve((a10, sp.zeros(4,1).T), x,x1,x2,x3)"
   ]
  },
  {
   "cell_type": "code",
   "execution_count": 43,
   "metadata": {
    "collapsed": false
   },
   "outputs": [
    {
     "data": {
      "text/plain": [
       "[Matrix([\n",
       " [-3],\n",
       " [-1],\n",
       " [ 1]])]"
      ]
     },
     "execution_count": 43,
     "metadata": {},
     "output_type": "execute_result"
    }
   ],
   "source": [
    "a13=sp.Matrix([\n",
    "    [-4,-11,-23],[1,2,5],[3,7,16]\n",
    "]);\n",
    "a13.nullspace()"
   ]
  },
  {
   "cell_type": "code",
   "execution_count": 46,
   "metadata": {
    "collapsed": false
   },
   "outputs": [
    {
     "data": {
      "text/plain": [
       "(Matrix([\n",
       " [1, 0, 0],\n",
       " [0, 1, 0],\n",
       " [0, 0, 1],\n",
       " [0, 0, 0]]),\n",
       " (0, 1, 2))"
      ]
     },
     "execution_count": 46,
     "metadata": {},
     "output_type": "execute_result"
    }
   ],
   "source": [
    "a12=sp.Matrix([\n",
    "    [1,5,0,0],\n",
    "    [-4,-4,0,0],\n",
    "    [-4,5,-5,2]\n",
    "]).T; a12\n",
    "a12.rref()"
   ]
  },
  {
   "cell_type": "code",
   "execution_count": 3,
   "metadata": {
    "collapsed": false
   },
   "outputs": [
    {
     "data": {
      "text/plain": [
       "(Matrix([\n",
       " [1, 0, -6, 0],\n",
       " [0, 1,  2, 0],\n",
       " [0, 0,  0, 1]]),\n",
       " (0, 1, 3))"
      ]
     },
     "execution_count": 3,
     "metadata": {},
     "output_type": "execute_result"
    }
   ],
   "source": [
    "a14=sp.Matrix([\n",
    "    [-1,-3,0,2],[-1,-1,4,-2],[0,4,8,0]\n",
    "]);\n",
    "a14.rref()"
   ]
  },
  {
   "cell_type": "code",
   "execution_count": 3,
   "metadata": {
    "collapsed": false
   },
   "outputs": [
    {
     "data": {
      "text/plain": [
       "[Matrix([\n",
       " [1],\n",
       " [0],\n",
       " [0],\n",
       " [0]]),\n",
       " Matrix([\n",
       " [   0],\n",
       " [-1/2],\n",
       " [   1],\n",
       " [   0]]),\n",
       " Matrix([\n",
       " [  0],\n",
       " [1/2],\n",
       " [  0],\n",
       " [  1]])]"
      ]
     },
     "execution_count": 3,
     "metadata": {},
     "output_type": "execute_result"
    }
   ],
   "source": [
    "a15=sp.Matrix([\n",
    "    [0,-2,-1,1],[0,2,1,-1]\n",
    "]);a15\n",
    "a15.nullspace()"
   ]
  },
  {
   "cell_type": "code",
   "execution_count": 2,
   "metadata": {
    "collapsed": false
   },
   "outputs": [
    {
     "data": {
      "text/latex": [
       "$\\displaystyle \\left\\{\\left( 5 x_{2} + 5 x_{3}, \\  - x_{2} - \\frac{3 x_{3}}{2}, \\  x_{2}, \\  x_{3}\\right)\\right\\}$"
      ],
      "text/plain": [
       "{(5*x2 + 5*x3, -x2 - 3*x3/2, x2, x3)}"
      ]
     },
     "execution_count": 2,
     "metadata": {},
     "output_type": "execute_result"
    }
   ],
   "source": [
    "x,x1,x2,x3,x4=sp.symbols(\"x x1 x2 x3 x4\")\n",
    "a16=sp.Matrix([\n",
    "    [1,4,-1,1],[2,10,0,5],[2,12,2,8]\n",
    "])\n",
    "# a16.rref()\n",
    "sp.linsolve((a16, sp.zeros(4,1)), x,x1,x2,x3)"
   ]
  },
  {
   "cell_type": "code",
   "execution_count": 29,
   "metadata": {
    "collapsed": false
   },
   "outputs": [
    {
     "data": {
      "text/latex": [
       "$\\displaystyle \\left[\\begin{matrix}0 & 1 & 0\\\\1 & -2 & -3\\\\1 & -1 & -2\\end{matrix}\\right]$"
      ],
      "text/plain": [
       "Matrix([\n",
       "[0,  1,  0],\n",
       "[1, -2, -3],\n",
       "[1, -1, -2]])"
      ]
     },
     "execution_count": 29,
     "metadata": {},
     "output_type": "execute_result"
    }
   ],
   "source": [
    "b18=sp.Matrix([\n",
    "    [-1,-1,1],[-1,0,1],[3,1,-2]\n",
    "]).T\n",
    "c18=sp.Matrix([\n",
    "    [2,1,-1],[-2,-2,1],[-3,-2,1]\n",
    "]).T  # #[2,1,-1],[-3,-2,1]\n",
    "c18inv=c18.inv()\n",
    "b18inv=b18.inv()\n",
    "b18inv@c18"
   ]
  },
  {
   "cell_type": "code",
   "execution_count": 41,
   "metadata": {
    "collapsed": false
   },
   "outputs": [
    {
     "data": {
      "text/latex": [
       "$\\displaystyle \\left[\\begin{matrix}\\frac{1}{2} & \\frac{1}{2}\\\\- \\frac{1}{4} & - \\frac{3}{4}\\end{matrix}\\right]$"
      ],
      "text/plain": [
       "Matrix([\n",
       "[ 1/2,  1/2],\n",
       "[-1/4, -3/4]])"
      ]
     },
     "execution_count": 41,
     "metadata": {},
     "output_type": "execute_result"
    }
   ],
   "source": [
    "a19=sp.Matrix([\n",
    "    [1,0],[0,1]\n",
    "]).T\n",
    "s19=sp.Matrix([\n",
    "    [3,-1],[2,-2]\n",
    "]).T\n",
    "s19.inv()@a19"
   ]
  },
  {
   "cell_type": "code",
   "execution_count": 35,
   "metadata": {
    "collapsed": false
   },
   "outputs": [
    {
     "data": {
      "text/latex": [
       "$\\displaystyle \\left[\\begin{matrix}-11\\\\1\\end{matrix}\\right]$"
      ],
      "text/plain": [
       "Matrix([\n",
       "[-11],\n",
       "[  1]])"
      ]
     },
     "execution_count": 35,
     "metadata": {},
     "output_type": "execute_result"
    }
   ],
   "source": [
    "e19=sp.Matrix([\n",
    "    [-5,2]\n",
    "]).T\n",
    "(a19.inv()@s19)@e19"
   ]
  },
  {
   "cell_type": "code",
   "execution_count": 39,
   "metadata": {
    "collapsed": false
   },
   "outputs": [
    {
     "data": {
      "text/latex": [
       "$\\displaystyle \\left[\\begin{matrix}5.5\\\\-6.25\\end{matrix}\\right]$"
      ],
      "text/plain": [
       "Matrix([\n",
       "[  5.5],\n",
       "[-6.25]])"
      ]
     },
     "execution_count": 39,
     "metadata": {},
     "output_type": "execute_result"
    }
   ],
   "source": [
    "s19=sp.Matrix([\n",
    "    [4,7]\n",
    "]).T\n",
    "sp.Matrix([[1/2,1/2],[-1/4,-3/4]])@s19"
   ]
  },
  {
   "cell_type": "code",
   "execution_count": 5,
   "metadata": {
    "collapsed": false
   },
   "outputs": [
    {
     "data": {
      "text/latex": [
       "$\\displaystyle \\left[\\begin{matrix}4 & -1\\\\3 & -1\\end{matrix}\\right]$"
      ],
      "text/plain": [
       "Matrix([\n",
       "[4, -1],\n",
       "[3, -1]])"
      ]
     },
     "execution_count": 5,
     "metadata": {},
     "output_type": "execute_result"
    }
   ],
   "source": [
    "x,x1,x2,x3,x4=sp.symbols(\"x x1 x2 x3 x4\")\n",
    "c20=sp.Matrix([\n",
    "    [4,-1],[3,-1]\n",
    "])\n",
    "e20=sp.Matrix([\n",
    "    [1,0],[0,1]\n",
    "])\n",
    "e20.inv()@c20"
   ]
  },
  {
   "cell_type": "code",
   "execution_count": 6,
   "metadata": {
    "collapsed": false
   },
   "outputs": [
    {
     "data": {
      "text/latex": [
       "$\\displaystyle \\left[\\begin{matrix}5 & 6\\\\-1 & -1\\end{matrix}\\right]$"
      ],
      "text/plain": [
       "Matrix([\n",
       "[ 5,  6],\n",
       "[-1, -1]])"
      ]
     },
     "execution_count": 6,
     "metadata": {},
     "output_type": "execute_result"
    }
   ],
   "source": [
    "b20=sp.Matrix([\n",
    "    [-1,1],[-6,5]\n",
    "]).T;\n",
    "b20.inv()@e20"
   ]
  },
  {
   "cell_type": "code",
   "execution_count": 11,
   "metadata": {
    "collapsed": false
   },
   "outputs": [],
   "source": [
    "c20=sp.Matrix([\n",
    "    [4,-1],[3,-1]\n",
    "])\n",
    "ctob20=b20.inv()@c20"
   ]
  },
  {
   "cell_type": "code",
   "execution_count": 8,
   "metadata": {
    "collapsed": false
   },
   "outputs": [
    {
     "data": {
      "text/latex": [
       "$\\displaystyle \\left\\{\\left( -17, \\  3\\right)\\right\\}$"
      ],
      "text/plain": [
       "{(-17, 3)}"
      ]
     },
     "execution_count": 8,
     "metadata": {},
     "output_type": "execute_result"
    }
   ],
   "source": [
    "sp.linsolve((b20, sp.Matrix([-1,-2]).T), x,x1)"
   ]
  },
  {
   "cell_type": "code",
   "execution_count": 9,
   "metadata": {
    "collapsed": false
   },
   "outputs": [],
   "source": [
    "q20=c20@sp.Matrix([[-2,-2]]).T"
   ]
  },
  {
   "cell_type": "code",
   "execution_count": 10,
   "metadata": {
    "collapsed": false
   },
   "outputs": [
    {
     "data": {
      "text/latex": [
       "$\\displaystyle \\left\\{\\left( -54, \\  10\\right)\\right\\}$"
      ],
      "text/plain": [
       "{(-54, 10)}"
      ]
     },
     "execution_count": 10,
     "metadata": {},
     "output_type": "execute_result"
    }
   ],
   "source": [
    "sp.linsolve((b20, q20), x,x1)"
   ]
  },
  {
   "cell_type": "code",
   "execution_count": 28,
   "metadata": {
    "collapsed": false
   },
   "outputs": [
    {
     "data": {
      "text/latex": [
       "$\\displaystyle \\left[\\begin{matrix}-17\\\\3\\end{matrix}\\right]$"
      ],
      "text/plain": [
       "Matrix([\n",
       "[-17],\n",
       "[  3]])"
      ]
     },
     "execution_count": 28,
     "metadata": {},
     "output_type": "execute_result"
    }
   ],
   "source": [
    "b20.inv()@sp.Matrix([[-1,-2]]).T"
   ]
  },
  {
   "cell_type": "code",
   "execution_count": 26,
   "metadata": {
    "collapsed": false
   },
   "outputs": [
    {
     "data": {
      "text/latex": [
       "$\\displaystyle \\left[\\begin{matrix}-54\\\\10\\end{matrix}\\right]$"
      ],
      "text/plain": [
       "Matrix([\n",
       "[-54],\n",
       "[ 10]])"
      ]
     },
     "execution_count": 26,
     "metadata": {},
     "output_type": "execute_result"
    }
   ],
   "source": [
    "ctob20@sp.Matrix([[-2,-2]]).T"
   ]
  },
  {
   "cell_type": "code",
   "execution_count": 73,
   "metadata": {
    "collapsed": false
   },
   "outputs": [
    {
     "data": {
      "text/plain": [
       "(Matrix([\n",
       " [2, -3],\n",
       " [0, -3]]),\n",
       " Matrix([\n",
       " [-1, 1],\n",
       " [ 0, 0]]),\n",
       " Matrix([\n",
       " [-3, 4],\n",
       " [ 0, 2]]))"
      ]
     },
     "execution_count": 73,
     "metadata": {},
     "output_type": "execute_result"
    }
   ],
   "source": [
    "b22=(sp.Matrix([\n",
    "    [2, -3],[0,-3]\n",
    "]),\n",
    "sp.Matrix([[-1,1],[0,0]]), sp.Matrix([[-3,4],[0,2]])); b22"
   ]
  },
  {
   "cell_type": "code",
   "execution_count": 74,
   "metadata": {
    "collapsed": false
   },
   "outputs": [
    {
     "data": {
      "text/plain": [
       "(Matrix([\n",
       " [1, -3],\n",
       " [0,  4]]),\n",
       " Matrix([\n",
       " [2, -3],\n",
       " [0, -3]]),\n",
       " Matrix([\n",
       " [3, 1],\n",
       " [0, 3]]))"
      ]
     },
     "execution_count": 74,
     "metadata": {},
     "output_type": "execute_result"
    }
   ],
   "source": [
    "c22=(sp.Matrix([\n",
    "    [1, -3],[0,4]\n",
    "]), sp.Matrix([[2,-3],[0,-3]]), sp.Matrix([[3,1],[0,3]])); c22"
   ]
  },
  {
   "cell_type": "code",
   "execution_count": 80,
   "metadata": {
    "collapsed": false
   },
   "outputs": [
    {
     "data": {
      "text/latex": [
       "$\\displaystyle \\left[\\begin{matrix}2 & -1 & -3\\\\-3 & 1 & 4\\\\-3 & 0 & 2\\end{matrix}\\right]$"
      ],
      "text/plain": [
       "Matrix([\n",
       "[ 2, -1, -3],\n",
       "[-3,  1,  4],\n",
       "[-3,  0,  2]])"
      ]
     },
     "execution_count": 80,
     "metadata": {},
     "output_type": "execute_result"
    }
   ],
   "source": [
    "s22=sp.Matrix([[2,-1,-3],[-3,1,4],[-3,0,2]]); s22"
   ]
  },
  {
   "cell_type": "code",
   "execution_count": 83,
   "metadata": {
    "collapsed": false
   },
   "outputs": [
    {
     "data": {
      "text/latex": [
       "$\\displaystyle \\left\\{\\left( 5, \\  -20, \\  9\\right)\\right\\}$"
      ],
      "text/plain": [
       "{(5, -20, 9)}"
      ]
     },
     "execution_count": 83,
     "metadata": {},
     "output_type": "execute_result"
    }
   ],
   "source": [
    "sp.linsolve((s22, sp.Matrix([[3,1,3]]).T),x,x1,x2)"
   ]
  },
  {
   "cell_type": "code",
   "execution_count": 84,
   "metadata": {
    "collapsed": false
   },
   "outputs": [
    {
     "data": {
      "text/latex": [
       "$\\displaystyle \\left[\\begin{matrix}-8 & 1 & 5\\\\13 & 0 & -20\\\\-10 & 0 & 9\\end{matrix}\\right]$"
      ],
      "text/plain": [
       "Matrix([\n",
       "[ -8, 1,   5],\n",
       "[ 13, 0, -20],\n",
       "[-10, 0,   9]])"
      ]
     },
     "execution_count": 84,
     "metadata": {},
     "output_type": "execute_result"
    }
   ],
   "source": [
    "t22=sp.Matrix([\n",
    "    [-8,1,5],[13,0,-20],[-10,0,9]\n",
    "]);t22"
   ]
  },
  {
   "cell_type": "code",
   "execution_count": 89,
   "metadata": {
    "collapsed": false
   },
   "outputs": [
    {
     "data": {
      "text/latex": [
       "$\\displaystyle \\left[\\begin{matrix}-16\\\\53\\\\-28\\end{matrix}\\right]$"
      ],
      "text/plain": [
       "Matrix([\n",
       "[-16],\n",
       "[ 53],\n",
       "[-28]])"
      ]
     },
     "execution_count": 89,
     "metadata": {},
     "output_type": "execute_result"
    }
   ],
   "source": [
    "t22@sp.Matrix([[1,2,-2]]).T"
   ]
  },
  {
   "cell_type": "code",
   "execution_count": 88,
   "metadata": {
    "collapsed": false
   },
   "outputs": [
    {
     "data": {
      "text/latex": [
       "$\\displaystyle \\left[\\begin{matrix}1\\\\2\\\\-2\\end{matrix}\\right]$"
      ],
      "text/plain": [
       "Matrix([\n",
       "[ 1],\n",
       "[ 2],\n",
       "[-2]])"
      ]
     },
     "execution_count": 88,
     "metadata": {},
     "output_type": "execute_result"
    }
   ],
   "source": [
    "sp.Matrix([[1,2,-2]]).T"
   ]
  },
  {
   "cell_type": "code",
   "execution_count": 97,
   "metadata": {
    "collapsed": false
   },
   "outputs": [
    {
     "data": {
      "text/latex": [
       "$\\displaystyle \\left[\\begin{matrix}-1 & -11\\\\0 & -8\\end{matrix}\\right]$"
      ],
      "text/plain": [
       "Matrix([\n",
       "[-1, -11],\n",
       "[ 0,  -8]])"
      ]
     },
     "execution_count": 97,
     "metadata": {},
     "output_type": "execute_result"
    }
   ],
   "source": [
    "b22[0]*(-16)+b22[1]*53+b22[2]*(-28)"
   ]
  },
  {
   "cell_type": "code",
   "execution_count": 104,
   "metadata": {
    "collapsed": false
   },
   "outputs": [
    {
     "data": {
      "text/latex": [
       "$\\displaystyle \\left[\\begin{matrix}0 & 0\\end{matrix}\\right]$"
      ],
      "text/plain": [
       "Matrix([[0, 0]])"
      ]
     },
     "execution_count": 104,
     "metadata": {},
     "output_type": "execute_result"
    }
   ],
   "source": [
    "sp.Matrix([[-1,0,1]])@sp.Matrix([[-1,2,-1],[-2,-2,-2]]).T"
   ]
  },
  {
   "cell_type": "code",
   "execution_count": 3,
   "metadata": {
    "collapsed": false
   },
   "outputs": [
    {
     "data": {
      "text/plain": [
       "[Matrix([\n",
       " [-5],\n",
       " [ 2],\n",
       " [ 1],\n",
       " [ 0]]),\n",
       " Matrix([\n",
       " [-19],\n",
       " [  5],\n",
       " [  0],\n",
       " [  1]])]"
      ]
     },
     "execution_count": 3,
     "metadata": {},
     "output_type": "execute_result"
    }
   ],
   "source": [
    "a28=sp.Matrix([[-1,-3,1,-4],[-1,-4,3,1]])\n",
    "# sp.linsolve((a28, sp.zeros(1,2)), x,x1)\n",
    "a28.nullspace()"
   ]
  },
  {
   "cell_type": "code",
   "execution_count": 6,
   "metadata": {
    "collapsed": false
   },
   "outputs": [
    {
     "data": {
      "text/latex": [
       "$\\displaystyle \\left[\\begin{matrix}-3 & 4 & -2\\\\-2 & 3 & -2\\\\2 & -2 & 1\\end{matrix}\\right]$"
      ],
      "text/plain": [
       "Matrix([\n",
       "[-3,  4, -2],\n",
       "[-2,  3, -2],\n",
       "[ 2, -2,  1]])"
      ]
     },
     "execution_count": 6,
     "metadata": {},
     "output_type": "execute_result"
    }
   ],
   "source": [
    "b26=sp.Matrix([\n",
    "    [-2,2,-1],[-1,2,1],[-1,1,0]\n",
    "])\n",
    "c26=sp.Matrix([\n",
    "    [0,0,-1],[1,0,-1],[1,-1,0]\n",
    "])\n",
    "b26.inv()@c26"
   ]
  },
  {
   "cell_type": "code",
   "execution_count": 8,
   "metadata": {
    "collapsed": false
   },
   "outputs": [
    {
     "data": {
      "text/latex": [
       "$\\displaystyle \\left[\\begin{matrix}- \\frac{2 \\sqrt{113}}{113}\\\\\\frac{3 \\sqrt{113}}{113}\\\\\\frac{10 \\sqrt{113}}{113}\\\\0\\end{matrix}\\right]$"
      ],
      "text/plain": [
       "Matrix([\n",
       "[-2*sqrt(113)/113],\n",
       "[ 3*sqrt(113)/113],\n",
       "[10*sqrt(113)/113],\n",
       "[               0]])"
      ]
     },
     "execution_count": 8,
     "metadata": {},
     "output_type": "execute_result"
    }
   ],
   "source": [
    "w29 = sp.Matrix([[-1, -4, 1, 1], [-2, 3, 10, 0]]).T\n",
    "u29 = sp.Matrix([[-20, -8, -9, 18]])\n",
    "q29, r29 = w29.QRdecomposition()\n",
    "q291 = sp.Matrix([[q29[t] for t in range(0, 8, 2)]]).T\n",
    "q292 = sp.Matrix([[q29[t] for t in range(1, 8, 2)]]).T\n",
    "q292\n"
   ]
  },
  {
   "cell_type": "code",
   "execution_count": 9,
   "metadata": {
    "collapsed": false
   },
   "outputs": [
    {
     "data": {
      "text/latex": [
       "$\\displaystyle \\left[\\begin{matrix}- \\frac{4081}{2147}\\\\- \\frac{31790}{2147}\\\\- \\frac{7167}{2147}\\\\\\frac{61}{19}\\end{matrix}\\right]$"
      ],
      "text/plain": [
       "Matrix([\n",
       "[ -4081/2147],\n",
       "[-31790/2147],\n",
       "[ -7167/2147],\n",
       "[      61/19]])"
      ]
     },
     "execution_count": 9,
     "metadata": {},
     "output_type": "execute_result"
    }
   ],
   "source": [
    "(q291@u29)*q291 + (q292@u29)*q292"
   ]
  },
  {
   "cell_type": "code",
   "execution_count": 10,
   "metadata": {
    "collapsed": false
   },
   "outputs": [
    {
     "data": {
      "text/latex": [
       "$\\displaystyle \\left[\\begin{matrix}1 & -1\\\\-1 & 9\\\\1 & -7\\\\-1 & 3\\end{matrix}\\right]$"
      ],
      "text/plain": [
       "Matrix([\n",
       "[ 1, -1],\n",
       "[-1,  9],\n",
       "[ 1, -7],\n",
       "[-1,  3]])"
      ]
     },
     "execution_count": 10,
     "metadata": {},
     "output_type": "execute_result"
    }
   ],
   "source": [
    "w30 = sp.Matrix([[1, -1, 1, -1], [-1, 9, -7, 3]]).T\n",
    "w30\n"
   ]
  },
  {
   "cell_type": "code",
   "execution_count": 11,
   "metadata": {
    "collapsed": false
   },
   "outputs": [],
   "source": [
    "a30 = w30 @ ((w30.T @ w30).inv()) @ w30.T\n"
   ]
  },
  {
   "cell_type": "code",
   "execution_count": 12,
   "metadata": {
    "collapsed": false
   },
   "outputs": [
    {
     "data": {
      "text/latex": [
       "$\\displaystyle \\left[\\begin{matrix}\\frac{13}{20} & \\frac{3}{20} & \\frac{1}{20} & - \\frac{9}{20}\\\\\\frac{3}{20} & \\frac{13}{20} & - \\frac{9}{20} & \\frac{1}{20}\\\\\\frac{1}{20} & - \\frac{9}{20} & \\frac{7}{20} & - \\frac{3}{20}\\\\- \\frac{9}{20} & \\frac{1}{20} & - \\frac{3}{20} & \\frac{7}{20}\\end{matrix}\\right]$"
      ],
      "text/plain": [
       "Matrix([\n",
       "[13/20,  3/20,  1/20, -9/20],\n",
       "[ 3/20, 13/20, -9/20,  1/20],\n",
       "[ 1/20, -9/20,  7/20, -3/20],\n",
       "[-9/20,  1/20, -3/20,  7/20]])"
      ]
     },
     "execution_count": 12,
     "metadata": {},
     "output_type": "execute_result"
    }
   ],
   "source": [
    "a30"
   ]
  },
  {
   "cell_type": "code",
   "execution_count": 61,
   "metadata": {
    "collapsed": false
   },
   "outputs": [
    {
     "data": {
      "text/latex": [
       "$\\displaystyle \\left[\\begin{matrix}0 & 0 & 1 & 3 & 1 & 1 & 1 & 0 & 3\\\\0 & 1 & 1 & 6 & 3 & 3 & 2 & 0 & 4\\\\2 & 0 & 0 & 6 & 2 & 2 & 4 & 0 & 2\\\\1 & 1 & 1 & 9 & 4 & 4 & 4 & 2 & 9\\\\0 & 0 & 0 & 0 & 0 & 0 & 0 & 2 & 4\\\\2 & 1 & 0 & 9 & 4 & 4 & 5 & 1 & 5\\end{matrix}\\right]$"
      ],
      "text/plain": [
       "Matrix([\n",
       "[0, 0, 1, 3, 1, 1, 1, 0, 3],\n",
       "[0, 1, 1, 6, 3, 3, 2, 0, 4],\n",
       "[2, 0, 0, 6, 2, 2, 4, 0, 2],\n",
       "[1, 1, 1, 9, 4, 4, 4, 2, 9],\n",
       "[0, 0, 0, 0, 0, 0, 0, 2, 4],\n",
       "[2, 1, 0, 9, 4, 4, 5, 1, 5]])"
      ]
     },
     "execution_count": 61,
     "metadata": {},
     "output_type": "execute_result"
    }
   ],
   "source": [
    "aq1=sp.Matrix([\n",
    "    [0,0,1,3,1,1,1,0,3],[0,1,1,6,3,3,2,0,4],[2,0,0,6,2,2,4,0,2],\n",
    "    [1,1,1,9,4,4,4,2,9],[0,0,0,0,0,0,0,2,4],[2,1,0,9,4,4,5,1,5]\n",
    "])\n",
    "qb1=sp.Matrix([[2,1,2,0,2,1]]).T\n",
    "# aq1.row_join(qb1).echelon_form()\n",
    "# aq1.rref()\n",
    "aq1"
   ]
  },
  {
   "cell_type": "code",
   "execution_count": 65,
   "metadata": {
    "collapsed": false
   },
   "outputs": [
    {
     "data": {
      "text/latex": [
       "$\\displaystyle \\left[\\begin{matrix}2\\\\2\\\\2\\\\9\\\\6\\\\5\\end{matrix}\\right]$"
      ],
      "text/plain": [
       "Matrix([\n",
       "[2],\n",
       "[2],\n",
       "[2],\n",
       "[9],\n",
       "[6],\n",
       "[5]])"
      ]
     },
     "execution_count": 65,
     "metadata": {},
     "output_type": "execute_result"
    }
   ],
   "source": [
    "deq1=aq1[:, [0,2,7]]\n",
    "deq1@sp.Matrix([[1,2,3]]).T"
   ]
  },
  {
   "cell_type": "code",
   "execution_count": 74,
   "metadata": {
    "collapsed": false
   },
   "outputs": [
    {
     "data": {
      "text/latex": [
       "$\\displaystyle \\left[\\begin{matrix}0 & 1 & 2\\\\0 & 0 & 15\\\\3 & 2 & 4\\\\6 & 0 & 0\\\\4 & 3 & 1\\\\0 & 6 & 0\\end{matrix}\\right]$"
      ],
      "text/plain": [
       "Matrix([\n",
       "[0, 1,  2],\n",
       "[0, 0, 15],\n",
       "[3, 2,  4],\n",
       "[6, 0,  0],\n",
       "[4, 3,  1],\n",
       "[0, 6,  0]])"
      ]
     },
     "execution_count": 74,
     "metadata": {},
     "output_type": "execute_result"
    }
   ],
   "source": [
    "a31 = sp.Matrix([[0, 0, 3, 6, 4, 0], [1, 0, 2, 0, 3, 6], [2, 15, 4, 0, 1, 0]]).T\n",
    "a31\n"
   ]
  },
  {
   "cell_type": "code",
   "execution_count": 104,
   "metadata": {
    "collapsed": false
   },
   "outputs": [
    {
     "data": {
      "text/latex": [
       "$\\displaystyle \\left[\\begin{matrix}0 & \\frac{\\sqrt{166286}}{2726} & \\frac{1649 \\sqrt{7935386}}{39676930}\\\\0 & 0 & \\frac{\\sqrt{7935386}}{2911}\\\\\\frac{3 \\sqrt{61}}{61} & \\frac{34 \\sqrt{166286}}{83143} & \\frac{1366 \\sqrt{7935386}}{19838465}\\\\\\frac{6 \\sqrt{61}}{61} & - \\frac{54 \\sqrt{166286}}{83143} & - \\frac{566 \\sqrt{7935386}}{19838465}\\\\\\frac{4 \\sqrt{61}}{61} & \\frac{111 \\sqrt{166286}}{166286} & - \\frac{351 \\sqrt{7935386}}{39676930}\\\\0 & \\frac{3 \\sqrt{166286}}{1363} & - \\frac{101 \\sqrt{7935386}}{3967693}\\end{matrix}\\right]$"
      ],
      "text/plain": [
       "Matrix([\n",
       "[            0,       sqrt(166286)/2726, 1649*sqrt(7935386)/39676930],\n",
       "[            0,                       0,          sqrt(7935386)/2911],\n",
       "[3*sqrt(61)/61,   34*sqrt(166286)/83143, 1366*sqrt(7935386)/19838465],\n",
       "[6*sqrt(61)/61,  -54*sqrt(166286)/83143, -566*sqrt(7935386)/19838465],\n",
       "[4*sqrt(61)/61, 111*sqrt(166286)/166286, -351*sqrt(7935386)/39676930],\n",
       "[            0,     3*sqrt(166286)/1363,  -101*sqrt(7935386)/3967693]])"
      ]
     },
     "execution_count": 104,
     "metadata": {},
     "output_type": "execute_result"
    }
   ],
   "source": [
    "q, r = a31.QRdecomposition()\n",
    "q\n"
   ]
  },
  {
   "cell_type": "code",
   "execution_count": 121,
   "id": "a699f98c",
   "metadata": {},
   "outputs": [
    {
     "data": {
      "text/latex": [
       "$\\displaystyle \\left[\\begin{matrix}61\\\\0\\\\68\\\\-108\\\\111\\\\366\\end{matrix}\\right]$"
      ],
      "text/plain": [
       "Matrix([\n",
       "[  61],\n",
       "[   0],\n",
       "[  68],\n",
       "[-108],\n",
       "[ 111],\n",
       "[ 366]])"
      ]
     },
     "execution_count": 121,
     "metadata": {},
     "output_type": "execute_result"
    }
   ],
   "source": [
    "# q[:, 0] / sp.sqrt(61) * 61\n",
    "# 166286 / 61\n",
    "q[:, 1] / sp.sqrt(166286) * 2726\n",
    "# 19838465 / 14555\n",
    "# q[:, 2] *sp.sqrt(7935386)\n"
   ]
  },
  {
   "cell_type": "code",
   "execution_count": 68,
   "metadata": {
    "collapsed": false
   },
   "outputs": [
    {
     "data": {
      "text/plain": [
       "42129"
      ]
     },
     "execution_count": 68,
     "metadata": {},
     "output_type": "execute_result"
    }
   ],
   "source": [
    "anp31=np.array([[0,1,2],[0,0,7],[4,5,3],[14,0,0],[5,3,2],[0,9,0]])\n",
    "833_990_3835/3\n",
    "14043*3"
   ]
  },
  {
   "cell_type": "code",
   "execution_count": 43,
   "metadata": {
    "collapsed": false
   },
   "outputs": [],
   "source": [
    "npq,npr=np.linalg.qr(anp31)"
   ]
  },
  {
   "cell_type": "code",
   "execution_count": 36,
   "metadata": {
    "collapsed": false
   },
   "outputs": [
    {
     "data": {
      "text/plain": [
       "array([[12,  9, -8, -3],\n",
       "       [ 9,  6, -6, -2]])"
      ]
     },
     "execution_count": 36,
     "metadata": {},
     "output_type": "execute_result"
    }
   ],
   "source": [
    "a32 = sp.Matrix([[12, 9, -8, -3], [9, 6, -6, -2]])\n",
    "npa32 = np.array([[12, 9, -8, -3], [9, 6, -6, -2]])\n",
    "npa32\n"
   ]
  },
  {
   "cell_type": "code",
   "execution_count": 37,
   "metadata": {
    "collapsed": false
   },
   "outputs": [
    {
     "data": {
      "text/latex": [
       "$\\displaystyle \\left\\{\\left( \\frac{2 x_{3}}{3}, \\  \\frac{x_{4}}{3}, \\  x_{3}, \\  x_{4}\\right)\\right\\}$"
      ],
      "text/plain": [
       "{(2*x3/3, x4/3, x3, x4)}"
      ]
     },
     "execution_count": 37,
     "metadata": {},
     "output_type": "execute_result"
    }
   ],
   "source": [
    "x1, x2, x3, x4=sp.symbols('x1, x2, x3, x4')\n",
    "sp.linsolve((a32, sp.zeros(1, 2)), x1, x2, x3, x4)\n"
   ]
  },
  {
   "cell_type": "code",
   "execution_count": 38,
   "metadata": {
    "collapsed": false
   },
   "outputs": [
    {
     "data": {
      "text/latex": [
       "$\\displaystyle \\left[\\begin{matrix}\\frac{2 \\sqrt{13}}{13} & 0\\\\0 & \\frac{\\sqrt{10}}{10}\\\\\\frac{3 \\sqrt{13}}{13} & 0\\\\0 & \\frac{3 \\sqrt{10}}{10}\\end{matrix}\\right]$"
      ],
      "text/plain": [
       "Matrix([\n",
       "[2*sqrt(13)/13,             0],\n",
       "[            0,   sqrt(10)/10],\n",
       "[3*sqrt(13)/13,             0],\n",
       "[            0, 3*sqrt(10)/10]])"
      ]
     },
     "execution_count": 38,
     "metadata": {},
     "output_type": "execute_result"
    }
   ],
   "source": [
    "val = a32.nullspace()\n",
    "k, j = val[0], val[1]\n",
    "rval = k.row_join(j)\n",
    "q32, r32 = rval.QRdecomposition()\n",
    "q32\n"
   ]
  },
  {
   "cell_type": "code",
   "execution_count": 34,
   "metadata": {
    "collapsed": false
   },
   "outputs": [
    {
     "data": {
      "text/latex": [
       "$\\displaystyle \\left[\\begin{matrix}1 & 3 & 0\\\\-3 & -6 & 6\\\\1 & 1 & -4\\end{matrix}\\right]$"
      ],
      "text/plain": [
       "Matrix([\n",
       "[ 1,  3,  0],\n",
       "[-3, -6,  6],\n",
       "[ 1,  1, -4]])"
      ]
     },
     "execution_count": 34,
     "metadata": {},
     "output_type": "execute_result"
    }
   ],
   "source": [
    "a33 = sp.Matrix([[1, 3, 0], [-3, -6, 6], [1, 1, -4]])\n",
    "a33\n"
   ]
  },
  {
   "cell_type": "code",
   "execution_count": 35,
   "metadata": {
    "collapsed": false
   },
   "outputs": [
    {
     "data": {
      "text/latex": [
       "$\\displaystyle \\left[\\begin{matrix}\\frac{\\sqrt{11}}{11} & \\frac{\\sqrt{2}}{2}\\\\- \\frac{3 \\sqrt{11}}{11} & 0\\\\\\frac{\\sqrt{11}}{11} & - \\frac{\\sqrt{2}}{2}\\end{matrix}\\right]$"
      ],
      "text/plain": [
       "Matrix([\n",
       "[   sqrt(11)/11,  sqrt(2)/2],\n",
       "[-3*sqrt(11)/11,          0],\n",
       "[   sqrt(11)/11, -sqrt(2)/2]])"
      ]
     },
     "execution_count": 35,
     "metadata": {},
     "output_type": "execute_result"
    }
   ],
   "source": [
    "q33, r33 = a33.QRdecomposition()\n",
    "q33\n"
   ]
  },
  {
   "cell_type": "code",
   "execution_count": 42,
   "metadata": {
    "collapsed": false
   },
   "outputs": [
    {
     "data": {
      "text/plain": [
       "array([[ 1,  9,  3],\n",
       "       [ 3,  9, -9],\n",
       "       [-2, -3,  9]])"
      ]
     },
     "execution_count": 42,
     "metadata": {},
     "output_type": "execute_result"
    }
   ],
   "source": [
    "np33 = np.array([[1, 9, 3], [3, 9, -9], [-2, -3, 9]])\n",
    "np33\n"
   ]
  },
  {
   "cell_type": "code",
   "execution_count": 49,
   "metadata": {
    "collapsed": false
   },
   "outputs": [
    {
     "data": {
      "text/latex": [
       "$\\displaystyle \\left[\\begin{matrix}\\sqrt{14} & 3 \\sqrt{14} & - 3 \\sqrt{14}\\\\0 & 3 \\sqrt{5} & 3 \\sqrt{5}\\end{matrix}\\right]$"
      ],
      "text/plain": [
       "Matrix([\n",
       "[sqrt(14), 3*sqrt(14), -3*sqrt(14)],\n",
       "[       0,  3*sqrt(5),   3*sqrt(5)]])"
      ]
     },
     "execution_count": 49,
     "metadata": {},
     "output_type": "execute_result"
    }
   ],
   "source": [
    "npq33, npr33=np.linalg.qr(np33)"
   ]
  },
  {
   "cell_type": "code",
   "execution_count": null,
   "metadata": {
    "collapsed": false
   },
   "outputs": [],
   "source": []
  }
 ],
 "metadata": {
  "kernelspec": {
   "display_name": "Python 3",
   "language": "python",
   "name": "python3"
  },
  "language_info": {
   "codemirror_mode": {
    "name": "ipython",
    "version": 3
   },
   "file_extension": ".py",
   "mimetype": "text/x-python",
   "name": "python",
   "nbconvert_exporter": "python",
   "pygments_lexer": "ipython3",
   "version": "3.11.1"
  },
  "vscode": {
   "interpreter": {
    "hash": "3b03d3ad6b1336e6e4949d619e4badd72fec28959454a0e0d6a04b545beba08a"
   }
  }
 },
 "nbformat": 4,
 "nbformat_minor": 5
}
