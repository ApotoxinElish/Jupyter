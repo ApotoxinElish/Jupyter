{
 "cells": [
  {
   "cell_type": "code",
   "execution_count": 1,
   "metadata": {},
   "outputs": [],
   "source": [
    "import sympy as sp\n"
   ]
  },
  {
   "cell_type": "code",
   "execution_count": null,
   "metadata": {},
   "outputs": [],
   "source": [
    "# P4\n",
    "A = sp.Matrix([[-10, 12, 0, 0], [-2, 0, 0, 0], [0, 0, -20, 56], [0, 0, -12, 32]]).T\n",
    "A\n",
    "A.eigenvects()\n"
   ]
  },
  {
   "cell_type": "code",
   "execution_count": null,
   "metadata": {},
   "outputs": [],
   "source": [
    "# P5\n",
    "A = sp.Matrix([[-2, 0, 0], [6, 0, 0], [-15, -5, 5]]).T\n",
    "A\n",
    "A.eigenvects()\n"
   ]
  },
  {
   "cell_type": "code",
   "execution_count": null,
   "metadata": {},
   "outputs": [],
   "source": [
    "# P6\n",
    "M = sp.Matrix([[-3, -1], [3, 3]])\n",
    "M\n"
   ]
  },
  {
   "cell_type": "code",
   "execution_count": null,
   "metadata": {},
   "outputs": [],
   "source": [
    "M @ M\n"
   ]
  },
  {
   "cell_type": "code",
   "execution_count": null,
   "metadata": {},
   "outputs": [],
   "source": [
    "# P7\n",
    "M = sp.Matrix([[3, 2, 1], [-3, 3, 1], [3, -1, -2]]).T\n",
    "M\n"
   ]
  },
  {
   "cell_type": "code",
   "execution_count": null,
   "metadata": {},
   "outputs": [],
   "source": [
    "M @ M @ M\n"
   ]
  },
  {
   "cell_type": "code",
   "execution_count": null,
   "metadata": {},
   "outputs": [],
   "source": [
    "M @ M\n"
   ]
  },
  {
   "cell_type": "code",
   "execution_count": null,
   "metadata": {},
   "outputs": [],
   "source": [
    "M\n"
   ]
  },
  {
   "cell_type": "code",
   "execution_count": null,
   "metadata": {},
   "outputs": [],
   "source": [
    "# P9\n",
    "A = sp.Matrix([[10, 12, 6, 6], [8, 8, 4, 4], [-30, -33, -17, -18], [2, 1, 1, 2]]).T\n",
    "A\n",
    "A.eigenvals()\n"
   ]
  },
  {
   "cell_type": "code",
   "execution_count": null,
   "metadata": {},
   "outputs": [],
   "source": [
    "# P10\n",
    "A = sp.Matrix([[2, 0], [0, -4]]).T\n",
    "A\n",
    "A.eigenvals()\n"
   ]
  },
  {
   "cell_type": "code",
   "execution_count": null,
   "metadata": {},
   "outputs": [],
   "source": [
    "# P11\n",
    "A = sp.Matrix([[2, -4, -2, -2], [-2, 4, 2, 2], [0, -2, 0, 0], [2, -4, -2, -2]]).T\n",
    "A\n",
    "A.eigenvects()\n"
   ]
  },
  {
   "cell_type": "code",
   "execution_count": null,
   "metadata": {},
   "outputs": [],
   "source": [
    "# P12\n",
    "5**4\n"
   ]
  },
  {
   "cell_type": "code",
   "execution_count": null,
   "metadata": {},
   "outputs": [],
   "source": [
    "# P14\n",
    "k, i = sp.symbols(\"k i\")\n",
    "A = sp.Matrix([[0 - i, 0, 0], [1, 0 - i, -k - 4], [0, 1, k + 5 - i]]).T\n",
    "A.eigenvals()\n"
   ]
  },
  {
   "cell_type": "code",
   "execution_count": null,
   "metadata": {},
   "outputs": [],
   "source": [
    "# P15\n",
    "x = sp.symbols(\"x\")\n",
    "y = sp.Function(\"y\")(x)\n",
    "DE = sp.Eq(y.diff(x, x) - y.diff(x) + y, 0)\n",
    "DE\n",
    "y = sp.Function(\"y\")\n",
    "sp.dsolve(DE, y(x), ics={y(0): 6, y(x).diff(x).subs(x, 0): 7}, simplify=False)\n"
   ]
  },
  {
   "cell_type": "code",
   "execution_count": null,
   "metadata": {},
   "outputs": [],
   "source": [
    "# P20\n",
    "t = sp.symbols(\"t\")\n",
    "y = sp.Function(\"y\")(t)\n",
    "\n",
    "DE = sp.Eq(t**2 * y.diff(t, t) - 11 * t * y.diff(t) + 27 * y, 0)\n",
    "DE\n",
    "sp.dsolve(DE, y)\n"
   ]
  },
  {
   "cell_type": "code",
   "execution_count": null,
   "metadata": {},
   "outputs": [],
   "source": [
    "# P23\n",
    "x = sp.symbols(\"x\")\n",
    "y = sp.Function(\"y\")(x)\n",
    "DE = sp.Eq((1 + x**3) * y.diff(x) + 3 * x**2 * y, 11 * x**12)\n",
    "DE\n",
    "y = sp.Function(\"y\")\n",
    "sp.dsolve(DE, y(x), ics={y(0): 2}, simplify=False)\n"
   ]
  },
  {
   "cell_type": "code",
   "execution_count": null,
   "metadata": {},
   "outputs": [],
   "source": [
    "# P24\n",
    "x = sp.symbols(\"x\")\n",
    "y = sp.Function(\"y\")(x)\n",
    "DE = sp.Eq(y.diff(x) * sp.cos(x), y * sp.sin(x) + sp.sin(115 * x))\n",
    "DE\n",
    "sp.dsolve(DE, y, simplify=False)\n"
   ]
  },
  {
   "cell_type": "code",
   "execution_count": null,
   "metadata": {},
   "outputs": [],
   "source": [
    "# P25\n",
    "x, A, k = sp.symbols(\"x A k\")\n",
    "y = sp.Function(\"y\")(x)\n",
    "DE = sp.Eq(y.diff(x), k * (y + A))\n",
    "DE\n",
    "sp.dsolve(DE, y, simplify=False)\n"
   ]
  },
  {
   "cell_type": "code",
   "execution_count": null,
   "metadata": {},
   "outputs": [],
   "source": [
    "# P26\n",
    "x = sp.symbols(\"x\")\n",
    "y = sp.Function(\"y\")(x)\n",
    "DE = sp.Eq(y**3 - (10 * x + 2) + 3 * x * y**2 * y.diff(x), 0)\n",
    "DE\n",
    "sp.dsolve(DE, y, simplify=False)\n"
   ]
  },
  {
   "cell_type": "code",
   "execution_count": null,
   "metadata": {},
   "outputs": [],
   "source": [
    "# P27\n",
    "x = sp.symbols(\"x\")\n",
    "y = sp.Function(\"y\")(x)\n",
    "DE = sp.Eq(5 * x * y.diff(x), 2 * x * sp.exp(x) - 5 * y + 6 * x**2)\n",
    "DE\n",
    "sp.dsolve(DE, y, simplify=False)\n"
   ]
  },
  {
   "cell_type": "code",
   "execution_count": 57,
   "metadata": {},
   "outputs": [
    {
     "data": {
      "text/latex": [
       "$\\displaystyle y{\\left(x \\right)} = \\frac{C_{1} + e^{x^{2}}}{x \\left(C_{1} - e^{x^{2}}\\right)}$"
      ],
      "text/plain": [
       "Eq(y(x), (C1 + exp(x**2))/(x*(C1 - exp(x**2))))"
      ]
     },
     "execution_count": 57,
     "metadata": {},
     "output_type": "execute_result"
    }
   ],
   "source": [
    "# P28\n",
    "x = sp.symbols(\"x\")\n",
    "y = sp.Function(\"y\")(x)\n",
    "DE = sp.Eq((y + x * y.diff(x)) / (1 - x**2 * y**2) + x, 0)\n",
    "DE = sp.Eq(y + x * y.diff(x) -  x**3 * y**2 + x, 0)\n",
    "DE\n",
    "sp.dsolve(DE, y, simplify=False)\n"
   ]
  },
  {
   "cell_type": "code",
   "execution_count": null,
   "metadata": {},
   "outputs": [],
   "source": [
    "# P30\n",
    "x = sp.symbols(\"x\")\n",
    "y = sp.Function(\"y\")(x)\n",
    "DE = sp.Eq((1 - 2 / y + x) * y.diff(x) + y, 2 / x - 1)\n",
    "DE\n",
    "sp.dsolve(DE, y, simplify=False)\n"
   ]
  },
  {
   "cell_type": "code",
   "execution_count": null,
   "metadata": {},
   "outputs": [],
   "source": [
    "# P31\n",
    "x = sp.symbols(\"x\")\n",
    "y = sp.Function(\"y\")(x)\n",
    "DE = sp.Eq(y.diff(x), (x - 4) * sp.exp(-2 * y))\n",
    "DE\n",
    "y = sp.Function(\"y\")\n",
    "sp.dsolve(DE, y(x), ics={y(4): sp.ln(4)}, simplify=True)\n"
   ]
  },
  {
   "cell_type": "code",
   "execution_count": null,
   "metadata": {},
   "outputs": [],
   "source": [
    "# P32\n",
    "t, c, K = sp.symbols(\"t c K\")\n",
    "P = sp.Function(\"P\")(t)\n",
    "# c = 0.05\n",
    "# K = 4000\n",
    "DE = sp.Eq(P.diff(t), c * sp.ln(K / P) * P)\n",
    "DE\n",
    "sp.dsolve(DE, P, simplify=True)\n",
    "# P = sp.Function(\"P\")\n",
    "# sp.dsolve(DE, P(t), ics={P(0): 500}, simplify=False)\n"
   ]
  },
  {
   "cell_type": "code",
   "execution_count": null,
   "metadata": {},
   "outputs": [],
   "source": [
    "# P33\n",
    "x = sp.symbols(\"x\")\n",
    "y = sp.Function(\"y\")(x)\n",
    "DE = sp.Eq(y.diff(x) - 6 / x * y, y**4 / x**11)\n",
    "DE\n",
    "y = sp.Function(\"y\")\n",
    "sp.dsolve(DE, y(x), ics={y(1): 1}, simplify=True)\n"
   ]
  },
  {
   "cell_type": "code",
   "execution_count": null,
   "metadata": {},
   "outputs": [],
   "source": [
    "# P34\n",
    "x = sp.symbols(\"x\")\n",
    "y = sp.Function(\"y\")(x)\n",
    "DE = sp.Eq(y.diff(x, x) + 6 * y.diff(x) + 9 * y, 3 * x)\n",
    "DE\n",
    "sp.dsolve(DE, y, simplify=False)\n"
   ]
  },
  {
   "cell_type": "code",
   "execution_count": null,
   "metadata": {},
   "outputs": [],
   "source": [
    "# P35\n",
    "t = sp.symbols(\"t\")\n",
    "y = sp.Function(\"y\")(t)\n",
    "DE = sp.Eq(y.diff(t, t) + 8 * y.diff(t) + 16 * y, -13.5 * sp.exp(-4 * t) / (t**2 + 1))\n",
    "DE\n",
    "sp.dsolve(DE, y, simplify=False)\n"
   ]
  },
  {
   "cell_type": "code",
   "execution_count": null,
   "metadata": {},
   "outputs": [],
   "source": [
    "# P36\n",
    "x = sp.symbols(\"x\")\n",
    "y = sp.Function(\"y\")(x)\n",
    "# DE = sp.Eq(y.diff(x, x) + 64 * y, 0)\n",
    "# DE\n",
    "# sp.dsolve(DE, y, simplify=False)\n",
    "\n",
    "DE = sp.Eq(y.diff(x, x) + 64 * y, sp.sec(8 * x) ** 2)\n",
    "DE\n",
    "sp.dsolve(DE, y, simplify=False)\n"
   ]
  },
  {
   "cell_type": "code",
   "execution_count": null,
   "metadata": {},
   "outputs": [],
   "source": [
    "# P37\n",
    "t = sp.symbols(\"t\")\n",
    "y = sp.Function(\"y\")(t)\n",
    "DE = sp.Eq(4 * y.diff(t, t) + 40 * y.diff(t) + 51 * y, 0)\n",
    "DE\n",
    "sp.dsolve(DE, y, simplify=False)\n",
    "y = sp.Function(\"y\")\n",
    "y1 = sp.dsolve(DE, y(t), ics={y(0): 1, y(t).diff(t).subs(t, 0): 0}, simplify=False)\n",
    "y2 = sp.dsolve(DE, y(t), ics={y(0): 0, y(t).diff(t).subs(t, 0): 1}, simplify=False)\n"
   ]
  },
  {
   "cell_type": "code",
   "execution_count": 46,
   "metadata": {},
   "outputs": [
    {
     "data": {
      "text/plain": [
       "[(-3,\n",
       "  1,\n",
       "  [Matrix([\n",
       "   [1],\n",
       "   [1]])]),\n",
       " (3,\n",
       "  1,\n",
       "  [Matrix([\n",
       "   [3/2],\n",
       "   [  1]])])]"
      ]
     },
     "execution_count": 46,
     "metadata": {},
     "output_type": "execute_result"
    }
   ],
   "source": [
    "# P38\n",
    "A = sp.Matrix([[15, -18], [12, -15]])\n",
    "A\n",
    "A.eigenvects()\n"
   ]
  },
  {
   "cell_type": "code",
   "execution_count": 47,
   "metadata": {},
   "outputs": [
    {
     "data": {
      "text/plain": [
       "[(-5,\n",
       "  1,\n",
       "  [Matrix([\n",
       "   [1],\n",
       "   [1]])]),\n",
       " (6,\n",
       "  1,\n",
       "  [Matrix([\n",
       "   [2],\n",
       "   [1]])])]"
      ]
     },
     "execution_count": 47,
     "metadata": {},
     "output_type": "execute_result"
    }
   ],
   "source": [
    "# P39\n",
    "A = sp.Matrix([[17, -22], [11, -16]])\n",
    "A\n",
    "A.eigenvects()\n"
   ]
  },
  {
   "cell_type": "code",
   "execution_count": 52,
   "metadata": {},
   "outputs": [
    {
     "data": {
      "text/plain": [
       "[(0,\n",
       "  1,\n",
       "  [Matrix([\n",
       "   [1/5],\n",
       "   [3/5],\n",
       "   [  1]])]),\n",
       " (16,\n",
       "  1,\n",
       "  [Matrix([\n",
       "   [-3/2],\n",
       "   [  -1],\n",
       "   [   1]])]),\n",
       " (64,\n",
       "  1,\n",
       "  [Matrix([\n",
       "   [-3/4],\n",
       "   [  -1],\n",
       "   [   1]])])]"
      ]
     },
     "execution_count": 52,
     "metadata": {},
     "output_type": "execute_result"
    }
   ],
   "source": [
    "# P41\n",
    "A = sp.Matrix([[15, 4, 4], [0, 20, 30], [0, -15, -25]]).T\n",
    "A\n",
    "A.eigenvects()\n",
    "A = sp.Matrix([[-97, -140, -4], [33, 84, 15], [-5, 35, -8]]).T\n",
    "A\n",
    "A.eigenvects()\n",
    "A = sp.Matrix([[-32, -64, 64], [49, 78, -78], [-23, -34, 34]]).T\n",
    "A\n",
    "A.eigenvects()\n"
   ]
  },
  {
   "cell_type": "code",
   "execution_count": 53,
   "metadata": {},
   "outputs": [],
   "source": [
    "# P45\n",
    "\n",
    "c = 4\n",
    "L=1\n",
    "f"
   ]
  },
  {
   "cell_type": "code",
   "execution_count": 3,
   "metadata": {},
   "outputs": [
    {
     "data": {
      "text/plain": [
       "[(-4,\n",
       "  1,\n",
       "  [Matrix([\n",
       "   [1/16],\n",
       "   [-1/4],\n",
       "   [   1]])]),\n",
       " (-3,\n",
       "  1,\n",
       "  [Matrix([\n",
       "   [ 1/9],\n",
       "   [-1/3],\n",
       "   [   1]])]),\n",
       " (-1,\n",
       "  1,\n",
       "  [Matrix([\n",
       "   [ 1],\n",
       "   [-1],\n",
       "   [ 1]])])]"
      ]
     },
     "execution_count": 3,
     "metadata": {},
     "output_type": "execute_result"
    }
   ],
   "source": [
    "A = sp.Matrix([[0, 0, -12], [1, 0, -19], [0, 1, -8]]).T\n",
    "A.eigenvects()"
   ]
  }
 ],
 "metadata": {
  "kernelspec": {
   "display_name": "Python 3",
   "language": "python",
   "name": "python3"
  },
  "language_info": {
   "codemirror_mode": {
    "name": "ipython",
    "version": 3
   },
   "file_extension": ".py",
   "mimetype": "text/x-python",
   "name": "python",
   "nbconvert_exporter": "python",
   "pygments_lexer": "ipython3",
   "version": "3.10.10"
  },
  "orig_nbformat": 4
 },
 "nbformat": 4,
 "nbformat_minor": 2
}
