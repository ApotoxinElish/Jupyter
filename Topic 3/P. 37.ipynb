{
 "cells": [
  {
   "cell_type": "code",
   "execution_count": null,
   "metadata": {},
   "outputs": [],
   "source": [
    "import sympy as sp\n",
    "import numpy as np\n"
   ]
  },
  {
   "cell_type": "code",
   "execution_count": null,
   "metadata": {},
   "outputs": [],
   "source": [
    "# Example 3.9\n",
    "A = np.array([[1, 3, 3], [-3, -5, -3], [3, 3, 1]])\n",
    "A\n"
   ]
  },
  {
   "cell_type": "code",
   "execution_count": null,
   "metadata": {},
   "outputs": [],
   "source": [
    "I = np.eye(3)\n",
    "I\n"
   ]
  },
  {
   "cell_type": "code",
   "execution_count": null,
   "metadata": {},
   "outputs": [],
   "source": [
    "# (A+5I)^2 - (A-I)^2\n",
    "np.linalg.matrix_power(A + 5 * I, 2) - np.linalg.matrix_power(A - I, 2)\n"
   ]
  },
  {
   "cell_type": "code",
   "execution_count": null,
   "metadata": {},
   "outputs": [],
   "source": [
    "# (A+5I)^20 - (A-I)^20\n",
    "np.linalg.matrix_power(A + 5 * I, 20) - np.linalg.matrix_power(A - I, 20)\n"
   ]
  },
  {
   "cell_type": "code",
   "execution_count": null,
   "metadata": {},
   "outputs": [],
   "source": [
    "# (A+5I)^3724 - (A-I)^3724\n",
    "np.linalg.matrix_power(A + 5 * I, 3724) - np.linalg.matrix_power(A - I, 3724)\n"
   ]
  }
 ],
 "metadata": {
  "language_info": {
   "name": "python"
  },
  "orig_nbformat": 4
 },
 "nbformat": 4,
 "nbformat_minor": 2
}
