{
 "cells": [
  {
   "cell_type": "code",
   "execution_count": 1,
   "metadata": {},
   "outputs": [],
   "source": [
    "import sympy as sp\n"
   ]
  },
  {
   "cell_type": "code",
   "execution_count": 2,
   "metadata": {},
   "outputs": [
    {
     "data": {
      "text/latex": [
       "$\\displaystyle \\left[\\begin{matrix}2 & 4 & 3\\\\-4 & -6 & -3\\\\3 & 3 & 1\\end{matrix}\\right]$"
      ],
      "text/plain": [
       "Matrix([\n",
       "[ 2,  4,  3],\n",
       "[-4, -6, -3],\n",
       "[ 3,  3,  1]])"
      ]
     },
     "execution_count": 2,
     "metadata": {},
     "output_type": "execute_result"
    }
   ],
   "source": [
    "A = sp.Matrix([[2, 4, 3], [-4, -6, -3], [3, 3, 1]])\n",
    "A\n"
   ]
  },
  {
   "cell_type": "code",
   "execution_count": 3,
   "metadata": {},
   "outputs": [
    {
     "data": {
      "text/plain": [
       "[(-2,\n",
       "  2,\n",
       "  [Matrix([\n",
       "   [-1],\n",
       "   [ 1],\n",
       "   [ 0]])]),\n",
       " (1,\n",
       "  1,\n",
       "  [Matrix([\n",
       "   [ 1],\n",
       "   [-1],\n",
       "   [ 1]])])]"
      ]
     },
     "execution_count": 3,
     "metadata": {},
     "output_type": "execute_result"
    }
   ],
   "source": [
    "A.eigenvects()\n"
   ]
  },
  {
   "cell_type": "code",
   "execution_count": 4,
   "metadata": {},
   "outputs": [
    {
     "data": {
      "text/plain": [
       "(Matrix([\n",
       " [-1, -1,  1],\n",
       " [ 1,  0, -1],\n",
       " [ 0,  1,  1]]),\n",
       " Matrix([\n",
       " [-2,  1, 0],\n",
       " [ 0, -2, 0],\n",
       " [ 0,  0, 1]]))"
      ]
     },
     "execution_count": 4,
     "metadata": {},
     "output_type": "execute_result"
    }
   ],
   "source": [
    "A.jordan_form()\n"
   ]
  },
  {
   "cell_type": "code",
   "execution_count": 5,
   "metadata": {},
   "outputs": [
    {
     "data": {
      "text/latex": [
       "$\\displaystyle \\left[\\begin{matrix}4 & 0 & -1 & -2\\\\-1 & 3 & 0 & 1\\\\0 & 0 & 4 & 0\\\\1 & 1 & -1 & 1\\end{matrix}\\right]$"
      ],
      "text/plain": [
       "Matrix([\n",
       "[ 4, 0, -1, -2],\n",
       "[-1, 3,  0,  1],\n",
       "[ 0, 0,  4,  0],\n",
       "[ 1, 1, -1,  1]])"
      ]
     },
     "execution_count": 5,
     "metadata": {},
     "output_type": "execute_result"
    }
   ],
   "source": [
    "B = sp.Matrix([[4, 0, -1, -2], [-1, 3, 0, 1], [0, 0, 4, 0], [1, 1, -1, 1]])\n",
    "B\n"
   ]
  },
  {
   "cell_type": "code",
   "execution_count": 6,
   "metadata": {},
   "outputs": [
    {
     "data": {
      "text/plain": [
       "[(2,\n",
       "  2,\n",
       "  [Matrix([\n",
       "   [1],\n",
       "   [0],\n",
       "   [0],\n",
       "   [1]])]),\n",
       " (4,\n",
       "  2,\n",
       "  [Matrix([\n",
       "   [-1],\n",
       "   [ 1],\n",
       "   [ 0],\n",
       "   [ 0]]),\n",
       "   Matrix([\n",
       "   [ 1],\n",
       "   [ 0],\n",
       "   [-2],\n",
       "   [ 1]])])]"
      ]
     },
     "execution_count": 6,
     "metadata": {},
     "output_type": "execute_result"
    }
   ],
   "source": [
    "B.eigenvects()\n"
   ]
  },
  {
   "cell_type": "code",
   "execution_count": 7,
   "metadata": {},
   "outputs": [
    {
     "data": {
      "text/plain": [
       "(Matrix([\n",
       " [2, 1, -1,  1],\n",
       " [0, 1,  1,  0],\n",
       " [0, 0,  0, -2],\n",
       " [2, 0,  0,  1]]),\n",
       " Matrix([\n",
       " [2, 1, 0, 0],\n",
       " [0, 2, 0, 0],\n",
       " [0, 0, 4, 0],\n",
       " [0, 0, 0, 4]]))"
      ]
     },
     "execution_count": 7,
     "metadata": {},
     "output_type": "execute_result"
    }
   ],
   "source": [
    "B.jordan_form()\n"
   ]
  }
 ],
 "metadata": {
  "kernelspec": {
   "display_name": "Python 3",
   "language": "python",
   "name": "python3"
  },
  "language_info": {
   "codemirror_mode": {
    "name": "ipython",
    "version": 3
   },
   "file_extension": ".py",
   "mimetype": "text/x-python",
   "name": "python",
   "nbconvert_exporter": "python",
   "pygments_lexer": "ipython3",
   "version": "3.10.10"
  },
  "orig_nbformat": 4
 },
 "nbformat": 4,
 "nbformat_minor": 2
}
