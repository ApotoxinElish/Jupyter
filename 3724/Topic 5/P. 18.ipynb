{
 "cells": [
  {
   "cell_type": "code",
   "execution_count": 1,
   "metadata": {},
   "outputs": [],
   "source": [
    "from sympy import *\n"
   ]
  },
  {
   "cell_type": "code",
   "execution_count": 2,
   "metadata": {},
   "outputs": [],
   "source": [
    "# the variable x and the function y\n",
    "x = symbols(\"x\")\n",
    "y = Function(\"y\")(x)\n"
   ]
  },
  {
   "cell_type": "code",
   "execution_count": 3,
   "metadata": {},
   "outputs": [
    {
     "data": {
      "text/latex": [
       "$\\displaystyle \\frac{d}{d x} y{\\left(x \\right)} = \\frac{4 y{\\left(x \\right)}}{x y{\\left(x \\right)} - 3 x}$"
      ],
      "text/plain": [
       "Eq(Derivative(y(x), x), 4*y(x)/(x*y(x) - 3*x))"
      ]
     },
     "execution_count": 3,
     "metadata": {},
     "output_type": "execute_result"
    }
   ],
   "source": [
    "# Example 5.1.1\n",
    "DE = Eq(y.diff(), 4 * y / (x * y - 3 * x))\n",
    "DE\n"
   ]
  },
  {
   "cell_type": "code",
   "execution_count": 4,
   "metadata": {},
   "outputs": [
    {
     "data": {
      "text/plain": [
       "[Eq(y(x), -3*LambertW(-(C1/x**4)**(1/3)/3)),\n",
       " Eq(y(x), -3*LambertW((C1/x**4)**(1/3)*(1 - sqrt(3)*I)/6)),\n",
       " Eq(y(x), -3*LambertW((C1/x**4)**(1/3)*(1 + sqrt(3)*I)/6))]"
      ]
     },
     "execution_count": 4,
     "metadata": {},
     "output_type": "execute_result"
    }
   ],
   "source": [
    "# Solve the DE\n",
    "dsolve(DE, y, simplify=False)\n"
   ]
  },
  {
   "cell_type": "code",
   "execution_count": 5,
   "metadata": {},
   "outputs": [
    {
     "data": {
      "text/plain": [
       "[Eq(y(x), -3*LambertW(-(C1/x**4)**(1/3)/3)),\n",
       " Eq(y(x), -3*LambertW((C1/x**4)**(1/3)*(1 - sqrt(3)*I)/6)),\n",
       " Eq(y(x), -3*LambertW((C1/x**4)**(1/3)*(1 + sqrt(3)*I)/6))]"
      ]
     },
     "execution_count": 5,
     "metadata": {},
     "output_type": "execute_result"
    }
   ],
   "source": [
    "# Default simplify = True\n",
    "dsolve(DE, y)\n"
   ]
  },
  {
   "cell_type": "code",
   "execution_count": 6,
   "metadata": {},
   "outputs": [
    {
     "data": {
      "text/latex": [
       "$\\displaystyle \\frac{d}{d x} y{\\left(x \\right)} = y^{2}{\\left(x \\right)}$"
      ],
      "text/plain": [
       "Eq(Derivative(y(x), x), y(x)**2)"
      ]
     },
     "execution_count": 6,
     "metadata": {},
     "output_type": "execute_result"
    }
   ],
   "source": [
    "# Example 5.1.2\n",
    "DE = Eq(y.diff(), y**2)\n",
    "DE\n"
   ]
  },
  {
   "cell_type": "code",
   "execution_count": 7,
   "metadata": {},
   "outputs": [
    {
     "data": {
      "text/latex": [
       "$\\displaystyle - \\frac{1}{y{\\left(x \\right)}} = C_{1} + x$"
      ],
      "text/plain": [
       "Eq(-1/y(x), C1 + x)"
      ]
     },
     "execution_count": 7,
     "metadata": {},
     "output_type": "execute_result"
    }
   ],
   "source": [
    "dsolve(DE, y, simplify=False)\n"
   ]
  },
  {
   "cell_type": "code",
   "execution_count": 8,
   "metadata": {},
   "outputs": [
    {
     "data": {
      "text/latex": [
       "$\\displaystyle \\frac{d}{d x} y{\\left(x \\right)} = \\frac{x}{y^{2}{\\left(x \\right)}}$"
      ],
      "text/plain": [
       "Eq(Derivative(y(x), x), x/y(x)**2)"
      ]
     },
     "execution_count": 8,
     "metadata": {},
     "output_type": "execute_result"
    }
   ],
   "source": [
    "# Example 5.2\n",
    "DE = Eq(y.diff(), x / y**2)\n",
    "DE\n"
   ]
  },
  {
   "cell_type": "code",
   "execution_count": 9,
   "metadata": {},
   "outputs": [
    {
     "data": {
      "text/latex": [
       "$\\displaystyle \\frac{y^{3}{\\left(x \\right)}}{3} = C_{1} + \\frac{x^{2}}{2}$"
      ],
      "text/plain": [
       "Eq(y(x)**3/3, C1 + x**2/2)"
      ]
     },
     "execution_count": 9,
     "metadata": {},
     "output_type": "execute_result"
    }
   ],
   "source": [
    "dsolve(DE, y, simplify=False)\n"
   ]
  },
  {
   "cell_type": "code",
   "execution_count": 10,
   "metadata": {},
   "outputs": [
    {
     "data": {
      "text/latex": [
       "$\\displaystyle y{\\left(x \\right)} = \\sqrt[3]{\\frac{3 x^{2}}{2} + 1}$"
      ],
      "text/plain": [
       "Eq(y(x), (3*x**2/2 + 1)**(1/3))"
      ]
     },
     "execution_count": 10,
     "metadata": {},
     "output_type": "execute_result"
    }
   ],
   "source": [
    "# Solve the IVP\n",
    "y = Function(\"y\")\n",
    "dsolve(DE, y(x), ics={y(0): 1})\n"
   ]
  },
  {
   "cell_type": "code",
   "execution_count": 11,
   "metadata": {},
   "outputs": [
    {
     "data": {
      "text/latex": [
       "$\\displaystyle \\frac{d}{d x} y{\\left(x \\right)} = \\frac{x^{2} - y^{2}{\\left(x \\right)}}{2 x y{\\left(x \\right)}}$"
      ],
      "text/plain": [
       "Eq(Derivative(y(x), x), (x**2 - y(x)**2)/(2*x*y(x)))"
      ]
     },
     "execution_count": 11,
     "metadata": {},
     "output_type": "execute_result"
    }
   ],
   "source": [
    "# Example 5.3\n",
    "y = Function(\"y\")(x)\n",
    "DE = Eq(y.diff(), (x**2 - y**2) / (2 * x * y))\n",
    "DE\n"
   ]
  },
  {
   "cell_type": "code",
   "execution_count": 12,
   "metadata": {},
   "outputs": [
    {
     "data": {
      "text/plain": [
       "[Eq(y(x), -sqrt(3)*sqrt(C1/x + x**2)/3), Eq(y(x), sqrt(3)*sqrt(C1/x + x**2)/3)]"
      ]
     },
     "execution_count": 12,
     "metadata": {},
     "output_type": "execute_result"
    }
   ],
   "source": [
    "dsolve(DE, y, simplify=False)\n"
   ]
  },
  {
   "cell_type": "code",
   "execution_count": 13,
   "metadata": {},
   "outputs": [
    {
     "data": {
      "text/latex": [
       "$\\displaystyle \\frac{d}{d x} y{\\left(x \\right)} = - \\frac{2 y{\\left(x \\right)}}{3 x - y{\\left(x \\right)}}$"
      ],
      "text/plain": [
       "Eq(Derivative(y(x), x), -2*y(x)/(3*x - y(x)))"
      ]
     },
     "execution_count": 13,
     "metadata": {},
     "output_type": "execute_result"
    }
   ],
   "source": [
    "# Example 5.4\n",
    "DE = Eq(y.diff(), -2 * y / (3 * x - y))\n",
    "DE\n"
   ]
  },
  {
   "cell_type": "code",
   "execution_count": 14,
   "metadata": {},
   "outputs": [
    {
     "data": {
      "text/latex": [
       "$\\displaystyle \\log{\\left(y{\\left(x \\right)} \\right)} = \\log{\\left(C_{1} \\right)} - \\frac{2 \\log{\\left(\\frac{5 x}{y{\\left(x \\right)}} - 1 \\right)}}{5}$"
      ],
      "text/plain": [
       "Eq(log(y(x)), log(C1) - 2*log(5*x/y(x) - 1)/5)"
      ]
     },
     "execution_count": 14,
     "metadata": {},
     "output_type": "execute_result"
    }
   ],
   "source": [
    "dsolve(DE, y, simplify=False)\n"
   ]
  },
  {
   "cell_type": "code",
   "execution_count": 15,
   "metadata": {},
   "outputs": [
    {
     "data": {
      "text/latex": [
       "$\\displaystyle \\frac{d}{d x} y{\\left(x \\right)} + \\frac{2 y{\\left(x \\right)}}{x} = x - 1$"
      ],
      "text/plain": [
       "Eq(Derivative(y(x), x) + 2*y(x)/x, x - 1)"
      ]
     },
     "execution_count": 15,
     "metadata": {},
     "output_type": "execute_result"
    }
   ],
   "source": [
    "# Example 5.5\n",
    "DE = Eq(y.diff() + 2 * y / x, x - 1)\n",
    "DE\n"
   ]
  },
  {
   "cell_type": "code",
   "execution_count": 16,
   "metadata": {},
   "outputs": [
    {
     "data": {
      "text/latex": [
       "$\\displaystyle y{\\left(x \\right)} = \\frac{C_{1}}{x^{2}} + \\frac{x^{2}}{4} - \\frac{x}{3}$"
      ],
      "text/plain": [
       "Eq(y(x), C1/x**2 + x**2/4 - x/3)"
      ]
     },
     "execution_count": 16,
     "metadata": {},
     "output_type": "execute_result"
    }
   ],
   "source": [
    "dsolve(DE, y, simplify=False)\n"
   ]
  },
  {
   "cell_type": "code",
   "execution_count": 17,
   "metadata": {},
   "outputs": [
    {
     "data": {
      "text/latex": [
       "$\\displaystyle y{\\left(x \\right)} = \\frac{x^{2}}{4} - \\frac{x}{3} + \\frac{1}{12 x^{2}}$"
      ],
      "text/plain": [
       "Eq(y(x), x**2/4 - x/3 + 1/(12*x**2))"
      ]
     },
     "execution_count": 17,
     "metadata": {},
     "output_type": "execute_result"
    }
   ],
   "source": [
    "y = Function(\"y\")\n",
    "dsolve(DE, y(x), simplify=False, ics={y(1): 0})\n"
   ]
  },
  {
   "cell_type": "code",
   "execution_count": 18,
   "metadata": {},
   "outputs": [
    {
     "data": {
      "text/latex": [
       "$\\displaystyle \\left(1 - x\\right)^{2} y{\\left(x \\right)} + \\left(x^{2} + 1\\right) \\frac{d}{d x} y{\\left(x \\right)} = x e^{- x}$"
      ],
      "text/plain": [
       "Eq((1 - x)**2*y(x) + (x**2 + 1)*Derivative(y(x), x), x*exp(-x))"
      ]
     },
     "execution_count": 18,
     "metadata": {},
     "output_type": "execute_result"
    }
   ],
   "source": [
    "# Example 5.6\n",
    "y = Function(\"y\")(x)\n",
    "DE = Eq((1 + x**2) * y.diff() + (1 - x) ** 2 * y, x * exp(-x))\n",
    "DE\n"
   ]
  },
  {
   "cell_type": "code",
   "execution_count": 19,
   "metadata": {},
   "outputs": [
    {
     "data": {
      "text/latex": [
       "$\\displaystyle y{\\left(x \\right)} = \\left(C_{1} x^{2} + C_{1} - \\frac{1}{2}\\right) e^{- x}$"
      ],
      "text/plain": [
       "Eq(y(x), (C1*x**2 + C1 - 1/2)*exp(-x))"
      ]
     },
     "execution_count": 19,
     "metadata": {},
     "output_type": "execute_result"
    }
   ],
   "source": [
    "dsolve(DE, y, simplify=True)\n"
   ]
  },
  {
   "cell_type": "code",
   "execution_count": 20,
   "metadata": {},
   "outputs": [
    {
     "data": {
      "text/latex": [
       "$\\displaystyle - x^{2} + \\left(2 x y{\\left(x \\right)} + 1\\right) \\frac{d}{d x} y{\\left(x \\right)} + y^{2}{\\left(x \\right)} = 0$"
      ],
      "text/plain": [
       "Eq(-x**2 + (2*x*y(x) + 1)*Derivative(y(x), x) + y(x)**2, 0)"
      ]
     },
     "execution_count": 20,
     "metadata": {},
     "output_type": "execute_result"
    }
   ],
   "source": [
    "DE = Eq(y**2 - x**2 + (2 * x * y + 1) * y.diff(), 0)\n",
    "DE\n"
   ]
  },
  {
   "cell_type": "code",
   "execution_count": 21,
   "metadata": {},
   "outputs": [],
   "source": [
    "dsolve(DE, y, simplify=False)\n"
   ]
  },
  {
   "cell_type": "code",
   "execution_count": null,
   "metadata": {},
   "outputs": [],
   "source": [
    "# Example 5.8\n",
    "DE = Eq(y.diff(), -(2 * y - 1) / (2 * x - y + 2))\n",
    "DE\n"
   ]
  },
  {
   "cell_type": "code",
   "execution_count": null,
   "metadata": {},
   "outputs": [],
   "source": [
    "dsolve(DE, y, simplify=False)\n"
   ]
  },
  {
   "cell_type": "code",
   "execution_count": null,
   "metadata": {},
   "outputs": [],
   "source": [
    "DE = Eq(2 * x**2 * y + y**2 + (2 * x**3 - x * y) * y.diff(), 0)\n",
    "DE\n"
   ]
  },
  {
   "cell_type": "code",
   "execution_count": null,
   "metadata": {},
   "outputs": [],
   "source": [
    "dsolve(DE, y, simplify=False)\n"
   ]
  },
  {
   "cell_type": "code",
   "execution_count": null,
   "metadata": {},
   "outputs": [],
   "source": [
    "import numpy as np\n",
    "import matplotlib.pyplot as plt\n",
    "from scipy.integrate import solve_ivp\n",
    "\n",
    "\n",
    "# define the function f(x,y)\n",
    "def f(x, y):\n",
    "    return (2 * x**2 * y + y**2) / (x * y - 2 * x**3)\n",
    "\n",
    "\n",
    "# Solve the ODE numerically with y(0) = 1\n",
    "sol = solve_ivp(f, [1, 10], [1], t_eval=np.arange(1, 10, 0.2))\n",
    "sol\n"
   ]
  },
  {
   "cell_type": "code",
   "execution_count": null,
   "metadata": {},
   "outputs": [],
   "source": [
    "# Plot the solution\n",
    "plt.figure(figsize=(12, 6))\n",
    "for y in sol.y:\n",
    "    plt.plot(sol.t, y)\n",
    "plt.xlabel(\"x\")\n",
    "plt.ylabel(\"y(x)\")\n",
    "plt.title(\"y(0) = 1\")\n",
    "plt.show()\n"
   ]
  },
  {
   "cell_type": "code",
   "execution_count": null,
   "metadata": {},
   "outputs": [],
   "source": [
    "# Solve the ODE numerically with y(0) = 3\n",
    "sol = solve_ivp(f, [1, 10], [3], t_eval=np.arange(1, 10, 0.2))\n",
    "sol\n"
   ]
  },
  {
   "cell_type": "code",
   "execution_count": null,
   "metadata": {},
   "outputs": [],
   "source": [
    "# Plot the solution\n",
    "plt.figure(figsize=(12, 6))\n",
    "for y in sol.y:\n",
    "    plt.plot(sol.t, y)\n",
    "plt.xlabel(\"x\")\n",
    "plt.ylabel(\"y(x)\")\n",
    "plt.title(\"y(0) = 3\")\n",
    "plt.show()\n"
   ]
  }
 ],
 "metadata": {
  "kernelspec": {
   "display_name": "Python 3",
   "language": "python",
   "name": "python3"
  },
  "language_info": {
   "codemirror_mode": {
    "name": "ipython",
    "version": 3
   },
   "file_extension": ".py",
   "mimetype": "text/x-python",
   "name": "python",
   "nbconvert_exporter": "python",
   "pygments_lexer": "ipython3",
   "version": "3.11.3"
  },
  "orig_nbformat": 4
 },
 "nbformat": 4,
 "nbformat_minor": 2
}
