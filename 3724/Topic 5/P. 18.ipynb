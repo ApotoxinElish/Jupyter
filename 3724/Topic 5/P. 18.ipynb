{
 "cells": [
  {
   "cell_type": "code",
   "execution_count": 1,
   "metadata": {},
   "outputs": [],
   "source": [
    "from sympy import *\n"
   ]
  },
  {
   "cell_type": "code",
   "execution_count": 2,
   "metadata": {},
   "outputs": [],
   "source": [
    "# the variable x and the function y\n",
    "x = symbols(\"x\")\n",
    "y = Function(\"y\")(x)\n"
   ]
  },
  {
   "cell_type": "code",
   "execution_count": 3,
   "metadata": {},
   "outputs": [
    {
     "data": {
      "text/latex": [
       "$\\displaystyle \\frac{d}{d x} y{\\left(x \\right)} = \\frac{4 y{\\left(x \\right)}}{x y{\\left(x \\right)} - 3 x}$"
      ],
      "text/plain": [
       "Eq(Derivative(y(x), x), 4*y(x)/(x*y(x) - 3*x))"
      ]
     },
     "execution_count": 3,
     "metadata": {},
     "output_type": "execute_result"
    }
   ],
   "source": [
    "# Example 5.1.1\n",
    "DE = Eq(y.diff(), 4 * y / (x * y - 3 * x))\n",
    "DE\n"
   ]
  },
  {
   "cell_type": "code",
   "execution_count": 4,
   "metadata": {},
   "outputs": [
    {
     "data": {
      "text/plain": [
       "[Eq(y(x), -3*LambertW(-(C1/x**4)**(1/3)/3)),\n",
       " Eq(y(x), -3*LambertW((C1/x**4)**(1/3)*(1 - sqrt(3)*I)/6)),\n",
       " Eq(y(x), -3*LambertW((C1/x**4)**(1/3)*(1 + sqrt(3)*I)/6))]"
      ]
     },
     "execution_count": 4,
     "metadata": {},
     "output_type": "execute_result"
    }
   ],
   "source": [
    "# Solve the DE\n",
    "dsolve(DE, y, simplify=False)\n"
   ]
  },
  {
   "cell_type": "code",
   "execution_count": 5,
   "metadata": {},
   "outputs": [
    {
     "data": {
      "text/plain": [
       "[Eq(y(x), -3*LambertW(-(C1/x**4)**(1/3)/3)),\n",
       " Eq(y(x), -3*LambertW((C1/x**4)**(1/3)*(1 - sqrt(3)*I)/6)),\n",
       " Eq(y(x), -3*LambertW((C1/x**4)**(1/3)*(1 + sqrt(3)*I)/6))]"
      ]
     },
     "execution_count": 5,
     "metadata": {},
     "output_type": "execute_result"
    }
   ],
   "source": [
    "# Default simplify = True\n",
    "dsolve(DE, y)\n"
   ]
  },
  {
   "cell_type": "code",
   "execution_count": 6,
   "metadata": {},
   "outputs": [
    {
     "data": {
      "text/latex": [
       "$\\displaystyle \\frac{d}{d x} y{\\left(x \\right)} = y^{2}{\\left(x \\right)}$"
      ],
      "text/plain": [
       "Eq(Derivative(y(x), x), y(x)**2)"
      ]
     },
     "execution_count": 6,
     "metadata": {},
     "output_type": "execute_result"
    }
   ],
   "source": [
    "# Example 5.1.2\n",
    "DE = Eq(y.diff(), y**2)\n",
    "DE\n"
   ]
  },
  {
   "cell_type": "code",
   "execution_count": 7,
   "metadata": {},
   "outputs": [
    {
     "data": {
      "text/latex": [
       "$\\displaystyle - \\frac{1}{y{\\left(x \\right)}} = C_{1} + x$"
      ],
      "text/plain": [
       "Eq(-1/y(x), C1 + x)"
      ]
     },
     "execution_count": 7,
     "metadata": {},
     "output_type": "execute_result"
    }
   ],
   "source": [
    "dsolve(DE, y, simplify=False)\n"
   ]
  },
  {
   "cell_type": "code",
   "execution_count": 8,
   "metadata": {},
   "outputs": [
    {
     "data": {
      "text/latex": [
       "$\\displaystyle \\frac{d}{d x} y{\\left(x \\right)} = \\frac{x}{y^{2}{\\left(x \\right)}}$"
      ],
      "text/plain": [
       "Eq(Derivative(y(x), x), x/y(x)**2)"
      ]
     },
     "execution_count": 8,
     "metadata": {},
     "output_type": "execute_result"
    }
   ],
   "source": [
    "# Example 5.2\n",
    "DE = Eq(y.diff(), x / y**2)\n",
    "DE\n"
   ]
  },
  {
   "cell_type": "code",
   "execution_count": 9,
   "metadata": {},
   "outputs": [
    {
     "data": {
      "text/latex": [
       "$\\displaystyle \\frac{y^{3}{\\left(x \\right)}}{3} = C_{1} + \\frac{x^{2}}{2}$"
      ],
      "text/plain": [
       "Eq(y(x)**3/3, C1 + x**2/2)"
      ]
     },
     "execution_count": 9,
     "metadata": {},
     "output_type": "execute_result"
    }
   ],
   "source": [
    "dsolve(DE, y, simplify=False)\n"
   ]
  },
  {
   "cell_type": "code",
   "execution_count": 10,
   "metadata": {},
   "outputs": [
    {
     "data": {
      "text/latex": [
       "$\\displaystyle y{\\left(x \\right)} = \\sqrt[3]{\\frac{3 x^{2}}{2} + 1}$"
      ],
      "text/plain": [
       "Eq(y(x), (3*x**2/2 + 1)**(1/3))"
      ]
     },
     "execution_count": 10,
     "metadata": {},
     "output_type": "execute_result"
    }
   ],
   "source": [
    "# Solve the IVP\n",
    "y = Function(\"y\")\n",
    "dsolve(DE, y(x), ics={y(0): 1})\n"
   ]
  },
  {
   "cell_type": "code",
   "execution_count": 11,
   "metadata": {},
   "outputs": [
    {
     "data": {
      "text/latex": [
       "$\\displaystyle \\frac{d}{d x} y{\\left(x \\right)} = \\frac{x^{2} - y^{2}{\\left(x \\right)}}{2 x y{\\left(x \\right)}}$"
      ],
      "text/plain": [
       "Eq(Derivative(y(x), x), (x**2 - y(x)**2)/(2*x*y(x)))"
      ]
     },
     "execution_count": 11,
     "metadata": {},
     "output_type": "execute_result"
    }
   ],
   "source": [
    "# Example 5.3\n",
    "y = Function(\"y\")(x)\n",
    "DE = Eq(y.diff(), (x**2 - y**2) / (2 * x * y))\n",
    "DE\n"
   ]
  },
  {
   "cell_type": "code",
   "execution_count": 12,
   "metadata": {},
   "outputs": [
    {
     "data": {
      "text/plain": [
       "[Eq(y(x), -sqrt(3)*sqrt(C1/x + x**2)/3), Eq(y(x), sqrt(3)*sqrt(C1/x + x**2)/3)]"
      ]
     },
     "execution_count": 12,
     "metadata": {},
     "output_type": "execute_result"
    }
   ],
   "source": [
    "dsolve(DE, y, simplify=False)\n"
   ]
  },
  {
   "cell_type": "code",
   "execution_count": 13,
   "metadata": {},
   "outputs": [
    {
     "data": {
      "text/latex": [
       "$\\displaystyle \\frac{d}{d x} y{\\left(x \\right)} = - \\frac{2 y{\\left(x \\right)}}{3 x - y{\\left(x \\right)}}$"
      ],
      "text/plain": [
       "Eq(Derivative(y(x), x), -2*y(x)/(3*x - y(x)))"
      ]
     },
     "execution_count": 13,
     "metadata": {},
     "output_type": "execute_result"
    }
   ],
   "source": [
    "# Example 5.4\n",
    "DE = Eq(y.diff(), -2 * y / (3 * x - y))\n",
    "DE\n"
   ]
  },
  {
   "cell_type": "code",
   "execution_count": 14,
   "metadata": {},
   "outputs": [
    {
     "data": {
      "text/latex": [
       "$\\displaystyle \\log{\\left(y{\\left(x \\right)} \\right)} = \\log{\\left(C_{1} \\right)} - \\frac{2 \\log{\\left(\\frac{5 x}{y{\\left(x \\right)}} - 1 \\right)}}{5}$"
      ],
      "text/plain": [
       "Eq(log(y(x)), log(C1) - 2*log(5*x/y(x) - 1)/5)"
      ]
     },
     "execution_count": 14,
     "metadata": {},
     "output_type": "execute_result"
    }
   ],
   "source": [
    "dsolve(DE, y, simplify=False)\n"
   ]
  },
  {
   "cell_type": "code",
   "execution_count": 15,
   "metadata": {},
   "outputs": [
    {
     "data": {
      "text/latex": [
       "$\\displaystyle \\frac{d}{d x} y{\\left(x \\right)} + \\frac{2 y{\\left(x \\right)}}{x} = x - 1$"
      ],
      "text/plain": [
       "Eq(Derivative(y(x), x) + 2*y(x)/x, x - 1)"
      ]
     },
     "execution_count": 15,
     "metadata": {},
     "output_type": "execute_result"
    }
   ],
   "source": [
    "# Example 5.5\n",
    "DE = Eq(y.diff() + 2 * y / x, x - 1)\n",
    "DE\n"
   ]
  },
  {
   "cell_type": "code",
   "execution_count": 16,
   "metadata": {},
   "outputs": [
    {
     "data": {
      "text/latex": [
       "$\\displaystyle y{\\left(x \\right)} = \\frac{C_{1}}{x^{2}} + \\frac{x^{2}}{4} - \\frac{x}{3}$"
      ],
      "text/plain": [
       "Eq(y(x), C1/x**2 + x**2/4 - x/3)"
      ]
     },
     "execution_count": 16,
     "metadata": {},
     "output_type": "execute_result"
    }
   ],
   "source": [
    "dsolve(DE, y, simplify=False)\n"
   ]
  },
  {
   "cell_type": "code",
   "execution_count": 17,
   "metadata": {},
   "outputs": [
    {
     "data": {
      "text/latex": [
       "$\\displaystyle y{\\left(x \\right)} = \\frac{x^{2}}{4} - \\frac{x}{3} + \\frac{1}{12 x^{2}}$"
      ],
      "text/plain": [
       "Eq(y(x), x**2/4 - x/3 + 1/(12*x**2))"
      ]
     },
     "execution_count": 17,
     "metadata": {},
     "output_type": "execute_result"
    }
   ],
   "source": [
    "y = Function(\"y\")\n",
    "dsolve(DE, y(x), simplify=False, ics={y(1): 0})\n"
   ]
  },
  {
   "cell_type": "code",
   "execution_count": 18,
   "metadata": {},
   "outputs": [
    {
     "data": {
      "text/latex": [
       "$\\displaystyle \\left(1 - x\\right)^{2} y{\\left(x \\right)} + \\left(x^{2} + 1\\right) \\frac{d}{d x} y{\\left(x \\right)} = x e^{- x}$"
      ],
      "text/plain": [
       "Eq((1 - x)**2*y(x) + (x**2 + 1)*Derivative(y(x), x), x*exp(-x))"
      ]
     },
     "execution_count": 18,
     "metadata": {},
     "output_type": "execute_result"
    }
   ],
   "source": [
    "# Example 5.6\n",
    "y = Function(\"y\")(x)\n",
    "DE = Eq((1 + x**2) * y.diff() + (1 - x) ** 2 * y, x * exp(-x))\n",
    "DE\n"
   ]
  },
  {
   "cell_type": "code",
   "execution_count": 19,
   "metadata": {},
   "outputs": [
    {
     "data": {
      "text/latex": [
       "$\\displaystyle y{\\left(x \\right)} = \\left(C_{1} x^{2} + C_{1} - \\frac{1}{2}\\right) e^{- x}$"
      ],
      "text/plain": [
       "Eq(y(x), (C1*x**2 + C1 - 1/2)*exp(-x))"
      ]
     },
     "execution_count": 19,
     "metadata": {},
     "output_type": "execute_result"
    }
   ],
   "source": [
    "dsolve(DE, y, simplify=True)\n"
   ]
  },
  {
   "cell_type": "code",
   "execution_count": 20,
   "metadata": {},
   "outputs": [
    {
     "data": {
      "text/latex": [
       "$\\displaystyle - x^{2} + \\left(2 x y{\\left(x \\right)} + 1\\right) \\frac{d}{d x} y{\\left(x \\right)} + y^{2}{\\left(x \\right)} = 0$"
      ],
      "text/plain": [
       "Eq(-x**2 + (2*x*y(x) + 1)*Derivative(y(x), x) + y(x)**2, 0)"
      ]
     },
     "execution_count": 20,
     "metadata": {},
     "output_type": "execute_result"
    }
   ],
   "source": [
    "DE = Eq(y**2 - x**2 + (2 * x * y + 1) * y.diff(), 0)\n",
    "DE\n"
   ]
  },
  {
   "cell_type": "code",
   "execution_count": 21,
   "metadata": {},
   "outputs": [
    {
     "ename": "KeyboardInterrupt",
     "evalue": "",
     "output_type": "error",
     "traceback": [
      "\u001b[1;31m---------------------------------------------------------------------------\u001b[0m",
      "\u001b[1;31mKeyboardInterrupt\u001b[0m                         Traceback (most recent call last)",
      "Cell \u001b[1;32mIn[21], line 1\u001b[0m\n\u001b[1;32m----> 1\u001b[0m dsolve(DE, y, simplify\u001b[39m=\u001b[39;49m\u001b[39mFalse\u001b[39;49;00m)\n",
      "File \u001b[1;32md:\\Program Files\\Python311\\Lib\\site-packages\\sympy\\solvers\\ode\\ode.py:640\u001b[0m, in \u001b[0;36mdsolve\u001b[1;34m(eq, func, hint, simplify, ics, xi, eta, x0, n, **kwargs)\u001b[0m\n\u001b[0;32m    637\u001b[0m \u001b[39melse\u001b[39;00m:\n\u001b[0;32m    638\u001b[0m     \u001b[39m# The key 'hint' stores the hint needed to be solved for.\u001b[39;00m\n\u001b[0;32m    639\u001b[0m     hint \u001b[39m=\u001b[39m hints[\u001b[39m'\u001b[39m\u001b[39mhint\u001b[39m\u001b[39m'\u001b[39m]\n\u001b[1;32m--> 640\u001b[0m     \u001b[39mreturn\u001b[39;00m _helper_simplify(eq, hint, hints, simplify, ics\u001b[39m=\u001b[39;49mics)\n",
      "File \u001b[1;32md:\\Program Files\\Python311\\Lib\\site-packages\\sympy\\solvers\\ode\\ode.py:679\u001b[0m, in \u001b[0;36m_helper_simplify\u001b[1;34m(eq, hint, match, simplify, ics, **kwargs)\u001b[0m\n\u001b[0;32m    676\u001b[0m \u001b[39melse\u001b[39;00m:\n\u001b[0;32m    677\u001b[0m     \u001b[39m# We still want to integrate (you can disable it separately with the hint)\u001b[39;00m\n\u001b[0;32m    678\u001b[0m     \u001b[39mif\u001b[39;00m \u001b[39misinstance\u001b[39m(solvefunc, SingleODESolver):\n\u001b[1;32m--> 679\u001b[0m         exprs \u001b[39m=\u001b[39m solvefunc\u001b[39m.\u001b[39;49mget_general_solution(simplify\u001b[39m=\u001b[39;49m\u001b[39mFalse\u001b[39;49;00m)\n\u001b[0;32m    680\u001b[0m     \u001b[39melse\u001b[39;00m:\n\u001b[0;32m    681\u001b[0m         \u001b[39mmatch\u001b[39;00m[\u001b[39m'\u001b[39m\u001b[39msimplify\u001b[39m\u001b[39m'\u001b[39m] \u001b[39m=\u001b[39m \u001b[39mFalse\u001b[39;00m  \u001b[39m# Some hints can take advantage of this option\u001b[39;00m\n",
      "File \u001b[1;32md:\\Program Files\\Python311\\Lib\\site-packages\\sympy\\solvers\\ode\\single.py:285\u001b[0m, in \u001b[0;36mSingleODESolver.get_general_solution\u001b[1;34m(self, simplify)\u001b[0m\n\u001b[0;32m    283\u001b[0m     msg \u001b[39m=\u001b[39m \u001b[39m\"\u001b[39m\u001b[39m%s\u001b[39;00m\u001b[39m solver cannot solve:\u001b[39m\u001b[39m\\n\u001b[39;00m\u001b[39m%s\u001b[39;00m\u001b[39m\"\u001b[39m\n\u001b[0;32m    284\u001b[0m     \u001b[39mraise\u001b[39;00m ODEMatchError(msg \u001b[39m%\u001b[39m (\u001b[39mself\u001b[39m\u001b[39m.\u001b[39mhint, \u001b[39mself\u001b[39m\u001b[39m.\u001b[39mode_problem\u001b[39m.\u001b[39meq))\n\u001b[1;32m--> 285\u001b[0m \u001b[39mreturn\u001b[39;00m \u001b[39mself\u001b[39;49m\u001b[39m.\u001b[39;49m_get_general_solution(simplify_flag\u001b[39m=\u001b[39;49msimplify)\n",
      "File \u001b[1;32md:\\Program Files\\Python311\\Lib\\site-packages\\sympy\\solvers\\ode\\single.py:899\u001b[0m, in \u001b[0;36mFactorable._get_general_solution\u001b[1;34m(self, simplify_flag)\u001b[0m\n\u001b[0;32m    897\u001b[0m \u001b[39mfor\u001b[39;00m eq \u001b[39min\u001b[39;00m eqns:\n\u001b[0;32m    898\u001b[0m     \u001b[39mtry\u001b[39;00m:\n\u001b[1;32m--> 899\u001b[0m         sol \u001b[39m=\u001b[39m dsolve(eq, func(x))\n\u001b[0;32m    900\u001b[0m     \u001b[39mexcept\u001b[39;00m \u001b[39mNotImplementedError\u001b[39;00m:\n\u001b[0;32m    901\u001b[0m         \u001b[39mcontinue\u001b[39;00m\n",
      "File \u001b[1;32md:\\Program Files\\Python311\\Lib\\site-packages\\sympy\\solvers\\ode\\ode.py:640\u001b[0m, in \u001b[0;36mdsolve\u001b[1;34m(eq, func, hint, simplify, ics, xi, eta, x0, n, **kwargs)\u001b[0m\n\u001b[0;32m    637\u001b[0m \u001b[39melse\u001b[39;00m:\n\u001b[0;32m    638\u001b[0m     \u001b[39m# The key 'hint' stores the hint needed to be solved for.\u001b[39;00m\n\u001b[0;32m    639\u001b[0m     hint \u001b[39m=\u001b[39m hints[\u001b[39m'\u001b[39m\u001b[39mhint\u001b[39m\u001b[39m'\u001b[39m]\n\u001b[1;32m--> 640\u001b[0m     \u001b[39mreturn\u001b[39;00m _helper_simplify(eq, hint, hints, simplify, ics\u001b[39m=\u001b[39;49mics)\n",
      "File \u001b[1;32md:\\Program Files\\Python311\\Lib\\site-packages\\sympy\\solvers\\ode\\ode.py:669\u001b[0m, in \u001b[0;36m_helper_simplify\u001b[1;34m(eq, hint, match, simplify, ics, **kwargs)\u001b[0m\n\u001b[0;32m    664\u001b[0m \u001b[39mif\u001b[39;00m simplify:\n\u001b[0;32m    665\u001b[0m     \u001b[39m# odesimp() will attempt to integrate, if necessary, apply constantsimp(),\u001b[39;00m\n\u001b[0;32m    666\u001b[0m     \u001b[39m# attempt to solve for func, and apply any other hint specific\u001b[39;00m\n\u001b[0;32m    667\u001b[0m     \u001b[39m# simplifications\u001b[39;00m\n\u001b[0;32m    668\u001b[0m     \u001b[39mif\u001b[39;00m \u001b[39misinstance\u001b[39m(solvefunc, SingleODESolver):\n\u001b[1;32m--> 669\u001b[0m         sols \u001b[39m=\u001b[39m solvefunc\u001b[39m.\u001b[39;49mget_general_solution()\n\u001b[0;32m    670\u001b[0m     \u001b[39melse\u001b[39;00m:\n\u001b[0;32m    671\u001b[0m         sols \u001b[39m=\u001b[39m solvefunc(eq, func, order, match)\n",
      "File \u001b[1;32md:\\Program Files\\Python311\\Lib\\site-packages\\sympy\\solvers\\ode\\single.py:285\u001b[0m, in \u001b[0;36mSingleODESolver.get_general_solution\u001b[1;34m(self, simplify)\u001b[0m\n\u001b[0;32m    283\u001b[0m     msg \u001b[39m=\u001b[39m \u001b[39m\"\u001b[39m\u001b[39m%s\u001b[39;00m\u001b[39m solver cannot solve:\u001b[39m\u001b[39m\\n\u001b[39;00m\u001b[39m%s\u001b[39;00m\u001b[39m\"\u001b[39m\n\u001b[0;32m    284\u001b[0m     \u001b[39mraise\u001b[39;00m ODEMatchError(msg \u001b[39m%\u001b[39m (\u001b[39mself\u001b[39m\u001b[39m.\u001b[39mhint, \u001b[39mself\u001b[39m\u001b[39m.\u001b[39mode_problem\u001b[39m.\u001b[39meq))\n\u001b[1;32m--> 285\u001b[0m \u001b[39mreturn\u001b[39;00m \u001b[39mself\u001b[39;49m\u001b[39m.\u001b[39;49m_get_general_solution(simplify_flag\u001b[39m=\u001b[39;49msimplify)\n",
      "File \u001b[1;32md:\\Program Files\\Python311\\Lib\\site-packages\\sympy\\solvers\\ode\\single.py:2940\u001b[0m, in \u001b[0;36mLieGroup._get_general_solution\u001b[1;34m(self, simplify_flag)\u001b[0m\n\u001b[0;32m   2938\u001b[0m desols \u001b[39m=\u001b[39m []\n\u001b[0;32m   2939\u001b[0m \u001b[39mfor\u001b[39;00m s \u001b[39min\u001b[39;00m eqsol:\n\u001b[1;32m-> 2940\u001b[0m     sol \u001b[39m=\u001b[39m _ode_lie_group(s, func, order, match\u001b[39m=\u001b[39;49m\u001b[39mself\u001b[39;49m\u001b[39m.\u001b[39;49mr3)\n\u001b[0;32m   2941\u001b[0m     \u001b[39mif\u001b[39;00m sol:\n\u001b[0;32m   2942\u001b[0m         desols\u001b[39m.\u001b[39mextend(sol)\n",
      "File \u001b[1;32md:\\Program Files\\Python311\\Lib\\site-packages\\sympy\\solvers\\ode\\lie_group.py:157\u001b[0m, in \u001b[0;36m_ode_lie_group\u001b[1;34m(s, func, order, match)\u001b[0m\n\u001b[0;32m    155\u001b[0m sol \u001b[39m=\u001b[39m \u001b[39mNone\u001b[39;00m\n\u001b[0;32m    156\u001b[0m \u001b[39mfor\u001b[39;00m heuristic \u001b[39min\u001b[39;00m heuristics:\n\u001b[1;32m--> 157\u001b[0m     sol \u001b[39m=\u001b[39m _ode_lie_group_try_heuristic(Eq(df, s), heuristic, func, match, inf)\n\u001b[0;32m    158\u001b[0m     \u001b[39mif\u001b[39;00m sol:\n\u001b[0;32m    159\u001b[0m         \u001b[39mreturn\u001b[39;00m sol\n",
      "File \u001b[1;32md:\\Program Files\\Python311\\Lib\\site-packages\\sympy\\solvers\\ode\\lie_group.py:78\u001b[0m, in \u001b[0;36m_ode_lie_group_try_heuristic\u001b[1;34m(eq, heuristic, func, match, inf)\u001b[0m\n\u001b[0;32m     76\u001b[0m     \u001b[39mcontinue\u001b[39;00m\n\u001b[0;32m     77\u001b[0m rpde \u001b[39m=\u001b[39m f(x, y)\u001b[39m.\u001b[39mdiff(x)\u001b[39m*\u001b[39mxiinf \u001b[39m+\u001b[39m f(x, y)\u001b[39m.\u001b[39mdiff(y)\u001b[39m*\u001b[39metainf\n\u001b[1;32m---> 78\u001b[0m r \u001b[39m=\u001b[39m pdsolve(rpde, func\u001b[39m=\u001b[39;49mf(x, y))\u001b[39m.\u001b[39mrhs\n\u001b[0;32m     79\u001b[0m s \u001b[39m=\u001b[39m pdsolve(rpde \u001b[39m-\u001b[39m \u001b[39m1\u001b[39m, func\u001b[39m=\u001b[39mf(x, y))\u001b[39m.\u001b[39mrhs\n\u001b[0;32m     80\u001b[0m newcoord \u001b[39m=\u001b[39m [_lie_group_remove(coord) \u001b[39mfor\u001b[39;00m coord \u001b[39min\u001b[39;00m [r, s]]\n",
      "File \u001b[1;32md:\\Program Files\\Python311\\Lib\\site-packages\\sympy\\solvers\\pde.py:194\u001b[0m, in \u001b[0;36mpdsolve\u001b[1;34m(eq, func, hint, dict, solvefun, **kwargs)\u001b[0m\n\u001b[0;32m    191\u001b[0m     \u001b[39mreturn\u001b[39;00m pdedict\n\u001b[0;32m    193\u001b[0m \u001b[39melse\u001b[39;00m:\n\u001b[1;32m--> 194\u001b[0m     \u001b[39mreturn\u001b[39;00m _helper_simplify(eq, hints[\u001b[39m'\u001b[39;49m\u001b[39mhint\u001b[39;49m\u001b[39m'\u001b[39;49m], hints[\u001b[39m'\u001b[39;49m\u001b[39mfunc\u001b[39;49m\u001b[39m'\u001b[39;49m],\n\u001b[0;32m    195\u001b[0m                             hints[\u001b[39m'\u001b[39;49m\u001b[39morder\u001b[39;49m\u001b[39m'\u001b[39;49m], hints[hints[\u001b[39m'\u001b[39;49m\u001b[39mhint\u001b[39;49m\u001b[39m'\u001b[39;49m]], solvefun)\n",
      "File \u001b[1;32md:\\Program Files\\Python311\\Lib\\site-packages\\sympy\\solvers\\pde.py:210\u001b[0m, in \u001b[0;36m_helper_simplify\u001b[1;34m(eq, hint, func, order, match, solvefun)\u001b[0m\n\u001b[0;32m    208\u001b[0m \u001b[39melse\u001b[39;00m:\n\u001b[0;32m    209\u001b[0m     solvefunc \u001b[39m=\u001b[39m \u001b[39mglobals\u001b[39m()[\u001b[39m\"\u001b[39m\u001b[39mpde_\u001b[39m\u001b[39m\"\u001b[39m \u001b[39m+\u001b[39m hint]\n\u001b[1;32m--> 210\u001b[0m \u001b[39mreturn\u001b[39;00m _handle_Integral(solvefunc(eq, func, order,\n\u001b[0;32m    211\u001b[0m     match, solvefun), func, order, hint)\n",
      "File \u001b[1;32md:\\Program Files\\Python311\\Lib\\site-packages\\sympy\\solvers\\pde.py:779\u001b[0m, in \u001b[0;36mpde_1st_linear_variable_coeff\u001b[1;34m(eq, func, order, match, solvefun)\u001b[0m\n\u001b[0;32m    777\u001b[0m dummy \u001b[39m=\u001b[39m Function(\u001b[39m'\u001b[39m\u001b[39md\u001b[39m\u001b[39m'\u001b[39m)\n\u001b[0;32m    778\u001b[0m h \u001b[39m=\u001b[39m (c\u001b[39m/\u001b[39mb)\u001b[39m.\u001b[39msubs(y, dummy(x))\n\u001b[1;32m--> 779\u001b[0m sol \u001b[39m=\u001b[39m dsolve(dummy(x)\u001b[39m.\u001b[39;49mdiff(x) \u001b[39m-\u001b[39;49m h, dummy(x))\n\u001b[0;32m    780\u001b[0m \u001b[39mif\u001b[39;00m \u001b[39misinstance\u001b[39m(sol, \u001b[39mlist\u001b[39m):\n\u001b[0;32m    781\u001b[0m     sol \u001b[39m=\u001b[39m sol[\u001b[39m0\u001b[39m]\n",
      "File \u001b[1;32md:\\Program Files\\Python311\\Lib\\site-packages\\sympy\\solvers\\ode\\ode.py:640\u001b[0m, in \u001b[0;36mdsolve\u001b[1;34m(eq, func, hint, simplify, ics, xi, eta, x0, n, **kwargs)\u001b[0m\n\u001b[0;32m    637\u001b[0m \u001b[39melse\u001b[39;00m:\n\u001b[0;32m    638\u001b[0m     \u001b[39m# The key 'hint' stores the hint needed to be solved for.\u001b[39;00m\n\u001b[0;32m    639\u001b[0m     hint \u001b[39m=\u001b[39m hints[\u001b[39m'\u001b[39m\u001b[39mhint\u001b[39m\u001b[39m'\u001b[39m]\n\u001b[1;32m--> 640\u001b[0m     \u001b[39mreturn\u001b[39;00m _helper_simplify(eq, hint, hints, simplify, ics\u001b[39m=\u001b[39;49mics)\n",
      "File \u001b[1;32md:\\Program Files\\Python311\\Lib\\site-packages\\sympy\\solvers\\ode\\ode.py:669\u001b[0m, in \u001b[0;36m_helper_simplify\u001b[1;34m(eq, hint, match, simplify, ics, **kwargs)\u001b[0m\n\u001b[0;32m    664\u001b[0m \u001b[39mif\u001b[39;00m simplify:\n\u001b[0;32m    665\u001b[0m     \u001b[39m# odesimp() will attempt to integrate, if necessary, apply constantsimp(),\u001b[39;00m\n\u001b[0;32m    666\u001b[0m     \u001b[39m# attempt to solve for func, and apply any other hint specific\u001b[39;00m\n\u001b[0;32m    667\u001b[0m     \u001b[39m# simplifications\u001b[39;00m\n\u001b[0;32m    668\u001b[0m     \u001b[39mif\u001b[39;00m \u001b[39misinstance\u001b[39m(solvefunc, SingleODESolver):\n\u001b[1;32m--> 669\u001b[0m         sols \u001b[39m=\u001b[39m solvefunc\u001b[39m.\u001b[39;49mget_general_solution()\n\u001b[0;32m    670\u001b[0m     \u001b[39melse\u001b[39;00m:\n\u001b[0;32m    671\u001b[0m         sols \u001b[39m=\u001b[39m solvefunc(eq, func, order, match)\n",
      "File \u001b[1;32md:\\Program Files\\Python311\\Lib\\site-packages\\sympy\\solvers\\ode\\single.py:285\u001b[0m, in \u001b[0;36mSingleODESolver.get_general_solution\u001b[1;34m(self, simplify)\u001b[0m\n\u001b[0;32m    283\u001b[0m     msg \u001b[39m=\u001b[39m \u001b[39m\"\u001b[39m\u001b[39m%s\u001b[39;00m\u001b[39m solver cannot solve:\u001b[39m\u001b[39m\\n\u001b[39;00m\u001b[39m%s\u001b[39;00m\u001b[39m\"\u001b[39m\n\u001b[0;32m    284\u001b[0m     \u001b[39mraise\u001b[39;00m ODEMatchError(msg \u001b[39m%\u001b[39m (\u001b[39mself\u001b[39m\u001b[39m.\u001b[39mhint, \u001b[39mself\u001b[39m\u001b[39m.\u001b[39mode_problem\u001b[39m.\u001b[39meq))\n\u001b[1;32m--> 285\u001b[0m \u001b[39mreturn\u001b[39;00m \u001b[39mself\u001b[39;49m\u001b[39m.\u001b[39;49m_get_general_solution(simplify_flag\u001b[39m=\u001b[39;49msimplify)\n",
      "File \u001b[1;32md:\\Program Files\\Python311\\Lib\\site-packages\\sympy\\solvers\\ode\\single.py:899\u001b[0m, in \u001b[0;36mFactorable._get_general_solution\u001b[1;34m(self, simplify_flag)\u001b[0m\n\u001b[0;32m    897\u001b[0m \u001b[39mfor\u001b[39;00m eq \u001b[39min\u001b[39;00m eqns:\n\u001b[0;32m    898\u001b[0m     \u001b[39mtry\u001b[39;00m:\n\u001b[1;32m--> 899\u001b[0m         sol \u001b[39m=\u001b[39m dsolve(eq, func(x))\n\u001b[0;32m    900\u001b[0m     \u001b[39mexcept\u001b[39;00m \u001b[39mNotImplementedError\u001b[39;00m:\n\u001b[0;32m    901\u001b[0m         \u001b[39mcontinue\u001b[39;00m\n",
      "File \u001b[1;32md:\\Program Files\\Python311\\Lib\\site-packages\\sympy\\solvers\\ode\\ode.py:640\u001b[0m, in \u001b[0;36mdsolve\u001b[1;34m(eq, func, hint, simplify, ics, xi, eta, x0, n, **kwargs)\u001b[0m\n\u001b[0;32m    637\u001b[0m \u001b[39melse\u001b[39;00m:\n\u001b[0;32m    638\u001b[0m     \u001b[39m# The key 'hint' stores the hint needed to be solved for.\u001b[39;00m\n\u001b[0;32m    639\u001b[0m     hint \u001b[39m=\u001b[39m hints[\u001b[39m'\u001b[39m\u001b[39mhint\u001b[39m\u001b[39m'\u001b[39m]\n\u001b[1;32m--> 640\u001b[0m     \u001b[39mreturn\u001b[39;00m _helper_simplify(eq, hint, hints, simplify, ics\u001b[39m=\u001b[39;49mics)\n",
      "File \u001b[1;32md:\\Program Files\\Python311\\Lib\\site-packages\\sympy\\solvers\\ode\\ode.py:669\u001b[0m, in \u001b[0;36m_helper_simplify\u001b[1;34m(eq, hint, match, simplify, ics, **kwargs)\u001b[0m\n\u001b[0;32m    664\u001b[0m \u001b[39mif\u001b[39;00m simplify:\n\u001b[0;32m    665\u001b[0m     \u001b[39m# odesimp() will attempt to integrate, if necessary, apply constantsimp(),\u001b[39;00m\n\u001b[0;32m    666\u001b[0m     \u001b[39m# attempt to solve for func, and apply any other hint specific\u001b[39;00m\n\u001b[0;32m    667\u001b[0m     \u001b[39m# simplifications\u001b[39;00m\n\u001b[0;32m    668\u001b[0m     \u001b[39mif\u001b[39;00m \u001b[39misinstance\u001b[39m(solvefunc, SingleODESolver):\n\u001b[1;32m--> 669\u001b[0m         sols \u001b[39m=\u001b[39m solvefunc\u001b[39m.\u001b[39;49mget_general_solution()\n\u001b[0;32m    670\u001b[0m     \u001b[39melse\u001b[39;00m:\n\u001b[0;32m    671\u001b[0m         sols \u001b[39m=\u001b[39m solvefunc(eq, func, order, match)\n",
      "File \u001b[1;32md:\\Program Files\\Python311\\Lib\\site-packages\\sympy\\solvers\\ode\\single.py:285\u001b[0m, in \u001b[0;36mSingleODESolver.get_general_solution\u001b[1;34m(self, simplify)\u001b[0m\n\u001b[0;32m    283\u001b[0m     msg \u001b[39m=\u001b[39m \u001b[39m\"\u001b[39m\u001b[39m%s\u001b[39;00m\u001b[39m solver cannot solve:\u001b[39m\u001b[39m\\n\u001b[39;00m\u001b[39m%s\u001b[39;00m\u001b[39m\"\u001b[39m\n\u001b[0;32m    284\u001b[0m     \u001b[39mraise\u001b[39;00m ODEMatchError(msg \u001b[39m%\u001b[39m (\u001b[39mself\u001b[39m\u001b[39m.\u001b[39mhint, \u001b[39mself\u001b[39m\u001b[39m.\u001b[39mode_problem\u001b[39m.\u001b[39meq))\n\u001b[1;32m--> 285\u001b[0m \u001b[39mreturn\u001b[39;00m \u001b[39mself\u001b[39;49m\u001b[39m.\u001b[39;49m_get_general_solution(simplify_flag\u001b[39m=\u001b[39;49msimplify)\n",
      "File \u001b[1;32md:\\Program Files\\Python311\\Lib\\site-packages\\sympy\\solvers\\ode\\single.py:2940\u001b[0m, in \u001b[0;36mLieGroup._get_general_solution\u001b[1;34m(self, simplify_flag)\u001b[0m\n\u001b[0;32m   2938\u001b[0m desols \u001b[39m=\u001b[39m []\n\u001b[0;32m   2939\u001b[0m \u001b[39mfor\u001b[39;00m s \u001b[39min\u001b[39;00m eqsol:\n\u001b[1;32m-> 2940\u001b[0m     sol \u001b[39m=\u001b[39m _ode_lie_group(s, func, order, match\u001b[39m=\u001b[39;49m\u001b[39mself\u001b[39;49m\u001b[39m.\u001b[39;49mr3)\n\u001b[0;32m   2941\u001b[0m     \u001b[39mif\u001b[39;00m sol:\n\u001b[0;32m   2942\u001b[0m         desols\u001b[39m.\u001b[39mextend(sol)\n",
      "File \u001b[1;32md:\\Program Files\\Python311\\Lib\\site-packages\\sympy\\solvers\\ode\\lie_group.py:157\u001b[0m, in \u001b[0;36m_ode_lie_group\u001b[1;34m(s, func, order, match)\u001b[0m\n\u001b[0;32m    155\u001b[0m sol \u001b[39m=\u001b[39m \u001b[39mNone\u001b[39;00m\n\u001b[0;32m    156\u001b[0m \u001b[39mfor\u001b[39;00m heuristic \u001b[39min\u001b[39;00m heuristics:\n\u001b[1;32m--> 157\u001b[0m     sol \u001b[39m=\u001b[39m _ode_lie_group_try_heuristic(Eq(df, s), heuristic, func, match, inf)\n\u001b[0;32m    158\u001b[0m     \u001b[39mif\u001b[39;00m sol:\n\u001b[0;32m    159\u001b[0m         \u001b[39mreturn\u001b[39;00m sol\n",
      "File \u001b[1;32md:\\Program Files\\Python311\\Lib\\site-packages\\sympy\\solvers\\ode\\lie_group.py:78\u001b[0m, in \u001b[0;36m_ode_lie_group_try_heuristic\u001b[1;34m(eq, heuristic, func, match, inf)\u001b[0m\n\u001b[0;32m     76\u001b[0m     \u001b[39mcontinue\u001b[39;00m\n\u001b[0;32m     77\u001b[0m rpde \u001b[39m=\u001b[39m f(x, y)\u001b[39m.\u001b[39mdiff(x)\u001b[39m*\u001b[39mxiinf \u001b[39m+\u001b[39m f(x, y)\u001b[39m.\u001b[39mdiff(y)\u001b[39m*\u001b[39metainf\n\u001b[1;32m---> 78\u001b[0m r \u001b[39m=\u001b[39m pdsolve(rpde, func\u001b[39m=\u001b[39;49mf(x, y))\u001b[39m.\u001b[39mrhs\n\u001b[0;32m     79\u001b[0m s \u001b[39m=\u001b[39m pdsolve(rpde \u001b[39m-\u001b[39m \u001b[39m1\u001b[39m, func\u001b[39m=\u001b[39mf(x, y))\u001b[39m.\u001b[39mrhs\n\u001b[0;32m     80\u001b[0m newcoord \u001b[39m=\u001b[39m [_lie_group_remove(coord) \u001b[39mfor\u001b[39;00m coord \u001b[39min\u001b[39;00m [r, s]]\n",
      "File \u001b[1;32md:\\Program Files\\Python311\\Lib\\site-packages\\sympy\\solvers\\pde.py:194\u001b[0m, in \u001b[0;36mpdsolve\u001b[1;34m(eq, func, hint, dict, solvefun, **kwargs)\u001b[0m\n\u001b[0;32m    191\u001b[0m     \u001b[39mreturn\u001b[39;00m pdedict\n\u001b[0;32m    193\u001b[0m \u001b[39melse\u001b[39;00m:\n\u001b[1;32m--> 194\u001b[0m     \u001b[39mreturn\u001b[39;00m _helper_simplify(eq, hints[\u001b[39m'\u001b[39;49m\u001b[39mhint\u001b[39;49m\u001b[39m'\u001b[39;49m], hints[\u001b[39m'\u001b[39;49m\u001b[39mfunc\u001b[39;49m\u001b[39m'\u001b[39;49m],\n\u001b[0;32m    195\u001b[0m                             hints[\u001b[39m'\u001b[39;49m\u001b[39morder\u001b[39;49m\u001b[39m'\u001b[39;49m], hints[hints[\u001b[39m'\u001b[39;49m\u001b[39mhint\u001b[39;49m\u001b[39m'\u001b[39;49m]], solvefun)\n",
      "File \u001b[1;32md:\\Program Files\\Python311\\Lib\\site-packages\\sympy\\solvers\\pde.py:210\u001b[0m, in \u001b[0;36m_helper_simplify\u001b[1;34m(eq, hint, func, order, match, solvefun)\u001b[0m\n\u001b[0;32m    208\u001b[0m \u001b[39melse\u001b[39;00m:\n\u001b[0;32m    209\u001b[0m     solvefunc \u001b[39m=\u001b[39m \u001b[39mglobals\u001b[39m()[\u001b[39m\"\u001b[39m\u001b[39mpde_\u001b[39m\u001b[39m\"\u001b[39m \u001b[39m+\u001b[39m hint]\n\u001b[1;32m--> 210\u001b[0m \u001b[39mreturn\u001b[39;00m _handle_Integral(solvefunc(eq, func, order,\n\u001b[0;32m    211\u001b[0m     match, solvefun), func, order, hint)\n",
      "File \u001b[1;32md:\\Program Files\\Python311\\Lib\\site-packages\\sympy\\solvers\\pde.py:779\u001b[0m, in \u001b[0;36mpde_1st_linear_variable_coeff\u001b[1;34m(eq, func, order, match, solvefun)\u001b[0m\n\u001b[0;32m    777\u001b[0m dummy \u001b[39m=\u001b[39m Function(\u001b[39m'\u001b[39m\u001b[39md\u001b[39m\u001b[39m'\u001b[39m)\n\u001b[0;32m    778\u001b[0m h \u001b[39m=\u001b[39m (c\u001b[39m/\u001b[39mb)\u001b[39m.\u001b[39msubs(y, dummy(x))\n\u001b[1;32m--> 779\u001b[0m sol \u001b[39m=\u001b[39m dsolve(dummy(x)\u001b[39m.\u001b[39;49mdiff(x) \u001b[39m-\u001b[39;49m h, dummy(x))\n\u001b[0;32m    780\u001b[0m \u001b[39mif\u001b[39;00m \u001b[39misinstance\u001b[39m(sol, \u001b[39mlist\u001b[39m):\n\u001b[0;32m    781\u001b[0m     sol \u001b[39m=\u001b[39m sol[\u001b[39m0\u001b[39m]\n",
      "File \u001b[1;32md:\\Program Files\\Python311\\Lib\\site-packages\\sympy\\solvers\\ode\\ode.py:640\u001b[0m, in \u001b[0;36mdsolve\u001b[1;34m(eq, func, hint, simplify, ics, xi, eta, x0, n, **kwargs)\u001b[0m\n\u001b[0;32m    637\u001b[0m \u001b[39melse\u001b[39;00m:\n\u001b[0;32m    638\u001b[0m     \u001b[39m# The key 'hint' stores the hint needed to be solved for.\u001b[39;00m\n\u001b[0;32m    639\u001b[0m     hint \u001b[39m=\u001b[39m hints[\u001b[39m'\u001b[39m\u001b[39mhint\u001b[39m\u001b[39m'\u001b[39m]\n\u001b[1;32m--> 640\u001b[0m     \u001b[39mreturn\u001b[39;00m _helper_simplify(eq, hint, hints, simplify, ics\u001b[39m=\u001b[39;49mics)\n",
      "File \u001b[1;32md:\\Program Files\\Python311\\Lib\\site-packages\\sympy\\solvers\\ode\\ode.py:669\u001b[0m, in \u001b[0;36m_helper_simplify\u001b[1;34m(eq, hint, match, simplify, ics, **kwargs)\u001b[0m\n\u001b[0;32m    664\u001b[0m \u001b[39mif\u001b[39;00m simplify:\n\u001b[0;32m    665\u001b[0m     \u001b[39m# odesimp() will attempt to integrate, if necessary, apply constantsimp(),\u001b[39;00m\n\u001b[0;32m    666\u001b[0m     \u001b[39m# attempt to solve for func, and apply any other hint specific\u001b[39;00m\n\u001b[0;32m    667\u001b[0m     \u001b[39m# simplifications\u001b[39;00m\n\u001b[0;32m    668\u001b[0m     \u001b[39mif\u001b[39;00m \u001b[39misinstance\u001b[39m(solvefunc, SingleODESolver):\n\u001b[1;32m--> 669\u001b[0m         sols \u001b[39m=\u001b[39m solvefunc\u001b[39m.\u001b[39;49mget_general_solution()\n\u001b[0;32m    670\u001b[0m     \u001b[39melse\u001b[39;00m:\n\u001b[0;32m    671\u001b[0m         sols \u001b[39m=\u001b[39m solvefunc(eq, func, order, match)\n",
      "File \u001b[1;32md:\\Program Files\\Python311\\Lib\\site-packages\\sympy\\solvers\\ode\\single.py:285\u001b[0m, in \u001b[0;36mSingleODESolver.get_general_solution\u001b[1;34m(self, simplify)\u001b[0m\n\u001b[0;32m    283\u001b[0m     msg \u001b[39m=\u001b[39m \u001b[39m\"\u001b[39m\u001b[39m%s\u001b[39;00m\u001b[39m solver cannot solve:\u001b[39m\u001b[39m\\n\u001b[39;00m\u001b[39m%s\u001b[39;00m\u001b[39m\"\u001b[39m\n\u001b[0;32m    284\u001b[0m     \u001b[39mraise\u001b[39;00m ODEMatchError(msg \u001b[39m%\u001b[39m (\u001b[39mself\u001b[39m\u001b[39m.\u001b[39mhint, \u001b[39mself\u001b[39m\u001b[39m.\u001b[39mode_problem\u001b[39m.\u001b[39meq))\n\u001b[1;32m--> 285\u001b[0m \u001b[39mreturn\u001b[39;00m \u001b[39mself\u001b[39;49m\u001b[39m.\u001b[39;49m_get_general_solution(simplify_flag\u001b[39m=\u001b[39;49msimplify)\n",
      "File \u001b[1;32md:\\Program Files\\Python311\\Lib\\site-packages\\sympy\\solvers\\ode\\single.py:899\u001b[0m, in \u001b[0;36mFactorable._get_general_solution\u001b[1;34m(self, simplify_flag)\u001b[0m\n\u001b[0;32m    897\u001b[0m \u001b[39mfor\u001b[39;00m eq \u001b[39min\u001b[39;00m eqns:\n\u001b[0;32m    898\u001b[0m     \u001b[39mtry\u001b[39;00m:\n\u001b[1;32m--> 899\u001b[0m         sol \u001b[39m=\u001b[39m dsolve(eq, func(x))\n\u001b[0;32m    900\u001b[0m     \u001b[39mexcept\u001b[39;00m \u001b[39mNotImplementedError\u001b[39;00m:\n\u001b[0;32m    901\u001b[0m         \u001b[39mcontinue\u001b[39;00m\n",
      "File \u001b[1;32md:\\Program Files\\Python311\\Lib\\site-packages\\sympy\\solvers\\ode\\ode.py:640\u001b[0m, in \u001b[0;36mdsolve\u001b[1;34m(eq, func, hint, simplify, ics, xi, eta, x0, n, **kwargs)\u001b[0m\n\u001b[0;32m    637\u001b[0m \u001b[39melse\u001b[39;00m:\n\u001b[0;32m    638\u001b[0m     \u001b[39m# The key 'hint' stores the hint needed to be solved for.\u001b[39;00m\n\u001b[0;32m    639\u001b[0m     hint \u001b[39m=\u001b[39m hints[\u001b[39m'\u001b[39m\u001b[39mhint\u001b[39m\u001b[39m'\u001b[39m]\n\u001b[1;32m--> 640\u001b[0m     \u001b[39mreturn\u001b[39;00m _helper_simplify(eq, hint, hints, simplify, ics\u001b[39m=\u001b[39;49mics)\n",
      "File \u001b[1;32md:\\Program Files\\Python311\\Lib\\site-packages\\sympy\\solvers\\ode\\ode.py:669\u001b[0m, in \u001b[0;36m_helper_simplify\u001b[1;34m(eq, hint, match, simplify, ics, **kwargs)\u001b[0m\n\u001b[0;32m    664\u001b[0m \u001b[39mif\u001b[39;00m simplify:\n\u001b[0;32m    665\u001b[0m     \u001b[39m# odesimp() will attempt to integrate, if necessary, apply constantsimp(),\u001b[39;00m\n\u001b[0;32m    666\u001b[0m     \u001b[39m# attempt to solve for func, and apply any other hint specific\u001b[39;00m\n\u001b[0;32m    667\u001b[0m     \u001b[39m# simplifications\u001b[39;00m\n\u001b[0;32m    668\u001b[0m     \u001b[39mif\u001b[39;00m \u001b[39misinstance\u001b[39m(solvefunc, SingleODESolver):\n\u001b[1;32m--> 669\u001b[0m         sols \u001b[39m=\u001b[39m solvefunc\u001b[39m.\u001b[39;49mget_general_solution()\n\u001b[0;32m    670\u001b[0m     \u001b[39melse\u001b[39;00m:\n\u001b[0;32m    671\u001b[0m         sols \u001b[39m=\u001b[39m solvefunc(eq, func, order, match)\n",
      "File \u001b[1;32md:\\Program Files\\Python311\\Lib\\site-packages\\sympy\\solvers\\ode\\single.py:285\u001b[0m, in \u001b[0;36mSingleODESolver.get_general_solution\u001b[1;34m(self, simplify)\u001b[0m\n\u001b[0;32m    283\u001b[0m     msg \u001b[39m=\u001b[39m \u001b[39m\"\u001b[39m\u001b[39m%s\u001b[39;00m\u001b[39m solver cannot solve:\u001b[39m\u001b[39m\\n\u001b[39;00m\u001b[39m%s\u001b[39;00m\u001b[39m\"\u001b[39m\n\u001b[0;32m    284\u001b[0m     \u001b[39mraise\u001b[39;00m ODEMatchError(msg \u001b[39m%\u001b[39m (\u001b[39mself\u001b[39m\u001b[39m.\u001b[39mhint, \u001b[39mself\u001b[39m\u001b[39m.\u001b[39mode_problem\u001b[39m.\u001b[39meq))\n\u001b[1;32m--> 285\u001b[0m \u001b[39mreturn\u001b[39;00m \u001b[39mself\u001b[39;49m\u001b[39m.\u001b[39;49m_get_general_solution(simplify_flag\u001b[39m=\u001b[39;49msimplify)\n",
      "File \u001b[1;32md:\\Program Files\\Python311\\Lib\\site-packages\\sympy\\solvers\\ode\\single.py:2940\u001b[0m, in \u001b[0;36mLieGroup._get_general_solution\u001b[1;34m(self, simplify_flag)\u001b[0m\n\u001b[0;32m   2938\u001b[0m desols \u001b[39m=\u001b[39m []\n\u001b[0;32m   2939\u001b[0m \u001b[39mfor\u001b[39;00m s \u001b[39min\u001b[39;00m eqsol:\n\u001b[1;32m-> 2940\u001b[0m     sol \u001b[39m=\u001b[39m _ode_lie_group(s, func, order, match\u001b[39m=\u001b[39;49m\u001b[39mself\u001b[39;49m\u001b[39m.\u001b[39;49mr3)\n\u001b[0;32m   2941\u001b[0m     \u001b[39mif\u001b[39;00m sol:\n\u001b[0;32m   2942\u001b[0m         desols\u001b[39m.\u001b[39mextend(sol)\n",
      "File \u001b[1;32md:\\Program Files\\Python311\\Lib\\site-packages\\sympy\\solvers\\ode\\lie_group.py:157\u001b[0m, in \u001b[0;36m_ode_lie_group\u001b[1;34m(s, func, order, match)\u001b[0m\n\u001b[0;32m    155\u001b[0m sol \u001b[39m=\u001b[39m \u001b[39mNone\u001b[39;00m\n\u001b[0;32m    156\u001b[0m \u001b[39mfor\u001b[39;00m heuristic \u001b[39min\u001b[39;00m heuristics:\n\u001b[1;32m--> 157\u001b[0m     sol \u001b[39m=\u001b[39m _ode_lie_group_try_heuristic(Eq(df, s), heuristic, func, match, inf)\n\u001b[0;32m    158\u001b[0m     \u001b[39mif\u001b[39;00m sol:\n\u001b[0;32m    159\u001b[0m         \u001b[39mreturn\u001b[39;00m sol\n",
      "File \u001b[1;32md:\\Program Files\\Python311\\Lib\\site-packages\\sympy\\solvers\\ode\\lie_group.py:65\u001b[0m, in \u001b[0;36m_ode_lie_group_try_heuristic\u001b[1;34m(eq, heuristic, func, match, inf)\u001b[0m\n\u001b[0;32m     63\u001b[0m \u001b[39mif\u001b[39;00m \u001b[39mnot\u001b[39;00m inf:\n\u001b[0;32m     64\u001b[0m     \u001b[39mtry\u001b[39;00m:\n\u001b[1;32m---> 65\u001b[0m         inf \u001b[39m=\u001b[39m infinitesimals(eq, hint\u001b[39m=\u001b[39;49mheuristic, func\u001b[39m=\u001b[39;49mfunc, order\u001b[39m=\u001b[39;49m\u001b[39m1\u001b[39;49m, match\u001b[39m=\u001b[39;49mmatch)\n\u001b[0;32m     66\u001b[0m     \u001b[39mexcept\u001b[39;00m \u001b[39mValueError\u001b[39;00m:\n\u001b[0;32m     67\u001b[0m         \u001b[39mreturn\u001b[39;00m \u001b[39mNone\u001b[39;00m\n",
      "File \u001b[1;32md:\\Program Files\\Python311\\Lib\\site-packages\\sympy\\solvers\\ode\\lie_group.py:299\u001b[0m, in \u001b[0;36minfinitesimals\u001b[1;34m(eq, func, order, hint, match)\u001b[0m\n\u001b[0;32m    297\u001b[0m \u001b[39melse\u001b[39;00m:\n\u001b[0;32m    298\u001b[0m      function \u001b[39m=\u001b[39m \u001b[39mglobals\u001b[39m()[\u001b[39m'\u001b[39m\u001b[39mlie_heuristic_\u001b[39m\u001b[39m'\u001b[39m \u001b[39m+\u001b[39m hint]\n\u001b[1;32m--> 299\u001b[0m      xieta \u001b[39m=\u001b[39m function(match, comp\u001b[39m=\u001b[39;49m\u001b[39mTrue\u001b[39;49;00m)\n\u001b[0;32m    300\u001b[0m      \u001b[39mif\u001b[39;00m xieta:\n\u001b[0;32m    301\u001b[0m          \u001b[39mreturn\u001b[39;00m xieta\n",
      "File \u001b[1;32md:\\Program Files\\Python311\\Lib\\site-packages\\sympy\\solvers\\ode\\lie_group.py:956\u001b[0m, in \u001b[0;36mlie_heuristic_abaco2_unique_general\u001b[1;34m(match, comp)\u001b[0m\n\u001b[0;32m    953\u001b[0m                             \u001b[39mreturn\u001b[39;00m [{xi: xival, eta: etaval\u001b[39m.\u001b[39msubs(y, func)}]\n\u001b[0;32m    955\u001b[0m \u001b[39melse\u001b[39;00m:\n\u001b[1;32m--> 956\u001b[0m     E1 \u001b[39m=\u001b[39m simplify((\u001b[39m2\u001b[39;49m\u001b[39m*\u001b[39;49mAyy \u001b[39m+\u001b[39;49m (\u001b[39m2\u001b[39;49m\u001b[39m*\u001b[39;49mB \u001b[39m-\u001b[39;49m hy\u001b[39m*\u001b[39;49m\u001b[39m*\u001b[39;49m\u001b[39m2\u001b[39;49m)\u001b[39m*\u001b[39;49mA)\u001b[39m*\u001b[39;49mA \u001b[39m-\u001b[39;49m \u001b[39m3\u001b[39;49m\u001b[39m*\u001b[39;49mAy\u001b[39m*\u001b[39;49m\u001b[39m*\u001b[39;49m\u001b[39m2\u001b[39;49m)\n\u001b[0;32m    957\u001b[0m     \u001b[39mif\u001b[39;00m E1:\n\u001b[0;32m    958\u001b[0m         E2 \u001b[39m=\u001b[39m simplify(\n\u001b[0;32m    959\u001b[0m             \u001b[39m4\u001b[39m\u001b[39m*\u001b[39mA\u001b[39m*\u001b[39m\u001b[39m*\u001b[39m\u001b[39m3\u001b[39m\u001b[39m*\u001b[39mD \u001b[39m-\u001b[39m D\u001b[39m*\u001b[39m\u001b[39m*\u001b[39m\u001b[39m2\u001b[39m \u001b[39m+\u001b[39m E1\u001b[39m*\u001b[39m((\u001b[39m2\u001b[39m\u001b[39m*\u001b[39mAxx \u001b[39m-\u001b[39m (hx\u001b[39m*\u001b[39m\u001b[39m*\u001b[39m\u001b[39m2\u001b[39m \u001b[39m+\u001b[39m \u001b[39m2\u001b[39m\u001b[39m*\u001b[39mC)\u001b[39m*\u001b[39mA)\u001b[39m*\u001b[39mA \u001b[39m-\u001b[39m \u001b[39m3\u001b[39m\u001b[39m*\u001b[39mAx\u001b[39m*\u001b[39m\u001b[39m*\u001b[39m\u001b[39m2\u001b[39m))\n",
      "File \u001b[1;32md:\\Program Files\\Python311\\Lib\\site-packages\\sympy\\simplify\\simplify.py:644\u001b[0m, in \u001b[0;36msimplify\u001b[1;34m(expr, ratio, measure, rational, inverse, doit, **kwargs)\u001b[0m\n\u001b[0;32m    642\u001b[0m expr \u001b[39m=\u001b[39m _bottom_up(expr, \u001b[39mlambda\u001b[39;00m w: \u001b[39mgetattr\u001b[39m(w, \u001b[39m'\u001b[39m\u001b[39mnormal\u001b[39m\u001b[39m'\u001b[39m, \u001b[39mlambda\u001b[39;00m: w)())\n\u001b[0;32m    643\u001b[0m expr \u001b[39m=\u001b[39m Mul(\u001b[39m*\u001b[39mpowsimp(expr)\u001b[39m.\u001b[39mas_content_primitive())\n\u001b[1;32m--> 644\u001b[0m _e \u001b[39m=\u001b[39m cancel(expr)\n\u001b[0;32m    645\u001b[0m expr1 \u001b[39m=\u001b[39m shorter(_e, _mexpand(_e)\u001b[39m.\u001b[39mcancel())  \u001b[39m# issue 6829\u001b[39;00m\n\u001b[0;32m    646\u001b[0m expr2 \u001b[39m=\u001b[39m shorter(together(expr, deep\u001b[39m=\u001b[39m\u001b[39mTrue\u001b[39;00m), together(expr1, deep\u001b[39m=\u001b[39m\u001b[39mTrue\u001b[39;00m))\n",
      "File \u001b[1;32md:\\Program Files\\Python311\\Lib\\site-packages\\sympy\\polys\\polytools.py:6764\u001b[0m, in \u001b[0;36mcancel\u001b[1;34m(f, _signsimp, *gens, **args)\u001b[0m\n\u001b[0;32m   6762\u001b[0m \u001b[39mfrom\u001b[39;00m \u001b[39msympy\u001b[39;00m\u001b[39m.\u001b[39;00m\u001b[39mfunctions\u001b[39;00m\u001b[39m.\u001b[39;00m\u001b[39melementary\u001b[39;00m\u001b[39m.\u001b[39;00m\u001b[39mpiecewise\u001b[39;00m \u001b[39mimport\u001b[39;00m Piecewise\n\u001b[0;32m   6763\u001b[0m \u001b[39mtry\u001b[39;00m:\n\u001b[1;32m-> 6764\u001b[0m     \u001b[39mif\u001b[39;00m f\u001b[39m.\u001b[39;49mhas(Piecewise):\n\u001b[0;32m   6765\u001b[0m         \u001b[39mraise\u001b[39;00m PolynomialError()\n\u001b[0;32m   6766\u001b[0m     R, (F, G) \u001b[39m=\u001b[39m sring((p, q), \u001b[39m*\u001b[39mgens, \u001b[39m*\u001b[39m\u001b[39m*\u001b[39margs)\n",
      "File \u001b[1;32md:\\Program Files\\Python311\\Lib\\site-packages\\sympy\\core\\cache.py:70\u001b[0m, in \u001b[0;36m__cacheit.<locals>.func_wrapper.<locals>.wrapper\u001b[1;34m(*args, **kwargs)\u001b[0m\n\u001b[0;32m     67\u001b[0m \u001b[39m@wraps\u001b[39m(func)\n\u001b[0;32m     68\u001b[0m \u001b[39mdef\u001b[39;00m \u001b[39mwrapper\u001b[39m(\u001b[39m*\u001b[39margs, \u001b[39m*\u001b[39m\u001b[39m*\u001b[39mkwargs):\n\u001b[0;32m     69\u001b[0m     \u001b[39mtry\u001b[39;00m:\n\u001b[1;32m---> 70\u001b[0m         retval \u001b[39m=\u001b[39m cfunc(\u001b[39m*\u001b[39;49margs, \u001b[39m*\u001b[39;49m\u001b[39m*\u001b[39;49mkwargs)\n\u001b[0;32m     71\u001b[0m     \u001b[39mexcept\u001b[39;00m \u001b[39mTypeError\u001b[39;00m \u001b[39mas\u001b[39;00m e:\n\u001b[0;32m     72\u001b[0m         \u001b[39mif\u001b[39;00m \u001b[39mnot\u001b[39;00m e\u001b[39m.\u001b[39margs \u001b[39mor\u001b[39;00m \u001b[39mnot\u001b[39;00m e\u001b[39m.\u001b[39margs[\u001b[39m0\u001b[39m]\u001b[39m.\u001b[39mstartswith(\u001b[39m'\u001b[39m\u001b[39munhashable type:\u001b[39m\u001b[39m'\u001b[39m):\n",
      "File \u001b[1;32md:\\Program Files\\Python311\\Lib\\site-packages\\sympy\\core\\basic.py:1259\u001b[0m, in \u001b[0;36mBasic.has\u001b[1;34m(self, *patterns)\u001b[0m\n\u001b[0;32m   1212\u001b[0m \u001b[39m@cacheit\u001b[39m\n\u001b[0;32m   1213\u001b[0m \u001b[39mdef\u001b[39;00m \u001b[39mhas\u001b[39m(\u001b[39mself\u001b[39m, \u001b[39m*\u001b[39mpatterns):\n\u001b[0;32m   1214\u001b[0m \u001b[39m    \u001b[39m\u001b[39m\"\"\"\u001b[39;00m\n\u001b[0;32m   1215\u001b[0m \u001b[39m    Test whether any subexpression matches any of the patterns.\u001b[39;00m\n\u001b[0;32m   1216\u001b[0m \n\u001b[1;32m   (...)\u001b[0m\n\u001b[0;32m   1257\u001b[0m \n\u001b[0;32m   1258\u001b[0m \u001b[39m    \"\"\"\u001b[39;00m\n\u001b[1;32m-> 1259\u001b[0m     \u001b[39mreturn\u001b[39;00m \u001b[39mself\u001b[39;49m\u001b[39m.\u001b[39;49m_has(iterargs, \u001b[39m*\u001b[39;49mpatterns)\n",
      "File \u001b[1;32md:\\Program Files\\Python311\\Lib\\site-packages\\sympy\\core\\basic.py:1310\u001b[0m, in \u001b[0;36mBasic._has\u001b[1;34m(self, iterargs, *patterns)\u001b[0m\n\u001b[0;32m   1308\u001b[0m     \u001b[39mif\u001b[39;00m i \u001b[39min\u001b[39;00m p_set:        \u001b[39m# <--- here, too\u001b[39;00m\n\u001b[0;32m   1309\u001b[0m         \u001b[39mreturn\u001b[39;00m \u001b[39mTrue\u001b[39;00m\n\u001b[1;32m-> 1310\u001b[0m     \u001b[39mif\u001b[39;00m \u001b[39misinstance\u001b[39m(i, types):\n\u001b[0;32m   1311\u001b[0m         \u001b[39mreturn\u001b[39;00m \u001b[39mTrue\u001b[39;00m\n\u001b[0;32m   1313\u001b[0m \u001b[39m# use matcher if defined, e.g. operations defines\u001b[39;00m\n\u001b[0;32m   1314\u001b[0m \u001b[39m# matcher that checks for exact subset containment,\u001b[39;00m\n\u001b[0;32m   1315\u001b[0m \u001b[39m# (x + y + 1).has(x + 1) -> True\u001b[39;00m\n",
      "\u001b[1;31mKeyboardInterrupt\u001b[0m: "
     ]
    }
   ],
   "source": [
    "dsolve(DE, y, simplify=False)\n"
   ]
  },
  {
   "cell_type": "code",
   "execution_count": 22,
   "metadata": {},
   "outputs": [
    {
     "data": {
      "text/latex": [
       "$\\displaystyle \\frac{d}{d x} y{\\left(x \\right)} = \\frac{1 - 2 y{\\left(x \\right)}}{2 x - y{\\left(x \\right)} + 2}$"
      ],
      "text/plain": [
       "Eq(Derivative(y(x), x), (1 - 2*y(x))/(2*x - y(x) + 2))"
      ]
     },
     "execution_count": 22,
     "metadata": {},
     "output_type": "execute_result"
    }
   ],
   "source": [
    "# Example 5.8\n",
    "DE = Eq(y.diff(), -(2 * y - 1) / (2 * x - y + 2))\n",
    "DE\n"
   ]
  },
  {
   "cell_type": "code",
   "execution_count": 23,
   "metadata": {},
   "outputs": [
    {
     "data": {
      "text/latex": [
       "$\\displaystyle \\log{\\left(y{\\left(x \\right)} - \\frac{1}{2} \\right)} = \\log{\\left(C_{1} \\right)} - \\frac{\\log{\\left(\\frac{4 \\left(x + \\frac{3}{4}\\right)}{y{\\left(x \\right)} - \\frac{1}{2}} - 1 \\right)}}{2}$"
      ],
      "text/plain": [
       "Eq(log(y(x) - 1/2), log(C1) - log(4*(x + 3/4)/(y(x) - 1/2) - 1)/2)"
      ]
     },
     "execution_count": 23,
     "metadata": {},
     "output_type": "execute_result"
    }
   ],
   "source": [
    "dsolve(DE, y, simplify=False)\n"
   ]
  },
  {
   "cell_type": "code",
   "execution_count": 24,
   "metadata": {},
   "outputs": [
    {
     "data": {
      "text/latex": [
       "$\\displaystyle 2 x^{2} y{\\left(x \\right)} + \\left(2 x^{3} - x y{\\left(x \\right)}\\right) \\frac{d}{d x} y{\\left(x \\right)} + y^{2}{\\left(x \\right)} = 0$"
      ],
      "text/plain": [
       "Eq(2*x**2*y(x) + (2*x**3 - x*y(x))*Derivative(y(x), x) + y(x)**2, 0)"
      ]
     },
     "execution_count": 24,
     "metadata": {},
     "output_type": "execute_result"
    }
   ],
   "source": [
    "DE = Eq(2 * x**2 * y + y**2 + (2 * x**3 - x * y) * y.diff(), 0)\n",
    "DE\n"
   ]
  },
  {
   "cell_type": "code",
   "execution_count": 25,
   "metadata": {},
   "outputs": [
    {
     "ename": "NotImplementedError",
     "evalue": "The given ODE Derivative(y(x), x) - (-2*x**2 - y(x))*y(x)/(x*(2*x**2 - y(x))) cannot be solved by the factorable group method",
     "output_type": "error",
     "traceback": [
      "\u001b[1;31m---------------------------------------------------------------------------\u001b[0m",
      "\u001b[1;31mNotImplementedError\u001b[0m                       Traceback (most recent call last)",
      "Cell \u001b[1;32mIn[25], line 1\u001b[0m\n\u001b[1;32m----> 1\u001b[0m dsolve(DE, y, simplify\u001b[39m=\u001b[39;49m\u001b[39mFalse\u001b[39;49;00m)\n",
      "File \u001b[1;32md:\\Program Files\\Python311\\Lib\\site-packages\\sympy\\solvers\\ode\\ode.py:640\u001b[0m, in \u001b[0;36mdsolve\u001b[1;34m(eq, func, hint, simplify, ics, xi, eta, x0, n, **kwargs)\u001b[0m\n\u001b[0;32m    637\u001b[0m \u001b[39melse\u001b[39;00m:\n\u001b[0;32m    638\u001b[0m     \u001b[39m# The key 'hint' stores the hint needed to be solved for.\u001b[39;00m\n\u001b[0;32m    639\u001b[0m     hint \u001b[39m=\u001b[39m hints[\u001b[39m'\u001b[39m\u001b[39mhint\u001b[39m\u001b[39m'\u001b[39m]\n\u001b[1;32m--> 640\u001b[0m     \u001b[39mreturn\u001b[39;00m _helper_simplify(eq, hint, hints, simplify, ics\u001b[39m=\u001b[39;49mics)\n",
      "File \u001b[1;32md:\\Program Files\\Python311\\Lib\\site-packages\\sympy\\solvers\\ode\\ode.py:679\u001b[0m, in \u001b[0;36m_helper_simplify\u001b[1;34m(eq, hint, match, simplify, ics, **kwargs)\u001b[0m\n\u001b[0;32m    676\u001b[0m \u001b[39melse\u001b[39;00m:\n\u001b[0;32m    677\u001b[0m     \u001b[39m# We still want to integrate (you can disable it separately with the hint)\u001b[39;00m\n\u001b[0;32m    678\u001b[0m     \u001b[39mif\u001b[39;00m \u001b[39misinstance\u001b[39m(solvefunc, SingleODESolver):\n\u001b[1;32m--> 679\u001b[0m         exprs \u001b[39m=\u001b[39m solvefunc\u001b[39m.\u001b[39;49mget_general_solution(simplify\u001b[39m=\u001b[39;49m\u001b[39mFalse\u001b[39;49;00m)\n\u001b[0;32m    680\u001b[0m     \u001b[39melse\u001b[39;00m:\n\u001b[0;32m    681\u001b[0m         \u001b[39mmatch\u001b[39;00m[\u001b[39m'\u001b[39m\u001b[39msimplify\u001b[39m\u001b[39m'\u001b[39m] \u001b[39m=\u001b[39m \u001b[39mFalse\u001b[39;00m  \u001b[39m# Some hints can take advantage of this option\u001b[39;00m\n",
      "File \u001b[1;32md:\\Program Files\\Python311\\Lib\\site-packages\\sympy\\solvers\\ode\\single.py:285\u001b[0m, in \u001b[0;36mSingleODESolver.get_general_solution\u001b[1;34m(self, simplify)\u001b[0m\n\u001b[0;32m    283\u001b[0m     msg \u001b[39m=\u001b[39m \u001b[39m\"\u001b[39m\u001b[39m%s\u001b[39;00m\u001b[39m solver cannot solve:\u001b[39m\u001b[39m\\n\u001b[39;00m\u001b[39m%s\u001b[39;00m\u001b[39m\"\u001b[39m\n\u001b[0;32m    284\u001b[0m     \u001b[39mraise\u001b[39;00m ODEMatchError(msg \u001b[39m%\u001b[39m (\u001b[39mself\u001b[39m\u001b[39m.\u001b[39mhint, \u001b[39mself\u001b[39m\u001b[39m.\u001b[39mode_problem\u001b[39m.\u001b[39meq))\n\u001b[1;32m--> 285\u001b[0m \u001b[39mreturn\u001b[39;00m \u001b[39mself\u001b[39;49m\u001b[39m.\u001b[39;49m_get_general_solution(simplify_flag\u001b[39m=\u001b[39;49msimplify)\n",
      "File \u001b[1;32md:\\Program Files\\Python311\\Lib\\site-packages\\sympy\\solvers\\ode\\single.py:909\u001b[0m, in \u001b[0;36mFactorable._get_general_solution\u001b[1;34m(self, simplify_flag)\u001b[0m\n\u001b[0;32m    906\u001b[0m             sols\u001b[39m.\u001b[39mappend(sol)\n\u001b[0;32m    908\u001b[0m \u001b[39mif\u001b[39;00m sols \u001b[39m==\u001b[39m []:\n\u001b[1;32m--> 909\u001b[0m     \u001b[39mraise\u001b[39;00m \u001b[39mNotImplementedError\u001b[39;00m(\u001b[39m\"\u001b[39m\u001b[39mThe given ODE \u001b[39m\u001b[39m\"\u001b[39m \u001b[39m+\u001b[39m \u001b[39mstr\u001b[39m(eq) \u001b[39m+\u001b[39m \u001b[39m\"\u001b[39m\u001b[39m cannot be solved by\u001b[39m\u001b[39m\"\u001b[39m\n\u001b[0;32m    910\u001b[0m         \u001b[39m+\u001b[39m \u001b[39m\"\u001b[39m\u001b[39m the factorable group method\u001b[39m\u001b[39m\"\u001b[39m)\n\u001b[0;32m    911\u001b[0m \u001b[39mreturn\u001b[39;00m sols\n",
      "\u001b[1;31mNotImplementedError\u001b[0m: The given ODE Derivative(y(x), x) - (-2*x**2 - y(x))*y(x)/(x*(2*x**2 - y(x))) cannot be solved by the factorable group method"
     ]
    }
   ],
   "source": [
    "dsolve(DE, y, simplify=False)\n"
   ]
  },
  {
   "cell_type": "code",
   "execution_count": 26,
   "metadata": {},
   "outputs": [
    {
     "data": {
      "text/plain": [
       "  message: The solver successfully reached the end of the integration interval.\n",
       "  success: True\n",
       "   status: 0\n",
       "        t: [ 1.000e+00  1.200e+00 ...  9.600e+00  9.800e+00]\n",
       "        y: [[ 1.000e+00  6.825e-01 ...  7.250e-02  7.102e-02]]\n",
       "      sol: None\n",
       " t_events: None\n",
       " y_events: None\n",
       "     nfev: 44\n",
       "     njev: 0\n",
       "      nlu: 0"
      ]
     },
     "execution_count": 26,
     "metadata": {},
     "output_type": "execute_result"
    }
   ],
   "source": [
    "import numpy as np\n",
    "import matplotlib.pyplot as plt\n",
    "from scipy.integrate import solve_ivp\n",
    "\n",
    "\n",
    "# define the function f(x,y)\n",
    "def f(x, y):\n",
    "    return (2 * x**2 * y + y**2) / (x * y - 2 * x**3)\n",
    "\n",
    "\n",
    "# Solve the ODE numerically with y(0) = 1\n",
    "sol = solve_ivp(f, [1, 10], [1], t_eval=np.arange(1, 10, 0.2))\n",
    "sol\n"
   ]
  },
  {
   "cell_type": "code",
   "execution_count": 27,
   "metadata": {},
   "outputs": [
    {
     "data": {
      "image/png": "[encoded data removed]",
      "text/plain": [
       "<Figure size 1200x600 with 1 Axes>"
      ]
     },
     "metadata": {},
     "output_type": "display_data"
    }
   ],
   "source": [
    "# Plot the solution\n",
    "plt.figure(figsize=(12, 6))\n",
    "for y in sol.y:\n",
    "    plt.plot(sol.t, y)\n",
    "plt.xlabel(\"x\")\n",
    "plt.ylabel(\"y(x)\")\n",
    "plt.title(\"y(0) = 1\")\n",
    "plt.show()\n"
   ]
  },
  {
   "cell_type": "code",
   "execution_count": 28,
   "metadata": {},
   "outputs": [
    {
     "data": {
      "text/plain": [
       "  message: The solver successfully reached the end of the integration interval.\n",
       "  success: True\n",
       "   status: 0\n",
       "        t: [ 1.000e+00  1.200e+00 ...  9.600e+00  9.800e+00]\n",
       "        y: [[ 3.000e+00  5.805e+00 ...  5.463e+02  5.695e+02]]\n",
       "      sol: None\n",
       " t_events: None\n",
       " y_events: None\n",
       "     nfev: 38\n",
       "     njev: 0\n",
       "      nlu: 0"
      ]
     },
     "execution_count": 28,
     "metadata": {},
     "output_type": "execute_result"
    }
   ],
   "source": [
    "# Solve the ODE numerically with y(0) = 3\n",
    "sol = solve_ivp(f, [1, 10], [3], t_eval=np.arange(1, 10, 0.2))\n",
    "sol\n"
   ]
  },
  {
   "cell_type": "code",
   "execution_count": 29,
   "metadata": {},
   "outputs": [
    {
     "data": {
      "image/png": "[encoded data removed]",
      "text/plain": [
       "<Figure size 1200x600 with 1 Axes>"
      ]
     },
     "metadata": {},
     "output_type": "display_data"
    }
   ],
   "source": [
    "# Plot the solution\n",
    "plt.figure(figsize=(12, 6))\n",
    "for y in sol.y:\n",
    "    plt.plot(sol.t, y)\n",
    "plt.xlabel(\"x\")\n",
    "plt.ylabel(\"y(x)\")\n",
    "plt.title(\"y(0) = 3\")\n",
    "plt.show()\n"
   ]
  }
 ],
 "metadata": {
  "kernelspec": {
   "display_name": "Python 3",
   "language": "python",
   "name": "python3"
  },
  "language_info": {
   "codemirror_mode": {
    "name": "ipython",
    "version": 3
   },
   "file_extension": ".py",
   "mimetype": "text/x-python",
   "name": "python",
   "nbconvert_exporter": "python",
   "pygments_lexer": "ipython3",
   "version": "3.11.3"
  },
  "orig_nbformat": 4
 },
 "nbformat": 4,
 "nbformat_minor": 2
}
