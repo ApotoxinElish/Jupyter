{
 "cells": [
  {
   "cell_type": "code",
   "execution_count": 1,
   "metadata": {},
   "outputs": [],
   "source": [
    "import sympy as sp\n",
    "import numpy as np\n"
   ]
  },
  {
   "cell_type": "code",
   "execution_count": 2,
   "metadata": {},
   "outputs": [
    {
     "data": {
      "text/latex": [
       "$\\displaystyle \\left[\\begin{matrix}6 & -2 & -1\\\\-2 & 6 & -1\\\\-1 & -1 & 5\\end{matrix}\\right]$"
      ],
      "text/plain": [
       "Matrix([\n",
       "[ 6, -2, -1],\n",
       "[-2,  6, -1],\n",
       "[-1, -1,  5]])"
      ]
     },
     "execution_count": 2,
     "metadata": {},
     "output_type": "execute_result"
    }
   ],
   "source": [
    "A = sp.Matrix([[6, -2, -1], [-2, 6, -1], [-1, -1, 5]])\n",
    "A\n"
   ]
  },
  {
   "cell_type": "code",
   "execution_count": 3,
   "metadata": {},
   "outputs": [
    {
     "data": {
      "text/plain": [
       "[(3,\n",
       "  1,\n",
       "  [Matrix([\n",
       "   [1],\n",
       "   [1],\n",
       "   [1]])]),\n",
       " (6,\n",
       "  1,\n",
       "  [Matrix([\n",
       "   [-1/2],\n",
       "   [-1/2],\n",
       "   [   1]])]),\n",
       " (8,\n",
       "  1,\n",
       "  [Matrix([\n",
       "   [-1],\n",
       "   [ 1],\n",
       "   [ 0]])])]"
      ]
     },
     "execution_count": 3,
     "metadata": {},
     "output_type": "execute_result"
    }
   ],
   "source": [
    "A.eigenvects()\n"
   ]
  },
  {
   "cell_type": "code",
   "execution_count": 4,
   "metadata": {},
   "outputs": [
    {
     "data": {
      "text/plain": [
       "array([[ 6, -2, -1],\n",
       "       [-2,  6, -1],\n",
       "       [-1, -1,  5]])"
      ]
     },
     "execution_count": 4,
     "metadata": {},
     "output_type": "execute_result"
    }
   ],
   "source": [
    "A = np.array([[6, -2, -1], [-2, 6, -1], [-1, -1, 5]])\n",
    "A\n"
   ]
  },
  {
   "cell_type": "code",
   "execution_count": 5,
   "metadata": {},
   "outputs": [
    {
     "data": {
      "text/plain": [
       "(array([3., 8., 6.]),\n",
       " array([[ 5.77350269e-01,  7.07106781e-01, -4.08248290e-01],\n",
       "        [ 5.77350269e-01, -7.07106781e-01, -4.08248290e-01],\n",
       "        [ 5.77350269e-01, -2.79509395e-16,  8.16496581e-01]]))"
      ]
     },
     "execution_count": 5,
     "metadata": {},
     "output_type": "execute_result"
    }
   ],
   "source": [
    "np.linalg.eig(A)\n"
   ]
  },
  {
   "cell_type": "code",
   "execution_count": 6,
   "metadata": {},
   "outputs": [
    {
     "data": {
      "text/latex": [
       "$\\displaystyle \\left[\\begin{matrix}3 & -2 & 4\\\\-2 & 6 & 2\\\\4 & 2 & 3\\end{matrix}\\right]$"
      ],
      "text/plain": [
       "Matrix([\n",
       "[ 3, -2, 4],\n",
       "[-2,  6, 2],\n",
       "[ 4,  2, 3]])"
      ]
     },
     "execution_count": 6,
     "metadata": {},
     "output_type": "execute_result"
    }
   ],
   "source": [
    "A = sp.Matrix([[3, -2, 4], [-2, 6, 2], [4, 2, 3]])\n",
    "A\n"
   ]
  },
  {
   "cell_type": "code",
   "execution_count": 7,
   "metadata": {},
   "outputs": [
    {
     "data": {
      "text/plain": [
       "[(-2,\n",
       "  1,\n",
       "  [Matrix([\n",
       "   [  -1],\n",
       "   [-1/2],\n",
       "   [   1]])]),\n",
       " (7,\n",
       "  2,\n",
       "  [Matrix([\n",
       "   [-1/2],\n",
       "   [   1],\n",
       "   [   0]]),\n",
       "   Matrix([\n",
       "   [1],\n",
       "   [0],\n",
       "   [1]])])]"
      ]
     },
     "execution_count": 7,
     "metadata": {},
     "output_type": "execute_result"
    }
   ],
   "source": [
    "A.eigenvects()\n"
   ]
  },
  {
   "cell_type": "code",
   "execution_count": 8,
   "metadata": {},
   "outputs": [
    {
     "data": {
      "text/plain": [
       "(Matrix([\n",
       " [-2, -1, 1],\n",
       " [-1,  2, 0],\n",
       " [ 2,  0, 1]]),\n",
       " Matrix([\n",
       " [-2, 0, 0],\n",
       " [ 0, 7, 0],\n",
       " [ 0, 0, 7]]))"
      ]
     },
     "execution_count": 8,
     "metadata": {},
     "output_type": "execute_result"
    }
   ],
   "source": [
    "P, D = A.diagonalize()\n",
    "P, D\n"
   ]
  },
  {
   "cell_type": "code",
   "execution_count": 9,
   "metadata": {},
   "outputs": [
    {
     "data": {
      "text/latex": [
       "$\\displaystyle \\left[\\begin{matrix}-2 & -1 & 1\\\\-1 & 2 & 0\\\\2 & 0 & 1\\end{matrix}\\right]$"
      ],
      "text/plain": [
       "Matrix([\n",
       "[-2, -1, 1],\n",
       "[-1,  2, 0],\n",
       "[ 2,  0, 1]])"
      ]
     },
     "execution_count": 9,
     "metadata": {},
     "output_type": "execute_result"
    }
   ],
   "source": [
    "P\n"
   ]
  },
  {
   "cell_type": "code",
   "execution_count": 10,
   "metadata": {},
   "outputs": [
    {
     "data": {
      "text/plain": [
       "(Matrix([\n",
       " [-2/3,  -sqrt(5)/5, 4*sqrt(5)/15],\n",
       " [-1/3, 2*sqrt(5)/5, 2*sqrt(5)/15],\n",
       " [ 2/3,           0,    sqrt(5)/3]]),\n",
       " Matrix([\n",
       " [3,       0,           0],\n",
       " [0, sqrt(5),  -sqrt(5)/5],\n",
       " [0,       0, 3*sqrt(5)/5]]))"
      ]
     },
     "execution_count": 10,
     "metadata": {},
     "output_type": "execute_result"
    }
   ],
   "source": [
    "P.QRdecomposition()\n"
   ]
  },
  {
   "cell_type": "code",
   "execution_count": 11,
   "metadata": {},
   "outputs": [
    {
     "data": {
      "text/latex": [
       "$\\displaystyle \\left[\\begin{matrix}3 & 2 & 2 & 2\\\\2 & 3 & 2 & 2\\\\2 & 2 & 3 & 2\\\\2 & 2 & 2 & 3\\end{matrix}\\right]$"
      ],
      "text/plain": [
       "Matrix([\n",
       "[3, 2, 2, 2],\n",
       "[2, 3, 2, 2],\n",
       "[2, 2, 3, 2],\n",
       "[2, 2, 2, 3]])"
      ]
     },
     "execution_count": 11,
     "metadata": {},
     "output_type": "execute_result"
    }
   ],
   "source": [
    "A = sp.Matrix([[3, 2, 2, 2], [2, 3, 2, 2], [2, 2, 3, 2], [2, 2, 2, 3]])\n",
    "A\n"
   ]
  },
  {
   "cell_type": "code",
   "execution_count": 12,
   "metadata": {},
   "outputs": [
    {
     "data": {
      "text/plain": [
       "(Matrix([\n",
       " [-1, -1, -1, 1],\n",
       " [ 1,  0,  0, 1],\n",
       " [ 0,  1,  0, 1],\n",
       " [ 0,  0,  1, 1]]),\n",
       " Matrix([\n",
       " [1, 0, 0, 0],\n",
       " [0, 1, 0, 0],\n",
       " [0, 0, 1, 0],\n",
       " [0, 0, 0, 9]]))"
      ]
     },
     "execution_count": 12,
     "metadata": {},
     "output_type": "execute_result"
    }
   ],
   "source": [
    "P, D = A.diagonalize()\n",
    "P, D\n"
   ]
  },
  {
   "cell_type": "code",
   "execution_count": 13,
   "metadata": {},
   "outputs": [
    {
     "data": {
      "text/latex": [
       "$\\displaystyle \\left[\\begin{matrix}- \\frac{\\sqrt{2}}{2} & - \\frac{\\sqrt{6}}{6} & - \\frac{\\sqrt{3}}{6} & \\frac{1}{2}\\\\\\frac{\\sqrt{2}}{2} & - \\frac{\\sqrt{6}}{6} & - \\frac{\\sqrt{3}}{6} & \\frac{1}{2}\\\\0 & \\frac{\\sqrt{6}}{3} & - \\frac{\\sqrt{3}}{6} & \\frac{1}{2}\\\\0 & 0 & \\frac{\\sqrt{3}}{2} & \\frac{1}{2}\\end{matrix}\\right]$"
      ],
      "text/plain": [
       "Matrix([\n",
       "[-sqrt(2)/2, -sqrt(6)/6, -sqrt(3)/6, 1/2],\n",
       "[ sqrt(2)/2, -sqrt(6)/6, -sqrt(3)/6, 1/2],\n",
       "[         0,  sqrt(6)/3, -sqrt(3)/6, 1/2],\n",
       "[         0,          0,  sqrt(3)/2, 1/2]])"
      ]
     },
     "execution_count": 13,
     "metadata": {},
     "output_type": "execute_result"
    }
   ],
   "source": [
    "Q, R = P.QRdecomposition()\n",
    "Q\n"
   ]
  }
 ],
 "metadata": {
  "kernelspec": {
   "display_name": "Python 3",
   "language": "python",
   "name": "python3"
  },
  "language_info": {
   "codemirror_mode": {
    "name": "ipython",
    "version": 3
   },
   "file_extension": ".py",
   "mimetype": "text/x-python",
   "name": "python",
   "nbconvert_exporter": "python",
   "pygments_lexer": "ipython3",
   "version": "3.10.10"
  },
  "orig_nbformat": 4
 },
 "nbformat": 4,
 "nbformat_minor": 2
}
