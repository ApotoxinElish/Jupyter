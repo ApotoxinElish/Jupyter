{
 "cells": [
  {
   "cell_type": "code",
   "execution_count": 1,
   "metadata": {},
   "outputs": [],
   "source": [
    "import sympy as sp\n",
    "import numpy as np\n"
   ]
  },
  {
   "cell_type": "code",
   "execution_count": 2,
   "metadata": {},
   "outputs": [
    {
     "data": {
      "text/latex": [
       "$\\displaystyle \\left[\\begin{matrix}4 & 11 & 14\\\\8 & 7 & -2\\end{matrix}\\right]$"
      ],
      "text/plain": [
       "Matrix([\n",
       "[4, 11, 14],\n",
       "[8,  7, -2]])"
      ]
     },
     "execution_count": 2,
     "metadata": {},
     "output_type": "execute_result"
    }
   ],
   "source": [
    "A = sp.Matrix([[4, 11, 14], [8, 7, -2]])\n",
    "A\n"
   ]
  },
  {
   "cell_type": "code",
   "execution_count": 3,
   "metadata": {},
   "outputs": [
    {
     "data": {
      "text/plain": [
       "[6*sqrt(10), 3*sqrt(10), 0]"
      ]
     },
     "execution_count": 3,
     "metadata": {},
     "output_type": "execute_result"
    }
   ],
   "source": [
    "# Singular Values\n",
    "A.singular_values()\n"
   ]
  },
  {
   "cell_type": "code",
   "execution_count": 4,
   "metadata": {},
   "outputs": [],
   "source": [
    "# Singular Value Decomposition @ SymPy\n",
    "U, S, V = A.singular_value_decomposition()\n"
   ]
  },
  {
   "cell_type": "code",
   "execution_count": 5,
   "metadata": {},
   "outputs": [
    {
     "data": {
      "text/latex": [
       "$\\displaystyle \\left[\\begin{matrix}- \\frac{\\sqrt{10}}{10} & \\frac{3 \\sqrt{10}}{10}\\\\\\frac{3 \\sqrt{10}}{10} & \\frac{\\sqrt{10}}{10}\\end{matrix}\\right]$"
      ],
      "text/plain": [
       "Matrix([\n",
       "[ -sqrt(10)/10, 3*sqrt(10)/10],\n",
       "[3*sqrt(10)/10,   sqrt(10)/10]])"
      ]
     },
     "execution_count": 5,
     "metadata": {},
     "output_type": "execute_result"
    }
   ],
   "source": [
    "U\n"
   ]
  },
  {
   "cell_type": "code",
   "execution_count": 6,
   "metadata": {},
   "outputs": [
    {
     "data": {
      "text/latex": [
       "$\\displaystyle \\left[\\begin{matrix}3 \\sqrt{10} & 0\\\\0 & 6 \\sqrt{10}\\end{matrix}\\right]$"
      ],
      "text/plain": [
       "Matrix([\n",
       "[3*sqrt(10),          0],\n",
       "[         0, 6*sqrt(10)]])"
      ]
     },
     "execution_count": 6,
     "metadata": {},
     "output_type": "execute_result"
    }
   ],
   "source": [
    "S\n"
   ]
  },
  {
   "cell_type": "code",
   "execution_count": 7,
   "metadata": {},
   "outputs": [
    {
     "data": {
      "text/latex": [
       "$\\displaystyle \\left[\\begin{matrix}\\frac{2}{3} & \\frac{1}{3}\\\\\\frac{1}{3} & \\frac{2}{3}\\\\- \\frac{2}{3} & \\frac{2}{3}\\end{matrix}\\right]$"
      ],
      "text/plain": [
       "Matrix([\n",
       "[ 2/3, 1/3],\n",
       "[ 1/3, 2/3],\n",
       "[-2/3, 2/3]])"
      ]
     },
     "execution_count": 7,
     "metadata": {},
     "output_type": "execute_result"
    }
   ],
   "source": [
    "V\n"
   ]
  },
  {
   "cell_type": "code",
   "execution_count": 8,
   "metadata": {},
   "outputs": [
    {
     "data": {
      "text/latex": [
       "$\\displaystyle \\left[\\begin{matrix}4 & 8\\\\11 & 7\\\\14 & -2\\end{matrix}\\right]$"
      ],
      "text/plain": [
       "Matrix([\n",
       "[ 4,  8],\n",
       "[11,  7],\n",
       "[14, -2]])"
      ]
     },
     "execution_count": 8,
     "metadata": {},
     "output_type": "execute_result"
    }
   ],
   "source": [
    "B = A.T\n",
    "B\n"
   ]
  },
  {
   "cell_type": "code",
   "execution_count": 9,
   "metadata": {},
   "outputs": [
    {
     "data": {
      "text/latex": [
       "$\\displaystyle \\left[\\begin{matrix}\\frac{2}{3} & \\frac{1}{3}\\\\\\frac{1}{3} & \\frac{2}{3}\\\\- \\frac{2}{3} & \\frac{2}{3}\\end{matrix}\\right]$"
      ],
      "text/plain": [
       "Matrix([\n",
       "[ 2/3, 1/3],\n",
       "[ 1/3, 2/3],\n",
       "[-2/3, 2/3]])"
      ]
     },
     "execution_count": 9,
     "metadata": {},
     "output_type": "execute_result"
    }
   ],
   "source": [
    "U, S, V = B.singular_value_decomposition()\n",
    "U\n"
   ]
  },
  {
   "cell_type": "code",
   "execution_count": 10,
   "metadata": {},
   "outputs": [
    {
     "data": {
      "text/latex": [
       "$\\displaystyle \\left[\\begin{matrix}3 \\sqrt{10} & 0\\\\0 & 6 \\sqrt{10}\\end{matrix}\\right]$"
      ],
      "text/plain": [
       "Matrix([\n",
       "[3*sqrt(10),          0],\n",
       "[         0, 6*sqrt(10)]])"
      ]
     },
     "execution_count": 10,
     "metadata": {},
     "output_type": "execute_result"
    }
   ],
   "source": [
    "S\n"
   ]
  },
  {
   "cell_type": "code",
   "execution_count": 11,
   "metadata": {},
   "outputs": [
    {
     "data": {
      "text/latex": [
       "$\\displaystyle \\left[\\begin{matrix}- \\frac{\\sqrt{10}}{10} & \\frac{3 \\sqrt{10}}{10}\\\\\\frac{3 \\sqrt{10}}{10} & \\frac{\\sqrt{10}}{10}\\end{matrix}\\right]$"
      ],
      "text/plain": [
       "Matrix([\n",
       "[ -sqrt(10)/10, 3*sqrt(10)/10],\n",
       "[3*sqrt(10)/10,   sqrt(10)/10]])"
      ]
     },
     "execution_count": 11,
     "metadata": {},
     "output_type": "execute_result"
    }
   ],
   "source": [
    "V\n"
   ]
  },
  {
   "cell_type": "code",
   "execution_count": 12,
   "metadata": {},
   "outputs": [
    {
     "data": {
      "text/plain": [
       "array([[ 4, 11, 14],\n",
       "       [ 8,  7, -2]])"
      ]
     },
     "execution_count": 12,
     "metadata": {},
     "output_type": "execute_result"
    }
   ],
   "source": [
    "A = np.array([[4, 11, 14], [8, 7, -2]])\n",
    "A\n"
   ]
  },
  {
   "cell_type": "code",
   "execution_count": 13,
   "metadata": {},
   "outputs": [
    {
     "data": {
      "text/plain": [
       "(array([[-0.9486833 , -0.31622777],\n",
       "        [-0.31622777,  0.9486833 ]]),\n",
       " array([18.97366596,  9.48683298]),\n",
       " array([[-0.33333333, -0.66666667, -0.66666667],\n",
       "        [ 0.66666667,  0.33333333, -0.66666667],\n",
       "        [-0.66666667,  0.66666667, -0.33333333]]))"
      ]
     },
     "execution_count": 13,
     "metadata": {},
     "output_type": "execute_result"
    }
   ],
   "source": [
    "# Singular Value Decomposition @ NumPy\n",
    "np.linalg.svd(A)\n"
   ]
  },
  {
   "cell_type": "code",
   "execution_count": 14,
   "metadata": {},
   "outputs": [
    {
     "data": {
      "text/plain": [
       "array([[ 4,  8],\n",
       "       [11,  7],\n",
       "       [14, -2]])"
      ]
     },
     "execution_count": 14,
     "metadata": {},
     "output_type": "execute_result"
    }
   ],
   "source": [
    "B = A.T\n",
    "B\n"
   ]
  },
  {
   "cell_type": "code",
   "execution_count": 15,
   "metadata": {},
   "outputs": [
    {
     "data": {
      "text/plain": [
       "(array([[-0.33333333, -0.66666667, -0.66666667],\n",
       "        [-0.66666667, -0.33333333,  0.66666667],\n",
       "        [-0.66666667,  0.66666667, -0.33333333]]),\n",
       " array([18.97366596,  9.48683298]),\n",
       " array([[-0.9486833 , -0.31622777],\n",
       "        [ 0.31622777, -0.9486833 ]]))"
      ]
     },
     "execution_count": 15,
     "metadata": {},
     "output_type": "execute_result"
    }
   ],
   "source": [
    "np.linalg.svd(B)\n"
   ]
  }
 ],
 "metadata": {
  "kernelspec": {
   "display_name": "Python 3",
   "language": "python",
   "name": "python3"
  },
  "language_info": {
   "codemirror_mode": {
    "name": "ipython",
    "version": 3
   },
   "file_extension": ".py",
   "mimetype": "text/x-python",
   "name": "python",
   "nbconvert_exporter": "python",
   "pygments_lexer": "ipython3",
   "version": "3.10.10"
  },
  "orig_nbformat": 4
 },
 "nbformat": 4,
 "nbformat_minor": 2
}
