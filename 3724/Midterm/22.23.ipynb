{
 "cells": [
  {
   "cell_type": "code",
   "execution_count": 1,
   "metadata": {},
   "outputs": [
    {
     "data": {
      "text/latex": [
       "$\\displaystyle \\left[\\begin{matrix}0 & 1 & 0\\\\1 & 1 & 1\\\\0 & -1 & 0\\\\1 & 0 & 1\\\\0 & 1 & 0\\\\0 & 0 & -1\\end{matrix}\\right]$"
      ],
      "text/plain": [
       "Matrix([\n",
       "[0,  1,  0],\n",
       "[1,  1,  1],\n",
       "[0, -1,  0],\n",
       "[1,  0,  1],\n",
       "[0,  1,  0],\n",
       "[0,  0, -1]])"
      ]
     },
     "execution_count": 1,
     "metadata": {},
     "output_type": "execute_result"
    }
   ],
   "source": [
    "import sympy as sp\n",
    "\n",
    "A = sp.Matrix([[0, 1, 0], [1, 1, 1], [0, -1, 0], [1, 0, 1], [0, 1, 0], [0, 0, -1]])\n",
    "A\n"
   ]
  },
  {
   "cell_type": "code",
   "execution_count": 2,
   "metadata": {},
   "outputs": [
    {
     "data": {
      "text/latex": [
       "$\\displaystyle \\left[\\begin{matrix}21\\\\42\\\\7\\\\7\\\\49\\\\-21\\end{matrix}\\right]$"
      ],
      "text/plain": [
       "Matrix([\n",
       "[ 21],\n",
       "[ 42],\n",
       "[  7],\n",
       "[  7],\n",
       "[ 49],\n",
       "[-21]])"
      ]
     },
     "execution_count": 2,
     "metadata": {},
     "output_type": "execute_result"
    }
   ],
   "source": [
    "b = sp.Matrix([[21, 42, 7, 7, 49, -21]]).T\n",
    "b\n"
   ]
  },
  {
   "cell_type": "code",
   "execution_count": 3,
   "metadata": {},
   "outputs": [
    {
     "data": {
      "text/plain": [
       "3"
      ]
     },
     "execution_count": 3,
     "metadata": {},
     "output_type": "execute_result"
    }
   ],
   "source": [
    "A.rank()\n"
   ]
  },
  {
   "cell_type": "code",
   "execution_count": 4,
   "metadata": {},
   "outputs": [
    {
     "data": {
      "text/plain": [
       "[Matrix([\n",
       " [1],\n",
       " [0],\n",
       " [1],\n",
       " [0],\n",
       " [0],\n",
       " [0]]),\n",
       " Matrix([\n",
       " [ 1],\n",
       " [-1],\n",
       " [ 0],\n",
       " [ 1],\n",
       " [ 0],\n",
       " [ 0]]),\n",
       " Matrix([\n",
       " [-1],\n",
       " [ 0],\n",
       " [ 0],\n",
       " [ 0],\n",
       " [ 1],\n",
       " [ 0]])]"
      ]
     },
     "execution_count": 4,
     "metadata": {},
     "output_type": "execute_result"
    }
   ],
   "source": [
    "A.T.nullspace()\n"
   ]
  },
  {
   "cell_type": "code",
   "execution_count": 13,
   "metadata": {},
   "outputs": [
    {
     "data": {
      "text/latex": [
       "$\\displaystyle \\left[\\begin{matrix}23\\\\36\\\\-23\\\\13\\\\23\\\\-21\\end{matrix}\\right]$"
      ],
      "text/plain": [
       "Matrix([\n",
       "[ 23],\n",
       "[ 36],\n",
       "[-23],\n",
       "[ 13],\n",
       "[ 23],\n",
       "[-21]])"
      ]
     },
     "execution_count": 13,
     "metadata": {},
     "output_type": "execute_result"
    }
   ],
   "source": [
    "p = A @ (A.T @ A).inv() @ A.T @ b\n",
    "p\n"
   ]
  },
  {
   "cell_type": "code",
   "execution_count": 27,
   "metadata": {},
   "outputs": [
    {
     "data": {
      "text/latex": [
       "$\\displaystyle \\left\\{\\left( -8, \\  23, \\  21\\right)\\right\\}$"
      ],
      "text/plain": [
       "{(-8, 23, 21)}"
      ]
     },
     "execution_count": 27,
     "metadata": {},
     "output_type": "execute_result"
    }
   ],
   "source": [
    "x1, x2, x3 = sp.symbols(\"x1 x2 x3\")\n",
    "sp.linsolve((A, p), x1, x2, x3)\n"
   ]
  },
  {
   "cell_type": "code",
   "execution_count": 28,
   "metadata": {},
   "outputs": [
    {
     "data": {
      "text/latex": [
       "$\\displaystyle \\left[\\begin{matrix}-8\\\\23\\\\21\\end{matrix}\\right]$"
      ],
      "text/plain": [
       "Matrix([\n",
       "[-8],\n",
       "[23],\n",
       "[21]])"
      ]
     },
     "execution_count": 28,
     "metadata": {},
     "output_type": "execute_result"
    }
   ],
   "source": [
    "(A.T @ A).inv() @ A.T @ b\n"
   ]
  },
  {
   "cell_type": "code",
   "execution_count": 29,
   "metadata": {},
   "outputs": [
    {
     "data": {
      "text/latex": [
       "$\\displaystyle \\left[\\begin{matrix}0 & \\frac{\\sqrt{14}}{7} & 0\\\\\\frac{\\sqrt{2}}{2} & \\frac{\\sqrt{14}}{14} & 0\\\\0 & - \\frac{\\sqrt{14}}{7} & 0\\\\\\frac{\\sqrt{2}}{2} & - \\frac{\\sqrt{14}}{14} & 0\\\\0 & \\frac{\\sqrt{14}}{7} & 0\\\\0 & 0 & -1\\end{matrix}\\right]$"
      ],
      "text/plain": [
       "Matrix([\n",
       "[        0,   sqrt(14)/7,  0],\n",
       "[sqrt(2)/2,  sqrt(14)/14,  0],\n",
       "[        0,  -sqrt(14)/7,  0],\n",
       "[sqrt(2)/2, -sqrt(14)/14,  0],\n",
       "[        0,   sqrt(14)/7,  0],\n",
       "[        0,            0, -1]])"
      ]
     },
     "execution_count": 29,
     "metadata": {},
     "output_type": "execute_result"
    }
   ],
   "source": [
    "Q, R = A.QRdecomposition()\n",
    "Q"
   ]
  },
  {
   "cell_type": "code",
   "execution_count": 31,
   "metadata": {},
   "outputs": [
    {
     "data": {
      "text/latex": [
       "$\\displaystyle \\left[\\begin{matrix}\\sqrt{2} & \\frac{\\sqrt{2}}{2} & \\sqrt{2}\\\\0 & \\frac{\\sqrt{14}}{2} & 0\\\\0 & 0 & 1\\end{matrix}\\right]$"
      ],
      "text/plain": [
       "Matrix([\n",
       "[sqrt(2),  sqrt(2)/2, sqrt(2)],\n",
       "[      0, sqrt(14)/2,       0],\n",
       "[      0,          0,       1]])"
      ]
     },
     "execution_count": 31,
     "metadata": {},
     "output_type": "execute_result"
    }
   ],
   "source": [
    "Q.T @ A\n"
   ]
  }
 ],
 "metadata": {
  "kernelspec": {
   "display_name": "Python 3",
   "language": "python",
   "name": "python3"
  },
  "language_info": {
   "codemirror_mode": {
    "name": "ipython",
    "version": 3
   },
   "file_extension": ".py",
   "mimetype": "text/x-python",
   "name": "python",
   "nbconvert_exporter": "python",
   "pygments_lexer": "ipython3",
   "version": "3.9.13"
  },
  "orig_nbformat": 4
 },
 "nbformat": 4,
 "nbformat_minor": 2
}
