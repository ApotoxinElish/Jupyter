{
 "cells": [
  {
   "cell_type": "code",
   "execution_count": 1,
   "metadata": {},
   "outputs": [
    {
     "data": {
      "text/latex": [
       "$\\displaystyle \\left[\\begin{matrix}1 & 4 & 2 & 3\\\\-2 & 8 & 5 & -4\\\\-5 & -8 & 6 & 5\\\\3 & 9 & -1 & -2\\end{matrix}\\right]$"
      ],
      "text/plain": [
       "Matrix([\n",
       "[ 1,  4,  2,  3],\n",
       "[-2,  8,  5, -4],\n",
       "[-5, -8,  6,  5],\n",
       "[ 3,  9, -1, -2]])"
      ]
     },
     "execution_count": 1,
     "metadata": {},
     "output_type": "execute_result"
    }
   ],
   "source": [
    "import sympy as sp\n",
    "\n",
    "A = sp.Matrix([[1, 4, 2, 3], [-2, 8, 5, -4], [-5, -8, 6, 5], [3, 9, -1, -2]])\n",
    "A\n"
   ]
  },
  {
   "cell_type": "code",
   "execution_count": 2,
   "metadata": {},
   "outputs": [
    {
     "data": {
      "text/latex": [
       "$\\displaystyle \\left[\\begin{matrix}0\\\\0\\\\0\\\\0\\end{matrix}\\right]$"
      ],
      "text/plain": [
       "Matrix([\n",
       "[0],\n",
       "[0],\n",
       "[0],\n",
       "[0]])"
      ]
     },
     "execution_count": 2,
     "metadata": {},
     "output_type": "execute_result"
    }
   ],
   "source": [
    "b = sp.zeros(4, 1)\n",
    "b\n"
   ]
  },
  {
   "cell_type": "code",
   "execution_count": 3,
   "metadata": {},
   "outputs": [],
   "source": [
    "x1, x2, x3, x4 = sp.symbols(\"x1 x2 x3 x4\")\n"
   ]
  },
  {
   "cell_type": "code",
   "execution_count": 4,
   "metadata": {},
   "outputs": [
    {
     "data": {
      "text/latex": [
       "$\\displaystyle \\left\\{\\left( - 3 x_{4}, \\  x_{4}, \\  - 2 x_{4}, \\  x_{4}\\right)\\right\\}$"
      ],
      "text/plain": [
       "{(-3*x4, x4, -2*x4, x4)}"
      ]
     },
     "execution_count": 4,
     "metadata": {},
     "output_type": "execute_result"
    }
   ],
   "source": [
    "sp.linsolve((A, b), x1, x2, x3, x4)\n"
   ]
  },
  {
   "cell_type": "code",
   "execution_count": 5,
   "metadata": {},
   "outputs": [
    {
     "data": {
      "text/latex": [
       "$\\displaystyle \\left[\\begin{matrix}2 & 8 & 5 & 5\\\\3 & 6 & 5 & 3\\\\1 & 1 & 0 & 0\\\\8 & 5 & 4 & 0\\\\6 & 8 & 1 & 6\\\\8 & 7 & 3 & 1\\\\5 & 3 & 7 & 2\\end{matrix}\\right]$"
      ],
      "text/plain": [
       "Matrix([\n",
       "[2, 8, 5, 5],\n",
       "[3, 6, 5, 3],\n",
       "[1, 1, 0, 0],\n",
       "[8, 5, 4, 0],\n",
       "[6, 8, 1, 6],\n",
       "[8, 7, 3, 1],\n",
       "[5, 3, 7, 2]])"
      ]
     },
     "execution_count": 5,
     "metadata": {},
     "output_type": "execute_result"
    }
   ],
   "source": [
    "A = sp.Matrix(\n",
    "    [\n",
    "        [2, 8, 5, 5],\n",
    "        [3, 6, 5, 3],\n",
    "        [1, 1, 0, 0],\n",
    "        [8, 5, 4, 0],\n",
    "        [6, 8, 1, 6],\n",
    "        [8, 7, 3, 1],\n",
    "        [5, 3, 7, 2],\n",
    "    ]\n",
    ")\n",
    "A\n"
   ]
  },
  {
   "cell_type": "code",
   "execution_count": 6,
   "metadata": {},
   "outputs": [
    {
     "data": {
      "text/plain": [
       "(Matrix([\n",
       " [1, 0, 0, 0],\n",
       " [0, 1, 0, 0],\n",
       " [0, 0, 1, 0],\n",
       " [0, 0, 0, 1],\n",
       " [0, 0, 0, 0],\n",
       " [0, 0, 0, 0],\n",
       " [0, 0, 0, 0]]),\n",
       " (0, 1, 2, 3))"
      ]
     },
     "execution_count": 6,
     "metadata": {},
     "output_type": "execute_result"
    }
   ],
   "source": [
    "A.rref()\n"
   ]
  }
 ],
 "metadata": {
  "kernelspec": {
   "display_name": "Python 3",
   "language": "python",
   "name": "python3"
  },
  "language_info": {
   "codemirror_mode": {
    "name": "ipython",
    "version": 3
   },
   "file_extension": ".py",
   "mimetype": "text/x-python",
   "name": "python",
   "nbconvert_exporter": "python",
   "pygments_lexer": "ipython3",
   "version": "3.11.1"
  },
  "orig_nbformat": 4,
  "vscode": {
   "interpreter": {
    "hash": "3b03d3ad6b1336e6e4949d619e4badd72fec28959454a0e0d6a04b545beba08a"
   }
  }
 },
 "nbformat": 4,
 "nbformat_minor": 2
}
