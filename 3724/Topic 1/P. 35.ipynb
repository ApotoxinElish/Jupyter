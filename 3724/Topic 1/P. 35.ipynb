{
 "cells": [
  {
   "cell_type": "code",
   "execution_count": 1,
   "metadata": {},
   "outputs": [
    {
     "data": {
      "text/latex": [
       "$\\displaystyle \\left[\\begin{matrix}1 & 0 & -1 & -1 & 0 & 2 & 0 & -3 & -3 & 4\\\\0 & 1 & 1 & 1 & 1 & 2 & 0 & -3 & -8 & 1\\\\-2 & 0 & 2 & 2 & 2 & -2 & -2 & 6 & -2 & -6\\\\-1 & 2 & 3 & 3 & 0 & 1 & 2 & -4 & -7 & -2\\\\2 & -1 & -3 & -3 & 0 & 2 & -1 & -2 & 0 & 6\\\\-2 & 2 & 4 & 4 & -2 & 2 & 4 & -6 & -6 & 2\\end{matrix}\\right]$"
      ],
      "text/plain": [
       "Matrix([\n",
       "[ 1,  0, -1, -1,  0,  2,  0, -3, -3,  4],\n",
       "[ 0,  1,  1,  1,  1,  2,  0, -3, -8,  1],\n",
       "[-2,  0,  2,  2,  2, -2, -2,  6, -2, -6],\n",
       "[-1,  2,  3,  3,  0,  1,  2, -4, -7, -2],\n",
       "[ 2, -1, -3, -3,  0,  2, -1, -2,  0,  6],\n",
       "[-2,  2,  4,  4, -2,  2,  4, -6, -6,  2]])"
      ]
     },
     "execution_count": 1,
     "metadata": {},
     "output_type": "execute_result"
    }
   ],
   "source": [
    "import sympy as sp\n",
    "\n",
    "A = sp.Matrix(\n",
    "    [\n",
    "        [1, 0, -1, -1, 0, 2, 0, -3, -3, 4],\n",
    "        [0, 1, 1, 1, 1, 2, 0, -3, -8, 1],\n",
    "        [-2, 0, 2, 2, 2, -2, -2, 6, -2, -6],\n",
    "        [-1, 2, 3, 3, 0, 1, 2, -4, -7, -2],\n",
    "        [2, -1, -3, -3, 0, 2, -1, -2, 0, 6],\n",
    "        [-2, 2, 4, 4, -2, 2, 4, -6, -6, 2],\n",
    "    ]\n",
    ")\n",
    "A\n"
   ]
  },
  {
   "cell_type": "code",
   "execution_count": 2,
   "metadata": {},
   "outputs": [
    {
     "data": {
      "text/latex": [
       "$\\displaystyle \\left\\{\\left( x_{3} + x_{4} + x_{8} - x_{9}, \\  2 x_{10} - x_{3} - x_{4} - x_{7} + 2 x_{8} + 2 x_{9}, \\  x_{3}, \\  x_{4}, \\  x_{10} + x_{7} - x_{8} + 2 x_{9}, \\  - 2 x_{10} + x_{8} + 2 x_{9}, \\  x_{7}, \\  x_{8}, \\  x_{9}, \\  x_{10}\\right)\\right\\}$"
      ],
      "text/plain": [
       "{(x3 + x4 + x8 - x9, 2*x10 - x3 - x4 - x7 + 2*x8 + 2*x9, x3, x4, x10 + x7 - x8 + 2*x9, -2*x10 + x8 + 2*x9, x7, x8, x9, x10)}"
      ]
     },
     "execution_count": 2,
     "metadata": {},
     "output_type": "execute_result"
    }
   ],
   "source": [
    "x1, x2, x3, x4, x5, x6, x7, x8, x9, x10 = sp.symbols(\"x1 x2 x3 x4 x5 x6 x7 x8 x9 x10\")\n",
    "sp.linsolve((A, sp.zeros(10, 1)), x1, x2, x3, x4, x5, x6, x7, x8, x9, x10)\n"
   ]
  },
  {
   "cell_type": "code",
   "execution_count": 3,
   "metadata": {},
   "outputs": [
    {
     "data": {
      "text/plain": [
       "[Matrix([\n",
       " [ 1],\n",
       " [-1],\n",
       " [ 1],\n",
       " [ 0],\n",
       " [ 0],\n",
       " [ 0],\n",
       " [ 0],\n",
       " [ 0],\n",
       " [ 0],\n",
       " [ 0]]),\n",
       " Matrix([\n",
       " [ 1],\n",
       " [-1],\n",
       " [ 0],\n",
       " [ 1],\n",
       " [ 0],\n",
       " [ 0],\n",
       " [ 0],\n",
       " [ 0],\n",
       " [ 0],\n",
       " [ 0]]),\n",
       " Matrix([\n",
       " [ 0],\n",
       " [-1],\n",
       " [ 0],\n",
       " [ 0],\n",
       " [ 1],\n",
       " [ 0],\n",
       " [ 1],\n",
       " [ 0],\n",
       " [ 0],\n",
       " [ 0]]),\n",
       " Matrix([\n",
       " [ 1],\n",
       " [ 2],\n",
       " [ 0],\n",
       " [ 0],\n",
       " [-1],\n",
       " [ 1],\n",
       " [ 0],\n",
       " [ 1],\n",
       " [ 0],\n",
       " [ 0]]),\n",
       " Matrix([\n",
       " [-1],\n",
       " [ 2],\n",
       " [ 0],\n",
       " [ 0],\n",
       " [ 2],\n",
       " [ 2],\n",
       " [ 0],\n",
       " [ 0],\n",
       " [ 1],\n",
       " [ 0]]),\n",
       " Matrix([\n",
       " [ 0],\n",
       " [ 2],\n",
       " [ 0],\n",
       " [ 0],\n",
       " [ 1],\n",
       " [-2],\n",
       " [ 0],\n",
       " [ 0],\n",
       " [ 0],\n",
       " [ 1]])]"
      ]
     },
     "execution_count": 3,
     "metadata": {},
     "output_type": "execute_result"
    }
   ],
   "source": [
    "A.nullspace()\n"
   ]
  },
  {
   "cell_type": "code",
   "execution_count": 4,
   "metadata": {},
   "outputs": [
    {
     "data": {
      "text/plain": [
       "4"
      ]
     },
     "execution_count": 4,
     "metadata": {},
     "output_type": "execute_result"
    }
   ],
   "source": [
    "# Rank of A @ SymPy\n",
    "A.rank()\n"
   ]
  },
  {
   "cell_type": "code",
   "execution_count": 5,
   "metadata": {},
   "outputs": [],
   "source": [
    "import numpy as np\n"
   ]
  },
  {
   "cell_type": "code",
   "execution_count": 6,
   "metadata": {},
   "outputs": [],
   "source": [
    "# Convert Matrix @ SymPy to NumPy Array\n",
    "B = np.array(A).astype(np.float64)\n"
   ]
  },
  {
   "cell_type": "code",
   "execution_count": 7,
   "metadata": {},
   "outputs": [
    {
     "data": {
      "text/plain": [
       "4"
      ]
     },
     "execution_count": 7,
     "metadata": {},
     "output_type": "execute_result"
    }
   ],
   "source": [
    "# Rank of B @ NumPy\n",
    "np.linalg.matrix_rank(B)\n"
   ]
  }
 ],
 "metadata": {
  "kernelspec": {
   "display_name": "Python 3",
   "language": "python",
   "name": "python3"
  },
  "language_info": {
   "codemirror_mode": {
    "name": "ipython",
    "version": 3
   },
   "file_extension": ".py",
   "mimetype": "text/x-python",
   "name": "python",
   "nbconvert_exporter": "python",
   "pygments_lexer": "ipython3",
   "version": "3.9.13"
  },
  "orig_nbformat": 4
 },
 "nbformat": 4,
 "nbformat_minor": 2
}
