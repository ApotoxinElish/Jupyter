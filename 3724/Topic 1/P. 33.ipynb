{
 "cells": [
  {
   "cell_type": "code",
   "execution_count": 1,
   "metadata": {},
   "outputs": [
    {
     "data": {
      "text/latex": [
       "$\\displaystyle \\left[\\begin{matrix}0 & -1 & -1 & 1 & -2 & 0 & 6\\\\-1 & -1 & 1 & 1 & -2 & -2 & 2\\\\1 & 0 & -2 & 0 & 2 & -2 & -8\\\\0 & 0 & 0 & 0 & 1 & -2 & -6\\\\2 & 1 & -3 & -1 & 2 & -2 & -10\\\\-2 & -2 & 2 & 2 & 1 & 1 & 4\\\\0 & -2 & -2 & 2 & 1 & -1 & 0\\end{matrix}\\right]$"
      ],
      "text/plain": [
       "Matrix([\n",
       "[ 0, -1, -1,  1, -2,  0,   6],\n",
       "[-1, -1,  1,  1, -2, -2,   2],\n",
       "[ 1,  0, -2,  0,  2, -2,  -8],\n",
       "[ 0,  0,  0,  0,  1, -2,  -6],\n",
       "[ 2,  1, -3, -1,  2, -2, -10],\n",
       "[-2, -2,  2,  2,  1,  1,   4],\n",
       "[ 0, -2, -2,  2,  1, -1,   0]])"
      ]
     },
     "execution_count": 1,
     "metadata": {},
     "output_type": "execute_result"
    }
   ],
   "source": [
    "import sympy as sp\n",
    "\n",
    "A = sp.Matrix(\n",
    "    [\n",
    "        [0, -1, -1, 1, -2, 0, 6],\n",
    "        [-1, -1, 1, 1, -2, -2, 2],\n",
    "        [1, 0, -2, 0, 2, -2, -8],\n",
    "        [0, 0, 0, 0, 1, -2, -6],\n",
    "        [2, 1, -3, -1, 2, -2, -10],\n",
    "        [-2, -2, 2, 2, 1, 1, 4],\n",
    "        [0, -2, -2, 2, 1, -1, 0],\n",
    "    ]\n",
    ")\n",
    "A\n"
   ]
  },
  {
   "cell_type": "code",
   "execution_count": 2,
   "metadata": {},
   "outputs": [
    {
     "data": {
      "text/latex": [
       "$\\displaystyle \\left[\\begin{matrix}-7\\\\-6\\\\6\\\\7\\\\8\\\\0\\\\0\\end{matrix}\\right]$"
      ],
      "text/plain": [
       "Matrix([\n",
       "[-7],\n",
       "[-6],\n",
       "[ 6],\n",
       "[ 7],\n",
       "[ 8],\n",
       "[ 0],\n",
       "[ 0]])"
      ]
     },
     "execution_count": 2,
     "metadata": {},
     "output_type": "execute_result"
    }
   ],
   "source": [
    "b = sp.Matrix([[-7, -6, 6, 7, 8, 0, 0]]).T\n",
    "b\n"
   ]
  },
  {
   "cell_type": "code",
   "execution_count": 3,
   "metadata": {},
   "outputs": [
    {
     "data": {
      "text/latex": [
       "$\\displaystyle \\left[\\begin{matrix}-9\\\\10\\\\-3\\\\8\\\\-29\\\\60\\\\22\\end{matrix}\\right]$"
      ],
      "text/plain": [
       "Matrix([\n",
       "[ -9],\n",
       "[ 10],\n",
       "[ -3],\n",
       "[  8],\n",
       "[-29],\n",
       "[ 60],\n",
       "[ 22]])"
      ]
     },
     "execution_count": 3,
     "metadata": {},
     "output_type": "execute_result"
    }
   ],
   "source": [
    "A @ b\n"
   ]
  },
  {
   "cell_type": "code",
   "execution_count": 4,
   "metadata": {},
   "outputs": [
    {
     "data": {
      "text/latex": [
       "$\\displaystyle \\left[\\begin{matrix}0 & -1 & -1 & 1 & -2 & 0 & 6 & -7\\\\-1 & -1 & 1 & 1 & -2 & -2 & 2 & -6\\\\1 & 0 & -2 & 0 & 2 & -2 & -8 & 6\\\\0 & 0 & 0 & 0 & 1 & -2 & -6 & 7\\\\2 & 1 & -3 & -1 & 2 & -2 & -10 & 8\\\\-2 & -2 & 2 & 2 & 1 & 1 & 4 & 0\\\\0 & -2 & -2 & 2 & 1 & -1 & 0 & 0\\end{matrix}\\right]$"
      ],
      "text/plain": [
       "Matrix([\n",
       "[ 0, -1, -1,  1, -2,  0,   6, -7],\n",
       "[-1, -1,  1,  1, -2, -2,   2, -6],\n",
       "[ 1,  0, -2,  0,  2, -2,  -8,  6],\n",
       "[ 0,  0,  0,  0,  1, -2,  -6,  7],\n",
       "[ 2,  1, -3, -1,  2, -2, -10,  8],\n",
       "[-2, -2,  2,  2,  1,  1,   4,  0],\n",
       "[ 0, -2, -2,  2,  1, -1,   0,  0]])"
      ]
     },
     "execution_count": 4,
     "metadata": {},
     "output_type": "execute_result"
    }
   ],
   "source": [
    "A.row_join(b)\n"
   ]
  },
  {
   "cell_type": "code",
   "execution_count": 5,
   "metadata": {},
   "outputs": [
    {
     "data": {
      "text/plain": [
       "(Matrix([\n",
       " [1, 0, -2,  0, 0, 0,  0, 0],\n",
       " [0, 1,  1, -1, 0, 0, -2, 0],\n",
       " [0, 0,  0,  0, 1, 0, -2, 0],\n",
       " [0, 0,  0,  0, 0, 1,  2, 0],\n",
       " [0, 0,  0,  0, 0, 0,  0, 1],\n",
       " [0, 0,  0,  0, 0, 0,  0, 0],\n",
       " [0, 0,  0,  0, 0, 0,  0, 0]]),\n",
       " (0, 1, 4, 5, 7))"
      ]
     },
     "execution_count": 5,
     "metadata": {},
     "output_type": "execute_result"
    }
   ],
   "source": [
    "A.row_join(b).rref()\n"
   ]
  }
 ],
 "metadata": {
  "kernelspec": {
   "display_name": "Python 3",
   "language": "python",
   "name": "python3"
  },
  "language_info": {
   "codemirror_mode": {
    "name": "ipython",
    "version": 3
   },
   "file_extension": ".py",
   "mimetype": "text/x-python",
   "name": "python",
   "nbconvert_exporter": "python",
   "pygments_lexer": "ipython3",
   "version": "3.9.13"
  },
  "orig_nbformat": 4
 },
 "nbformat": 4,
 "nbformat_minor": 2
}
