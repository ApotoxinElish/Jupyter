{
 "cells": [
  {
   "cell_type": "code",
   "execution_count": 1,
   "metadata": {},
   "outputs": [
    {
     "data": {
      "text/latex": [
       "$\\displaystyle \\left[\\begin{matrix}2 & 8 & 6 & 0 & -6 & 8 & 0\\\\-1 & 8 & -2 & 1 & 1 & -9 & 5\\\\-5 & 7 & 3 & -1 & 7 & 2 & 7\\\\3 & -5 & -1 & -6 & 7 & 3 & -4\\\\-5 & 2 & 2 & 6 & -9 & -7 & 3\\\\-8 & -8 & -5 & 8 & -5 & 8 & -7\\\\8 & -9 & -7 & 8 & 6 & 1 & 2\\end{matrix}\\right]$"
      ],
      "text/plain": [
       "Matrix([\n",
       "[ 2,  8,  6,  0, -6,  8,  0],\n",
       "[-1,  8, -2,  1,  1, -9,  5],\n",
       "[-5,  7,  3, -1,  7,  2,  7],\n",
       "[ 3, -5, -1, -6,  7,  3, -4],\n",
       "[-5,  2,  2,  6, -9, -7,  3],\n",
       "[-8, -8, -5,  8, -5,  8, -7],\n",
       "[ 8, -9, -7,  8,  6,  1,  2]])"
      ]
     },
     "execution_count": 1,
     "metadata": {},
     "output_type": "execute_result"
    }
   ],
   "source": [
    "import sympy as sp\n",
    "\n",
    "A = sp.Matrix(\n",
    "    [\n",
    "        [2, 8, 6, 0, -6, 8, 0],\n",
    "        [-1, 8, -2, 1, 1, -9, 5],\n",
    "        [-5, 7, 3, -1, 7, 2, 7],\n",
    "        [3, -5, -1, -6, 7, 3, -4],\n",
    "        [-5, 2, 2, 6, -9, -7, 3],\n",
    "        [-8, -8, -5, 8, -5, 8, -7],\n",
    "        [8, -9, -7, 8, 6, 1, 2],\n",
    "    ]\n",
    ")\n",
    "A\n"
   ]
  },
  {
   "cell_type": "code",
   "execution_count": 2,
   "metadata": {},
   "outputs": [
    {
     "data": {
      "text/plain": [
       "(Matrix([\n",
       " [1, 0, 0, 0, 0, 0, 0],\n",
       " [0, 1, 0, 0, 0, 0, 0],\n",
       " [0, 0, 1, 0, 0, 0, 0],\n",
       " [0, 0, 0, 1, 0, 0, 0],\n",
       " [0, 0, 0, 0, 1, 0, 0],\n",
       " [0, 0, 0, 0, 0, 1, 0],\n",
       " [0, 0, 0, 0, 0, 0, 1]]),\n",
       " (0, 1, 2, 3, 4, 5, 6))"
      ]
     },
     "execution_count": 2,
     "metadata": {},
     "output_type": "execute_result"
    }
   ],
   "source": [
    "A.rref()\n"
   ]
  },
  {
   "cell_type": "code",
   "execution_count": 3,
   "metadata": {},
   "outputs": [
    {
     "data": {
      "text/plain": [
       "7"
      ]
     },
     "execution_count": 3,
     "metadata": {},
     "output_type": "execute_result"
    }
   ],
   "source": [
    "A.rank()\n"
   ]
  },
  {
   "cell_type": "code",
   "execution_count": 4,
   "metadata": {},
   "outputs": [
    {
     "data": {
      "text/latex": [
       "$\\displaystyle -2679572$"
      ],
      "text/plain": [
       "-2679572"
      ]
     },
     "execution_count": 4,
     "metadata": {},
     "output_type": "execute_result"
    }
   ],
   "source": [
    "A.det()\n"
   ]
  }
 ],
 "metadata": {
  "kernelspec": {
   "display_name": "Python 3",
   "language": "python",
   "name": "python3"
  },
  "language_info": {
   "codemirror_mode": {
    "name": "ipython",
    "version": 3
   },
   "file_extension": ".py",
   "mimetype": "text/x-python",
   "name": "python",
   "nbconvert_exporter": "python",
   "pygments_lexer": "ipython3",
   "version": "3.9.13"
  },
  "orig_nbformat": 4
 },
 "nbformat": 4,
 "nbformat_minor": 2
}
