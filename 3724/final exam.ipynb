{
 "cells": [
  {
   "cell_type": "code",
   "execution_count": 2,
   "id": "32b991f9",
   "metadata": {},
   "outputs": [],
   "source": [
    "import sympy as sp\n",
    "import numpy as np\n"
   ]
  },
  {
   "cell_type": "code",
   "execution_count": 3,
   "id": "76387507",
   "metadata": {},
   "outputs": [
    {
     "data": {
      "text/latex": [
       "$\\displaystyle \\begin{cases} L & \\text{for}\\: \\left(m = 0 \\wedge n = 0\\right) \\vee \\left(m = 0 \\wedge m = n \\wedge n = 0\\right) \\vee \\left(m = 0 \\wedge m = - n \\wedge n = 0\\right) \\vee \\left(m = 0 \\wedge m = - n \\wedge m = n \\wedge n = 0\\right) \\\\\\frac{L}{2} & \\text{for}\\: \\left(m = 0 \\wedge m = - n\\right) \\vee \\left(m = 0 \\wedge m = n\\right) \\vee \\left(m = - n \\wedge m = n\\right) \\vee \\left(m = n \\wedge n = 0\\right) \\vee \\left(m = - n \\wedge n = 0\\right) \\vee \\left(m = 0 \\wedge m = - n \\wedge m = n\\right) \\vee \\left(m = - n \\wedge m = n \\wedge n = 0\\right) \\vee m = - n \\vee m = n \\\\0 & \\text{otherwise} \\end{cases}$"
      ],
      "text/plain": [
       "Piecewise((L, (Eq(m, 0) & Eq(n, 0)) | (Eq(m, 0) & Eq(m, n) & Eq(n, 0)) | (Eq(m, 0) & Eq(n, 0) & Eq(m, -n)) | (Eq(m, 0) & Eq(m, n) & Eq(n, 0) & Eq(m, -n))), (L/2, Eq(m, n) | Eq(m, -n) | (Eq(m, 0) & Eq(m, n)) | (Eq(m, n) & Eq(n, 0)) | (Eq(m, 0) & Eq(m, -n)) | (Eq(m, n) & Eq(m, -n)) | (Eq(n, 0) & Eq(m, -n)) | (Eq(m, 0) & Eq(m, n) & Eq(m, -n)) | (Eq(m, n) & Eq(n, 0) & Eq(m, -n))), (0, True))"
      ]
     },
     "execution_count": 3,
     "metadata": {},
     "output_type": "execute_result"
    }
   ],
   "source": [
    "x, L = sp.symbols(\"x\", real=True), sp.symbols(\"L\", positive=True, integer=True)\n",
    "m, n = sp.symbols(\"m n\", nonnegative=True, integer=True)\n",
    "y = sp.cos(m * sp.pi * x / L) * sp.cos(n * sp.pi * x / L)\n",
    "intergrate = sp.integrate(y, (x, 0, L))\n",
    "intergrate\n"
   ]
  },
  {
   "cell_type": "markdown",
   "metadata": {
    "collapsed": false
   },
   "source": [
    "### Example:"
   ]
  },
  {
   "cell_type": "code",
   "execution_count": 3,
   "metadata": {
    "collapsed": false
   },
   "outputs": [],
   "source": [
    "# import sympy as sp\n",
    "#\n",
    "# x, L = sp.symbols('x L', real=True)\n",
    "# m, n = sp.symbols('m n', integer=True, positive=True)\n",
    "#\n",
    "# expr = sp.cos(m*sp.pi*x/L) * sp.cos(n*sp.pi*x/L)\n",
    "# integrated_expr = sp.integrate(expr, (x, 0, L))\n",
    "#\n",
    "# print(integrated_expr)\n"
   ]
  },
  {
   "cell_type": "code",
   "execution_count": 4,
   "metadata": {
    "collapsed": false
   },
   "outputs": [],
   "source": [
    "expr = sp.sin(m * sp.pi * x / L) * sp.sin(n * sp.pi * x / L)\n",
    "integer = sp.integrate(expr, (x, 0, L))\n"
   ]
  },
  {
   "cell_type": "code",
   "execution_count": 5,
   "metadata": {
    "collapsed": false
   },
   "outputs": [
    {
     "data": {
      "text/latex": [
       "$\\displaystyle \\begin{cases} 0 & \\text{for}\\: \\left(m = 0 \\wedge n = 0\\right) \\vee \\left(m = 0 \\wedge m = n \\wedge n = 0\\right) \\vee \\left(m = 0 \\wedge m = - n \\wedge n = 0\\right) \\vee \\left(m = 0 \\wedge m = - n \\wedge m = n \\wedge n = 0\\right) \\vee m = 0 \\vee n = 0 \\\\- \\frac{L}{2} & \\text{for}\\: \\left(m = 0 \\wedge m = - n\\right) \\vee \\left(m = - n \\wedge m = n\\right) \\vee \\left(m = - n \\wedge n = 0\\right) \\vee \\left(m = 0 \\wedge m = - n \\wedge m = n\\right) \\vee \\left(m = - n \\wedge m = n \\wedge n = 0\\right) \\vee m = - n \\\\\\frac{L}{2} & \\text{for}\\: \\left(m = 0 \\wedge m = n\\right) \\vee \\left(m = n \\wedge n = 0\\right) \\vee m = n \\\\0 & \\text{otherwise} \\end{cases}$"
      ],
      "text/plain": [
       "Piecewise((0, Eq(m, 0) | Eq(n, 0) | (Eq(m, 0) & Eq(n, 0)) | (Eq(m, 0) & Eq(m, n) & Eq(n, 0)) | (Eq(m, 0) & Eq(n, 0) & Eq(m, -n)) | (Eq(m, 0) & Eq(m, n) & Eq(n, 0) & Eq(m, -n))), (-L/2, Eq(m, -n) | (Eq(m, 0) & Eq(m, -n)) | (Eq(m, n) & Eq(m, -n)) | (Eq(n, 0) & Eq(m, -n)) | (Eq(m, 0) & Eq(m, n) & Eq(m, -n)) | (Eq(m, n) & Eq(n, 0) & Eq(m, -n))), (L/2, Eq(m, n) | (Eq(m, 0) & Eq(m, n)) | (Eq(m, n) & Eq(n, 0))), (0, True))"
      ]
     },
     "execution_count": 5,
     "metadata": {},
     "output_type": "execute_result"
    }
   ],
   "source": [
    "integer\n"
   ]
  },
  {
   "cell_type": "code",
   "execution_count": 6,
   "metadata": {
    "collapsed": false
   },
   "outputs": [
    {
     "data": {
      "text/latex": [
       "$\\displaystyle \\begin{cases} 2 L & \\text{for}\\: \\left(m = 0 \\wedge n = 0\\right) \\vee \\left(m = 0 \\wedge m = n \\wedge n = 0\\right) \\vee \\left(m = 0 \\wedge m = - n \\wedge n = 0\\right) \\vee \\left(m = 0 \\wedge m = - n \\wedge m = n \\wedge n = 0\\right) \\\\L & \\text{for}\\: \\left(m = 0 \\wedge m = - n\\right) \\vee \\left(m = 0 \\wedge m = n\\right) \\vee \\left(m = - n \\wedge m = n\\right) \\vee \\left(m = n \\wedge n = 0\\right) \\vee \\left(m = - n \\wedge n = 0\\right) \\vee \\left(m = 0 \\wedge m = - n \\wedge m = n\\right) \\vee \\left(m = - n \\wedge m = n \\wedge n = 0\\right) \\vee m = - n \\vee m = n \\\\0 & \\text{otherwise} \\end{cases}$"
      ],
      "text/plain": [
       "Piecewise((2*L, (Eq(m, 0) & Eq(n, 0)) | (Eq(m, 0) & Eq(m, n) & Eq(n, 0)) | (Eq(m, 0) & Eq(n, 0) & Eq(m, -n)) | (Eq(m, 0) & Eq(m, n) & Eq(n, 0) & Eq(m, -n))), (L, Eq(m, n) | Eq(m, -n) | (Eq(m, 0) & Eq(m, n)) | (Eq(m, n) & Eq(n, 0)) | (Eq(m, 0) & Eq(m, -n)) | (Eq(m, n) & Eq(m, -n)) | (Eq(n, 0) & Eq(m, -n)) | (Eq(m, 0) & Eq(m, n) & Eq(m, -n)) | (Eq(m, n) & Eq(n, 0) & Eq(m, -n))), (0, True))"
      ]
     },
     "execution_count": 6,
     "metadata": {},
     "output_type": "execute_result"
    }
   ],
   "source": [
    "expr = sp.cos(m * sp.pi * x / L) * sp.cos(n * sp.pi * x / L)\n",
    "integer1 = sp.integrate(expr, (x, -L, L))\n",
    "integer1\n"
   ]
  },
  {
   "cell_type": "code",
   "execution_count": 7,
   "metadata": {
    "collapsed": false
   },
   "outputs": [
    {
     "data": {
      "text/latex": [
       "$\\displaystyle \\left(\\sin{\\left(2 \\pi x \\right)} - \\sin{\\left(5 \\pi x \\right)}\\right) \\sin{\\left(\\pi n x \\right)}$"
      ],
      "text/plain": [
       "(sin(2*pi*x) - sin(5*pi*x))*sin(pi*n*x)"
      ]
     },
     "execution_count": 7,
     "metadata": {},
     "output_type": "execute_result"
    }
   ],
   "source": [
    "expr3 = (sp.sin(2 * sp.pi * x) - sp.sin(5 * sp.pi * x)) * sp.sin(n * sp.pi * x)\n",
    "expr3\n"
   ]
  },
  {
   "cell_type": "code",
   "execution_count": 8,
   "metadata": {
    "collapsed": false
   },
   "outputs": [
    {
     "data": {
      "text/latex": [
       "$\\displaystyle \\begin{cases} \\frac{1}{2} & \\text{for}\\: n = 2 \\\\- \\frac{1}{2} & \\text{for}\\: n = 5 \\\\0 & \\text{otherwise} \\end{cases}$"
      ],
      "text/plain": [
       "Piecewise((1/2, Eq(n, 2)), (-1/2, Eq(n, 5)), (0, True))"
      ]
     },
     "execution_count": 8,
     "metadata": {},
     "output_type": "execute_result"
    }
   ],
   "source": [
    "interger4 = sp.integrate(expr3, (x, 0, 1))\n",
    "interger4\n"
   ]
  },
  {
   "cell_type": "code",
   "execution_count": 6,
   "metadata": {
    "collapsed": false
   },
   "outputs": [
    {
     "data": {
      "text/latex": [
       "$\\displaystyle \\begin{cases} 0 & \\text{for}\\: n \\neq 48 \\\\1 & \\text{otherwise} \\end{cases}$"
      ],
      "text/plain": [
       "Piecewise((0, Ne(n, 48)), (1, True))"
      ]
     },
     "execution_count": 6,
     "metadata": {},
     "output_type": "execute_result"
    }
   ],
   "source": [
    "f = sp.cos(6 * sp.pi * x) * sp.cos(sp.pi * n * x / 8) * 2 / 8\n",
    "sp.integrate(f, (x, 0, 8))\n"
   ]
  },
  {
   "cell_type": "code",
   "execution_count": 11,
   "id": "a559a650",
   "metadata": {},
   "outputs": [
    {
     "data": {
      "text/latex": [
       "$\\displaystyle \\left[\\begin{matrix}0\\end{matrix}\\right]$"
      ],
      "text/plain": [
       "Matrix([[0]])"
      ]
     },
     "execution_count": 11,
     "metadata": {},
     "output_type": "execute_result"
    }
   ],
   "source": [
    "y = sp.Matrix([[1, 1, 1, 1]]).T\n",
    "y\n",
    "x = sp.Matrix([[1, -1, -1, 1]]).T\n",
    "x.T @ y\n"
   ]
  }
 ],
 "metadata": {
  "kernelspec": {
   "display_name": "Python 3 (ipykernel)",
   "language": "python",
   "name": "python3"
  },
  "language_info": {
   "codemirror_mode": {
    "name": "ipython",
    "version": 3
   },
   "file_extension": ".py",
   "mimetype": "text/x-python",
   "name": "python",
   "nbconvert_exporter": "python",
   "pygments_lexer": "ipython3",
   "version": "3.11.3"
  }
 },
 "nbformat": 4,
 "nbformat_minor": 5
}
