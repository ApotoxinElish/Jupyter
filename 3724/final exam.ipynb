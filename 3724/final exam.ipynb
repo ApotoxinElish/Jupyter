{
 "cells": [
  {
   "cell_type": "code",
   "execution_count": 2,
   "id": "32b991f9",
   "metadata": {},
   "outputs": [],
   "source": [
    "import sympy as sp\n",
    "import numpy as np"
   ]
  },
  {
   "cell_type": "code",
   "execution_count": 17,
   "id": "76387507",
   "metadata": {},
   "outputs": [
    {
     "data": {
      "text/plain": "Piecewise((L, (Eq(m, 0) & Eq(n, 0)) | (Eq(m, 0) & Eq(m, n) & Eq(n, 0)) | (Eq(m, 0) & Eq(n, 0) & Eq(m, -n)) | (Eq(m, 0) & Eq(m, n) & Eq(n, 0) & Eq(m, -n))), (L/2, Eq(m, n) | Eq(m, -n) | (Eq(m, 0) & Eq(m, n)) | (Eq(m, n) & Eq(n, 0)) | (Eq(m, 0) & Eq(m, -n)) | (Eq(m, n) & Eq(m, -n)) | (Eq(n, 0) & Eq(m, -n)) | (Eq(m, 0) & Eq(m, n) & Eq(m, -n)) | (Eq(m, n) & Eq(n, 0) & Eq(m, -n))), (0, True))",
      "text/latex": "$\\displaystyle \\begin{cases} L & \\text{for}\\: \\left(m = 0 \\wedge n = 0\\right) \\vee \\left(m = 0 \\wedge m = n \\wedge n = 0\\right) \\vee \\left(m = 0 \\wedge m = - n \\wedge n = 0\\right) \\vee \\left(m = 0 \\wedge m = - n \\wedge m = n \\wedge n = 0\\right) \\\\\\frac{L}{2} & \\text{for}\\: \\left(m = 0 \\wedge m = - n\\right) \\vee \\left(m = 0 \\wedge m = n\\right) \\vee \\left(m = - n \\wedge m = n\\right) \\vee \\left(m = n \\wedge n = 0\\right) \\vee \\left(m = - n \\wedge n = 0\\right) \\vee \\left(m = 0 \\wedge m = - n \\wedge m = n\\right) \\vee \\left(m = - n \\wedge m = n \\wedge n = 0\\right) \\vee m = - n \\vee m = n \\\\0 & \\text{otherwise} \\end{cases}$"
     },
     "execution_count": 17,
     "metadata": {},
     "output_type": "execute_result"
    }
   ],
   "source": [
    "x, L=sp.symbols(\"x\", real=True), sp.symbols(\"L\", positive=True, integer=True)\n",
    "m, n=sp.symbols(\"m n\", nonnegative=True,integer=True)\n",
    "y=sp.cos(m*sp.pi*x/L)*sp.cos(n*sp.pi*x/L)\n",
    "intergrate=sp.integrate(y, (x,0,L))\n",
    "intergrate"
   ]
  },
  {
   "cell_type": "markdown",
   "source": [
    "### Example:"
   ],
   "metadata": {
    "collapsed": false
   }
  },
  {
   "cell_type": "code",
   "execution_count": 7,
   "outputs": [
    {
     "name": "stdout",
     "output_type": "stream",
     "text": [
      "Piecewise((0, Ne(m, n)), (L/2, True))\n"
     ]
    }
   ],
   "source": [
    "#import sympy as sp\n",
    "#\n",
    "# x, L = sp.symbols('x L', real=True)\n",
    "# m, n = sp.symbols('m n', integer=True, positive=True)\n",
    "#\n",
    "# expr = sp.cos(m*sp.pi*x/L) * sp.cos(n*sp.pi*x/L)\n",
    "# integrated_expr = sp.integrate(expr, (x, 0, L))\n",
    "#\n",
    "# print(integrated_expr)"
   ],
   "metadata": {
    "collapsed": false
   }
  },
  {
   "cell_type": "code",
   "execution_count": 13,
   "outputs": [],
   "source": [
    "expr=sp.sin(m*sp.pi*x/L)*sp.sin(n*sp.pi*x/L)\n",
    "integer=sp.integrate(expr, (x, 0, L))"
   ],
   "metadata": {
    "collapsed": false
   }
  },
  {
   "cell_type": "code",
   "execution_count": 18,
   "outputs": [
    {
     "data": {
      "text/plain": "Piecewise((0, Eq(m, 0) | Eq(n, 0) | (Eq(m, 0) & Eq(n, 0)) | (Eq(m, 0) & Eq(m, n) & Eq(n, 0)) | (Eq(m, 0) & Eq(n, 0) & Eq(m, -n)) | (Eq(m, 0) & Eq(m, n) & Eq(n, 0) & Eq(m, -n))), (-L/2, Eq(m, -n) | (Eq(m, 0) & Eq(m, -n)) | (Eq(m, n) & Eq(m, -n)) | (Eq(n, 0) & Eq(m, -n)) | (Eq(m, 0) & Eq(m, n) & Eq(m, -n)) | (Eq(m, n) & Eq(n, 0) & Eq(m, -n))), (L/2, Eq(m, n) | (Eq(m, 0) & Eq(m, n)) | (Eq(m, n) & Eq(n, 0))), (0, True))",
      "text/latex": "$\\displaystyle \\begin{cases} 0 & \\text{for}\\: \\left(m = 0 \\wedge n = 0\\right) \\vee \\left(m = 0 \\wedge m = n \\wedge n = 0\\right) \\vee \\left(m = 0 \\wedge m = - n \\wedge n = 0\\right) \\vee \\left(m = 0 \\wedge m = - n \\wedge m = n \\wedge n = 0\\right) \\vee m = 0 \\vee n = 0 \\\\- \\frac{L}{2} & \\text{for}\\: \\left(m = 0 \\wedge m = - n\\right) \\vee \\left(m = - n \\wedge m = n\\right) \\vee \\left(m = - n \\wedge n = 0\\right) \\vee \\left(m = 0 \\wedge m = - n \\wedge m = n\\right) \\vee \\left(m = - n \\wedge m = n \\wedge n = 0\\right) \\vee m = - n \\\\\\frac{L}{2} & \\text{for}\\: \\left(m = 0 \\wedge m = n\\right) \\vee \\left(m = n \\wedge n = 0\\right) \\vee m = n \\\\0 & \\text{otherwise} \\end{cases}$"
     },
     "execution_count": 18,
     "metadata": {},
     "output_type": "execute_result"
    }
   ],
   "source": [
    "integer"
   ],
   "metadata": {
    "collapsed": false
   }
  },
  {
   "cell_type": "code",
   "execution_count": 16,
   "outputs": [
    {
     "data": {
      "text/plain": "Piecewise((2*L, (Eq(m, 0) & Eq(n, 0)) | (Eq(m, 0) & Eq(m, n) & Eq(n, 0)) | (Eq(m, 0) & Eq(n, 0) & Eq(m, -n)) | (Eq(m, 0) & Eq(m, n) & Eq(n, 0) & Eq(m, -n))), (L, Eq(m, n) | Eq(m, -n) | (Eq(m, 0) & Eq(m, n)) | (Eq(m, n) & Eq(n, 0)) | (Eq(m, 0) & Eq(m, -n)) | (Eq(m, n) & Eq(m, -n)) | (Eq(n, 0) & Eq(m, -n)) | (Eq(m, 0) & Eq(m, n) & Eq(m, -n)) | (Eq(m, n) & Eq(n, 0) & Eq(m, -n))), (0, True))",
      "text/latex": "$\\displaystyle \\begin{cases} 2 L & \\text{for}\\: \\left(m = 0 \\wedge n = 0\\right) \\vee \\left(m = 0 \\wedge m = n \\wedge n = 0\\right) \\vee \\left(m = 0 \\wedge m = - n \\wedge n = 0\\right) \\vee \\left(m = 0 \\wedge m = - n \\wedge m = n \\wedge n = 0\\right) \\\\L & \\text{for}\\: \\left(m = 0 \\wedge m = - n\\right) \\vee \\left(m = 0 \\wedge m = n\\right) \\vee \\left(m = - n \\wedge m = n\\right) \\vee \\left(m = n \\wedge n = 0\\right) \\vee \\left(m = - n \\wedge n = 0\\right) \\vee \\left(m = 0 \\wedge m = - n \\wedge m = n\\right) \\vee \\left(m = - n \\wedge m = n \\wedge n = 0\\right) \\vee m = - n \\vee m = n \\\\0 & \\text{otherwise} \\end{cases}$"
     },
     "execution_count": 16,
     "metadata": {},
     "output_type": "execute_result"
    }
   ],
   "source": [
    "expr=sp.cos(m*sp.pi*x/L)*sp.cos(n*sp.pi*x/L)\n",
    "integer1=sp.integrate(expr, (x, -L, L))\n",
    "integer1"
   ],
   "metadata": {
    "collapsed": false
   }
  },
  {
   "cell_type": "code",
   "execution_count": 19,
   "outputs": [
    {
     "data": {
      "text/plain": "(sin(2*pi*x) - sin(5*pi*x))*sin(pi*n*x)",
      "text/latex": "$\\displaystyle \\left(\\sin{\\left(2 \\pi x \\right)} - \\sin{\\left(5 \\pi x \\right)}\\right) \\sin{\\left(\\pi n x \\right)}$"
     },
     "execution_count": 19,
     "metadata": {},
     "output_type": "execute_result"
    }
   ],
   "source": [
    "expr3=(sp.sin(2*sp.pi*x)-sp.sin(5*sp.pi*x))*sp.sin(n*sp.pi*x)\n",
    "expr3"
   ],
   "metadata": {
    "collapsed": false
   }
  },
  {
   "cell_type": "code",
   "execution_count": 21,
   "outputs": [
    {
     "data": {
      "text/plain": "Piecewise((1/2, Eq(n, 2)), (-1/2, Eq(n, 5)), (0, True))",
      "text/latex": "$\\displaystyle \\begin{cases} \\frac{1}{2} & \\text{for}\\: n = 2 \\\\- \\frac{1}{2} & \\text{for}\\: n = 5 \\\\0 & \\text{otherwise} \\end{cases}$"
     },
     "execution_count": 21,
     "metadata": {},
     "output_type": "execute_result"
    }
   ],
   "source": [
    "interger4=sp.integrate(expr3, (x,0,1))\n",
    "interger4"
   ],
   "metadata": {
    "collapsed": false
   }
  },
  {
   "cell_type": "code",
   "execution_count": null,
   "outputs": [],
   "source": [],
   "metadata": {
    "collapsed": false
   }
  }
 ],
 "metadata": {
  "kernelspec": {
   "display_name": "Python 3 (ipykernel)",
   "language": "python",
   "name": "python3"
  },
  "language_info": {
   "codemirror_mode": {
    "name": "ipython",
    "version": 3
   },
   "file_extension": ".py",
   "mimetype": "text/x-python",
   "name": "python",
   "nbconvert_exporter": "python",
   "pygments_lexer": "ipython3",
   "version": "3.9.13"
  }
 },
 "nbformat": 4,
 "nbformat_minor": 5
}
