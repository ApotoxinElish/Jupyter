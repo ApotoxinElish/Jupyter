{
 "cells": [
  {
   "cell_type": "code",
   "execution_count": 1,
   "metadata": {},
   "outputs": [],
   "source": [
    "from sympy import *\n",
    "\n",
    "x, L, t, n = symbols(\"x L t n\")\n",
    "y = Function(\"y\")(x)\n"
   ]
  },
  {
   "cell_type": "code",
   "execution_count": 2,
   "metadata": {},
   "outputs": [
    {
     "data": {
      "text/latex": [
       "$\\displaystyle t y{\\left(x \\right)} + \\frac{d^{2}}{d x^{2}} y{\\left(x \\right)} = 0$"
      ],
      "text/plain": [
       "Eq(t*y(x) + Derivative(y(x), (x, 2)), 0)"
      ]
     },
     "execution_count": 2,
     "metadata": {},
     "output_type": "execute_result"
    }
   ],
   "source": [
    "y = Function(\"y\")(x)\n",
    "DE = Eq(y.diff(x, x) + t * y, 0)\n",
    "DE\n"
   ]
  },
  {
   "cell_type": "code",
   "execution_count": 3,
   "metadata": {},
   "outputs": [
    {
     "data": {
      "text/latex": [
       "$\\displaystyle y{\\left(x \\right)} = 0$"
      ],
      "text/plain": [
       "Eq(y(x), 0)"
      ]
     },
     "execution_count": 3,
     "metadata": {},
     "output_type": "execute_result"
    }
   ],
   "source": [
    "y = Function(\"y\")\n",
    "dsolve(DE, y(x), ics={y(0): 0, y(L): 0})\n"
   ]
  },
  {
   "cell_type": "code",
   "execution_count": 4,
   "metadata": {},
   "outputs": [
    {
     "data": {
      "text/latex": [
       "$\\displaystyle \\frac{d^{2}}{d x^{2}} y{\\left(x \\right)} + \\frac{\\pi^{2} y{\\left(x \\right)}}{L^{2}} = 0$"
      ],
      "text/plain": [
       "Eq(Derivative(y(x), (x, 2)) + pi**2*y(x)/L**2, 0)"
      ]
     },
     "execution_count": 4,
     "metadata": {},
     "output_type": "execute_result"
    }
   ],
   "source": [
    "y = Function(\"y\")(x)\n",
    "t = (pi / L) ** 2\n",
    "DE = Eq(y.diff(x, x) + t * y, 0)\n",
    "DE\n"
   ]
  },
  {
   "cell_type": "code",
   "execution_count": 5,
   "metadata": {},
   "outputs": [
    {
     "data": {
      "text/latex": [
       "$\\displaystyle y{\\left(x \\right)} = C_{2} e^{\\frac{i \\pi x}{L}} - C_{2} e^{- \\frac{i \\pi x}{L}}$"
      ],
      "text/plain": [
       "Eq(y(x), C2*exp(I*pi*x/L) - C2*exp(-I*pi*x/L))"
      ]
     },
     "execution_count": 5,
     "metadata": {},
     "output_type": "execute_result"
    }
   ],
   "source": [
    "y = Function(\"y\")\n",
    "dsolve(DE, y(x), ics={y(0): 0, y(L): 0})\n"
   ]
  },
  {
   "cell_type": "code",
   "execution_count": 6,
   "metadata": {},
   "outputs": [
    {
     "data": {
      "text/latex": [
       "$\\displaystyle \\frac{d^{2}}{d x^{2}} y{\\left(x \\right)} + \\frac{\\pi^{2} y{\\left(x \\right)}}{L^{2}} = 0$"
      ],
      "text/plain": [
       "Eq(Derivative(y(x), (x, 2)) + pi**2*y(x)/L**2, 0)"
      ]
     },
     "execution_count": 6,
     "metadata": {},
     "output_type": "execute_result"
    }
   ],
   "source": [
    "y = Function(\"y\")(x)\n",
    "DE = Eq(y.diff(x, x) + t * y, 0)\n",
    "DE\n"
   ]
  },
  {
   "cell_type": "code",
   "execution_count": 7,
   "metadata": {},
   "outputs": [
    {
     "data": {
      "text/latex": [
       "$\\displaystyle y{\\left(x \\right)} = C_{2} e^{\\frac{i \\pi x}{L}} + C_{2} e^{- \\frac{i \\pi x}{L}}$"
      ],
      "text/plain": [
       "Eq(y(x), C2*exp(I*pi*x/L) + C2*exp(-I*pi*x/L))"
      ]
     },
     "execution_count": 7,
     "metadata": {},
     "output_type": "execute_result"
    }
   ],
   "source": [
    "y = Function(\"y\")\n",
    "dsolve(DE, y(x), ics={y(x).diff(x).subs(x, 0): 0, y(x).diff(x).subs(x, L): 0})\n"
   ]
  },
  {
   "cell_type": "code",
   "execution_count": 8,
   "metadata": {},
   "outputs": [
    {
     "data": {
      "text/latex": [
       "$\\displaystyle \\frac{d^{2}}{d x^{2}} y{\\left(x \\right)} = 0$"
      ],
      "text/plain": [
       "Eq(Derivative(y(x), (x, 2)), 0)"
      ]
     },
     "execution_count": 8,
     "metadata": {},
     "output_type": "execute_result"
    }
   ],
   "source": [
    "y = Function(\"y\")(x)\n",
    "t = 0\n",
    "DE = Eq(y.diff(x, x) + t * y, 0)\n",
    "DE\n"
   ]
  },
  {
   "cell_type": "code",
   "execution_count": 9,
   "metadata": {},
   "outputs": [
    {
     "data": {
      "text/latex": [
       "$\\displaystyle y{\\left(x \\right)} = C_{1}$"
      ],
      "text/plain": [
       "Eq(y(x), C1)"
      ]
     },
     "execution_count": 9,
     "metadata": {},
     "output_type": "execute_result"
    }
   ],
   "source": [
    "y = Function(\"y\")\n",
    "dsolve(DE, y(x), ics={y(x).diff(x).subs(x, 0): 0, y(x).diff(x).subs(x, L): 0})\n"
   ]
  },
  {
   "cell_type": "code",
   "execution_count": 10,
   "metadata": {},
   "outputs": [
    {
     "data": {
      "text/latex": [
       "$\\displaystyle \\frac{d^{2}}{d x^{2}} y{\\left(x \\right)} + \\frac{\\pi^{2} y{\\left(x \\right)}}{L^{2}} = 0$"
      ],
      "text/plain": [
       "Eq(Derivative(y(x), (x, 2)) + pi**2*y(x)/L**2, 0)"
      ]
     },
     "execution_count": 10,
     "metadata": {},
     "output_type": "execute_result"
    }
   ],
   "source": [
    "y = Function(\"y\")(x)\n",
    "t = (pi / L) ** 2\n",
    "DE = Eq(y.diff(x, x) + t * y, 0)\n",
    "DE\n"
   ]
  },
  {
   "cell_type": "code",
   "execution_count": 11,
   "metadata": {},
   "outputs": [
    {
     "data": {
      "text/latex": [
       "$\\displaystyle y{\\left(x \\right)} = C_{2} e^{\\frac{i \\pi x}{L}} + C_{2} e^{- \\frac{i \\pi x}{L}}$"
      ],
      "text/plain": [
       "Eq(y(x), C2*exp(I*pi*x/L) + C2*exp(-I*pi*x/L))"
      ]
     },
     "execution_count": 11,
     "metadata": {},
     "output_type": "execute_result"
    }
   ],
   "source": [
    "y = Function(\"y\")\n",
    "dsolve(DE, y(x), ics={y(x).diff(x).subs(x, 0): 0, y(x).diff(x).subs(x, L): 0})\n"
   ]
  }
 ],
 "metadata": {
  "kernelspec": {
   "display_name": "Python 3",
   "language": "python",
   "name": "python3"
  },
  "language_info": {
   "codemirror_mode": {
    "name": "ipython",
    "version": 3
   },
   "file_extension": ".py",
   "mimetype": "text/x-python",
   "name": "python",
   "nbconvert_exporter": "python",
   "pygments_lexer": "ipython3",
   "version": "3.11.3"
  },
  "orig_nbformat": 4
 },
 "nbformat": 4,
 "nbformat_minor": 2
}
