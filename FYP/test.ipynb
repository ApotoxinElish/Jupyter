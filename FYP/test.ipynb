{
 "cells": [
  {
   "cell_type": "code",
   "execution_count": 7,
   "metadata": {},
   "outputs": [
    {
     "name": "stdout",
     "output_type": "stream",
     "text": [
      "回复完全控制以前都不能放松\n",
      "False\n"
     ]
    }
   ],
   "source": [
    "import re\n",
    "import tor\n",
    "\n",
    "text = \"回复@魏小河才不是乖乖的小盆宇:完全控制以前都不能放松\"\n",
    "at_pattern = re.compile(\"@\\S*:\", re.S)\n",
    "text = re.sub(at_pattern, \"\", text)\n",
    "at_pattern = re.compile(\"@\\S*:\", re.S)\n",
    "text = re.sub(at_pattern, \"\", text)\n",
    "print(text.strip())\n",
    "print(torch.cuda.is_available())"
   ]
  }
 ],
 "metadata": {
  "kernelspec": {
   "display_name": "Python 3",
   "language": "python",
   "name": "python3"
  },
  "language_info": {
   "codemirror_mode": {
    "name": "ipython",
    "version": 3
   },
   "file_extension": ".py",
   "mimetype": "text/x-python",
   "name": "python",
   "nbconvert_exporter": "python",
   "pygments_lexer": "ipython3",
   "version": "3.10.10"
  },
  "orig_nbformat": 4
 },
 "nbformat": 4,
 "nbformat_minor": 2
}
