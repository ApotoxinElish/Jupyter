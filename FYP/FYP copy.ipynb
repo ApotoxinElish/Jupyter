{
  "cells": [
    {
      "cell_type": "code",
      "execution_count": null,
      "metadata": {
        "colab": {
          "base_uri": "https://localhost:8080/"
        },
        "id": "nfOKN1k19_JM",
        "outputId": "aa34ed16-2c67-4ab5-8bc0-e1fad98ebc7c"
      },
      "outputs": [
        {
          "name": "stdout",
          "output_type": "stream",
          "text": [
            "Drive already mounted at /content/drive; to attempt to forcibly remount, call drive.mount(\"/content/drive\", force_remount=True).\n"
          ]
        }
      ],
      "source": [
        "import json\n",
        "import torch\n",
        "from torch.utils.data import Dataset, DataLoader\n",
        "from transformers import XLNetConfig, XLNetModel, XLNetTokenizer\n",
        "import torch.nn as nn\n",
        "import torch.nn.functional as F\n",
        "from tqdm import tqdm\n",
        "from sklearn.metrics import f1_score\n",
        "# from google.colab import drive\n",
        "\n",
        "# drive.mount(\"/content/drive\")\n"
      ]
    },
    {
      "cell_type": "code",
      "execution_count": null,
      "metadata": {
        "id": "_hUbOIkY-fRu"
      },
      "outputs": [],
      "source": [
        "def read_json(path):\n",
        "    data = []\n",
        "    with open(path, \"r\", encoding=\"utf-8\") as fp:\n",
        "        for line in fp:\n",
        "            data.append(json.loads(line))\n",
        "    return data\n"
      ]
    },
    {
      "cell_type": "code",
      "execution_count": null,
      "metadata": {
        "id": "Ec4yWClZ-fW6"
      },
      "outputs": [],
      "source": [
        "class BaselineData(Dataset):\n",
        "    def __init__(self, data, tokenizer, config):\n",
        "        self.data = data\n",
        "        self.tokenizer = tokenizer\n",
        "        self.pad_size = config.pad_size\n",
        "        self.label2id = config.label2id\n",
        "\n",
        "    def __len__(self):\n",
        "        return len(self.data)\n",
        "\n",
        "    def __getitem__(self, idx):\n",
        "        sentence = \"[SEP]\".join(\n",
        "            [self.data[idx][\"hashtag\"]] + self.data[idx][\"comments\"]\n",
        "        )\n",
        "\n",
        "        input_ids, attention_mask = self.__convert_to_id__(sentence)\n",
        "\n",
        "        if self.data[idx].get(\"attitudes\"):\n",
        "            label = self.__convert_label__(self.data[idx][\"attitudes\"])\n",
        "            return (\n",
        "                torch.tensor(input_ids),\n",
        "                torch.tensor(attention_mask),\n",
        "                torch.tensor(label),\n",
        "            )\n",
        "        else:\n",
        "            return (\n",
        "                torch.tensor(input_ids),\n",
        "                torch.tensor(attention_mask),\n",
        "            )\n",
        "\n",
        "    def __convert_to_id__(self, sentence):\n",
        "        ids = self.tokenizer.encode_plus(sentence)\n",
        "        input_ids = self.__padding__(ids[\"input_ids\"])\n",
        "        attention_mask = self.__padding__(ids[\"attention_mask\"])\n",
        "\n",
        "        return input_ids, attention_mask\n",
        "\n",
        "    def __convert_label__(self, label):\n",
        "        onehot_label = [0] * 24\n",
        "        for i in label:\n",
        "            onehot_label[self.label2id[i]] = 1\n",
        "        return onehot_label\n",
        "\n",
        "    def __padding__(self, sentence):\n",
        "        sentence = sentence[: self.pad_size]  # 长就截断\n",
        "        sentence = sentence + [0] * (self.pad_size - len(sentence))  # 短就补充\n",
        "        return sentence\n"
      ]
    },
    {
      "cell_type": "code",
      "execution_count": null,
      "metadata": {
        "id": "XS5_wE0l-fa6"
      },
      "outputs": [],
      "source": [
        "class Model(nn.Module):\n",
        "    def __init__(self, config):\n",
        "        super().__init__()\n",
        "        self.config = config\n",
        "        self.bert = BertModel.from_pretrained(config.PTM)\n",
        "        self.bert_config = BertConfig.from_pretrained(config.PTM)\n",
        "        self.fc = nn.Linear(self.bert_config.hidden_size, self.bert_config.hidden_size)\n",
        "        self.fc1 = nn.Linear(self.bert_config.hidden_size, config.label_num)\n",
        "        self.act = nn.ReLU()\n",
        "        self.sigmoid = nn.Sigmoid()\n",
        "\n",
        "    def forward(self, x):\n",
        "        x = self.bert(input_ids=x[0], attention_mask=x[1]).pooler_output\n",
        "        x = self.sigmoid(self.fc1(self.act(self.fc(x))))\n",
        "        return x\n"
      ]
    },
    {
      "cell_type": "code",
      "execution_count": null,
      "metadata": {
        "id": "Lg9YwUQi-fds"
      },
      "outputs": [],
      "source": [
        "def train(config, dataset, model, optimizer, valid_dataset):\n",
        "    max_scores = 0\n",
        "    for epoch in range(config.epochs):\n",
        "        with tqdm(total=len(dataset)) as pbar:\n",
        "            for idx, data in enumerate(dataset):\n",
        "                x = [data[0].long().to(config.device), data[1].long().to(config.device)]\n",
        "                y = data[2].float().to(config.device)\n",
        "                y_hat = model(x)\n",
        "                loss = F.binary_cross_entropy(y_hat, y)\n",
        "                optimizer.zero_grad()\n",
        "                loss.backward()\n",
        "                optimizer.step()\n",
        "                pbar.set_postfix({\"loss\": \"{:.4f}\".format(loss)})\n",
        "                pbar.update(1)\n",
        "        scores = valid(config, valid_dataset, model)\n",
        "        if scores >= max_scores:\n",
        "            max_scores = scores\n",
        "            saved_model = model\n",
        "    return saved_model\n",
        "\n",
        "\n",
        "def valid(config, dataset, model):\n",
        "    true = []\n",
        "    pred = []\n",
        "    with torch.no_grad():\n",
        "        for idx, data in enumerate(dataset):\n",
        "            x = [data[0].long().to(config.device), data[1].long().to(config.device)]\n",
        "            y = data[2].float().to(config.device).view(-1, 24).tolist()\n",
        "            y_hat = model(x).view(-1, 24).tolist()\n",
        "            true.extend(y)\n",
        "            pred.extend(y_hat)\n",
        "\n",
        "    pred = [[1 if i >= 0.5 else 0 for i in j] for j in pred]\n",
        "\n",
        "    micro_f1 = f1_score(pred, true, average=\"micro\")\n",
        "    macro_f1 = f1_score(pred, true, average=\"macro\")\n",
        "    print(\"micro_f1: {:.4f}\".format(micro_f1))\n",
        "    print(\"macro_f1: {:.4f}\".format(macro_f1))\n",
        "    return micro_f1 * 0.4 + macro_f1 * 0.6\n",
        "\n",
        "\n",
        "def generate_test_result(config, dataset, model):\n",
        "    with torch.no_grad():\n",
        "        predict = []\n",
        "        for idx, data in enumerate(dataset):\n",
        "            x = [data[0].long().to(config.device), data[1].long().to(config.device)]\n",
        "            predict.extend(model(x).view(-1, 24).tolist())\n",
        "    with open(\"submit\", \"w\", encoding=\"utf-8\") as f:\n",
        "        for i in range(len(predict)):\n",
        "            line = []\n",
        "            for j in range(len(predict[i])):\n",
        "                if predict[i][j] >= 0.5:\n",
        "                    line.append(config.id2label[j])\n",
        "            f.write(\" \".join([str(i)] + line))\n",
        "            f.write(\"\\n\")\n"
      ]
    },
    {
      "cell_type": "code",
      "execution_count": null,
      "metadata": {
        "id": "ItHXTZ7eCPs2"
      },
      "outputs": [],
      "source": [
        "class Config:\n",
        "    def __init__(self):\n",
        "        self.pad_size = 500\n",
        "        self.batch_size = 24\n",
        "        self.epochs = 15\n",
        "        self.PTM = \"bert-base-chinese\"\n",
        "        self.label_num = 24\n",
        "        self.device = \"cuda:0\"\n",
        "        self.lr = 5e-5\n",
        "\n",
        "        label_dic = [\n",
        "            \"[微笑]\",\n",
        "            \"[嘻嘻]\",\n",
        "            \"[笑cry]\",\n",
        "            \"[怒]\",\n",
        "            \"[泪]\",\n",
        "            \"[允悲]\",\n",
        "            \"[憧憬]\",\n",
        "            \"[doge]\",\n",
        "            \"[并不简单]\",\n",
        "            \"[思考]\",\n",
        "            \"[费解]\",\n",
        "            \"[吃惊]\",\n",
        "            \"[拜拜]\",\n",
        "            \"[吃瓜]\",\n",
        "            \"[赞]\",\n",
        "            \"[心]\",\n",
        "            \"[伤心]\",\n",
        "            \"[蜡烛]\",\n",
        "            \"[给力]\",\n",
        "            \"[威武]\",\n",
        "            \"[跪了]\",\n",
        "            \"[中国赞]\",\n",
        "            \"[给你小心心]\",\n",
        "            \"[酸]\",\n",
        "        ]\n",
        "\n",
        "        self.id2label = {k: v for k, v in enumerate(label_dic)}  # 用于标签的部分\n",
        "        self.label2id = {v: k for k, v in enumerate(label_dic)}\n"
      ]
    },
    {
      "cell_type": "code",
      "execution_count": null,
      "metadata": {
        "id": "NdzMgbaxCTaF"
      },
      "outputs": [],
      "source": [
        "config = Config()\n",
        "train_data = read_json(\"/content/drive/My Drive/FYP_Dataset/train.json\")\n",
        "valid_data = read_json(\"/content/drive/My Drive/FYP_Dataset/valid.json\")\n",
        "test_data = read_json(\"/content/drive/My Drive/FYP_Dataset/test.json\")\n",
        "\n",
        "tokenizer = BertTokenizer.from_pretrained(config.PTM)\n",
        "\n",
        "train_dataloader = DataLoader(\n",
        "    BaselineData(train_data, tokenizer, config), batch_size=config.batch_size\n",
        ")\n",
        "valid_dataloader = DataLoader(\n",
        "    BaselineData(valid_data, tokenizer, config), batch_size=config.batch_size\n",
        ")\n",
        "test_dataloader = DataLoader(BaselineData(test_data, tokenizer, config), batch_size=1)\n"
      ]
    },
    {
      "cell_type": "code",
      "execution_count": null,
      "metadata": {
        "colab": {
          "base_uri": "https://localhost:8080/"
        },
        "id": "YldSf9yy-7X3",
        "outputId": "0bbe51f8-c3b9-49e2-8e89-e4769832a01f"
      },
      "outputs": [
        {
          "name": "stderr",
          "output_type": "stream",
          "text": [
            "Some weights of the model checkpoint at bert-base-chinese were not used when initializing BertModel: ['cls.predictions.transform.LayerNorm.bias', 'cls.predictions.decoder.weight', 'cls.seq_relationship.weight', 'cls.predictions.transform.LayerNorm.weight', 'cls.predictions.transform.dense.bias', 'cls.predictions.transform.dense.weight', 'cls.predictions.bias', 'cls.seq_relationship.bias']\n",
            "- This IS expected if you are initializing BertModel from the checkpoint of a model trained on another task or with another architecture (e.g. initializing a BertForSequenceClassification model from a BertForPreTraining model).\n",
            "- This IS NOT expected if you are initializing BertModel from the checkpoint of a model that you expect to be exactly identical (initializing a BertForSequenceClassification model from a BertForSequenceClassification model).\n"
          ]
        }
      ],
      "source": [
        "model = Model(config).to(config.device)\n",
        "optimizer = torch.optim.AdamW(model.parameters(), config.lr)\n"
      ]
    },
    {
      "cell_type": "code",
      "execution_count": null,
      "metadata": {
        "colab": {
          "base_uri": "https://localhost:8080/"
        },
        "id": "YWJVjUIf-7aW",
        "outputId": "994d8a68-f072-4c13-cf54-99fa78ad6423"
      },
      "outputs": [
        {
          "name": "stderr",
          "output_type": "stream",
          "text": [
            "  7%|▋         | 22/300 [00:14<03:02,  1.52it/s, loss=0.3815]Token indices sequence length is longer than the specified maximum sequence length for this model (547 > 512). Running this sequence through the model will result in indexing errors\n",
            "100%|██████████| 300/300 [03:20<00:00,  1.50it/s, loss=0.2815]\n"
          ]
        },
        {
          "name": "stdout",
          "output_type": "stream",
          "text": [
            "micro_f1: 0.3827\n",
            "micro_f1: 0.1518\n"
          ]
        },
        {
          "name": "stderr",
          "output_type": "stream",
          "text": [
            "100%|██████████| 300/300 [03:20<00:00,  1.49it/s, loss=0.2315]\n"
          ]
        },
        {
          "name": "stdout",
          "output_type": "stream",
          "text": [
            "micro_f1: 0.4715\n",
            "micro_f1: 0.2143\n"
          ]
        },
        {
          "name": "stderr",
          "output_type": "stream",
          "text": [
            "100%|██████████| 300/300 [03:21<00:00,  1.49it/s, loss=0.1921]\n"
          ]
        },
        {
          "name": "stdout",
          "output_type": "stream",
          "text": [
            "micro_f1: 0.5124\n",
            "micro_f1: 0.2548\n"
          ]
        },
        {
          "name": "stderr",
          "output_type": "stream",
          "text": [
            "100%|██████████| 300/300 [03:21<00:00,  1.49it/s, loss=0.1679]\n"
          ]
        },
        {
          "name": "stdout",
          "output_type": "stream",
          "text": [
            "micro_f1: 0.5189\n",
            "micro_f1: 0.2735\n"
          ]
        },
        {
          "name": "stderr",
          "output_type": "stream",
          "text": [
            "100%|██████████| 300/300 [03:21<00:00,  1.49it/s, loss=0.1339]\n"
          ]
        },
        {
          "name": "stdout",
          "output_type": "stream",
          "text": [
            "micro_f1: 0.5302\n",
            "micro_f1: 0.2800\n"
          ]
        },
        {
          "name": "stderr",
          "output_type": "stream",
          "text": [
            "100%|██████████| 300/300 [03:21<00:00,  1.49it/s, loss=0.1089]\n"
          ]
        },
        {
          "name": "stdout",
          "output_type": "stream",
          "text": [
            "micro_f1: 0.5363\n",
            "micro_f1: 0.2946\n"
          ]
        },
        {
          "name": "stderr",
          "output_type": "stream",
          "text": [
            "100%|██████████| 300/300 [03:21<00:00,  1.49it/s, loss=0.1006]\n"
          ]
        },
        {
          "name": "stdout",
          "output_type": "stream",
          "text": [
            "micro_f1: 0.5304\n",
            "micro_f1: 0.3049\n"
          ]
        },
        {
          "name": "stderr",
          "output_type": "stream",
          "text": [
            "100%|██████████| 300/300 [03:21<00:00,  1.49it/s, loss=0.0628]\n"
          ]
        },
        {
          "name": "stdout",
          "output_type": "stream",
          "text": [
            "micro_f1: 0.5328\n",
            "micro_f1: 0.3024\n"
          ]
        },
        {
          "name": "stderr",
          "output_type": "stream",
          "text": [
            "100%|██████████| 300/300 [03:21<00:00,  1.49it/s, loss=0.0457]\n"
          ]
        },
        {
          "name": "stdout",
          "output_type": "stream",
          "text": [
            "micro_f1: 0.5364\n",
            "micro_f1: 0.3228\n"
          ]
        },
        {
          "name": "stderr",
          "output_type": "stream",
          "text": [
            "100%|██████████| 300/300 [03:21<00:00,  1.49it/s, loss=0.0354]\n"
          ]
        },
        {
          "name": "stdout",
          "output_type": "stream",
          "text": [
            "micro_f1: 0.5410\n",
            "micro_f1: 0.3249\n"
          ]
        },
        {
          "name": "stderr",
          "output_type": "stream",
          "text": [
            "100%|██████████| 300/300 [03:20<00:00,  1.49it/s, loss=0.0226]\n"
          ]
        },
        {
          "name": "stdout",
          "output_type": "stream",
          "text": [
            "micro_f1: 0.5413\n",
            "micro_f1: 0.3448\n"
          ]
        },
        {
          "name": "stderr",
          "output_type": "stream",
          "text": [
            "100%|██████████| 300/300 [03:21<00:00,  1.49it/s, loss=0.0200]\n"
          ]
        },
        {
          "name": "stdout",
          "output_type": "stream",
          "text": [
            "micro_f1: 0.5496\n",
            "micro_f1: 0.3474\n"
          ]
        },
        {
          "name": "stderr",
          "output_type": "stream",
          "text": [
            "100%|██████████| 300/300 [03:21<00:00,  1.49it/s, loss=0.0077]\n"
          ]
        },
        {
          "name": "stdout",
          "output_type": "stream",
          "text": [
            "micro_f1: 0.5503\n",
            "micro_f1: 0.3545\n"
          ]
        },
        {
          "name": "stderr",
          "output_type": "stream",
          "text": [
            "100%|██████████| 300/300 [03:21<00:00,  1.49it/s, loss=0.0064]\n"
          ]
        },
        {
          "name": "stdout",
          "output_type": "stream",
          "text": [
            "micro_f1: 0.5494\n",
            "micro_f1: 0.3679\n"
          ]
        },
        {
          "name": "stderr",
          "output_type": "stream",
          "text": [
            "100%|██████████| 300/300 [03:21<00:00,  1.49it/s, loss=0.0041]\n"
          ]
        },
        {
          "name": "stdout",
          "output_type": "stream",
          "text": [
            "micro_f1: 0.5442\n",
            "micro_f1: 0.3591\n"
          ]
        }
      ],
      "source": [
        "best_model = train(config, train_dataloader, model, optimizer, valid_dataloader)\n",
        "generate_test_result(config, test_dataloader, best_model)\n"
      ]
    }
  ],
  "metadata": {
    "accelerator": "GPU",
    "colab": {
      "provenance": []
    },
    "gpuClass": "premium",
    "kernelspec": {
      "display_name": "Python 3",
      "name": "python3"
    },
    "language_info": {
      "name": "python"
    }
  },
  "nbformat": 4,
  "nbformat_minor": 0
}
